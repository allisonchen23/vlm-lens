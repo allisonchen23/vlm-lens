{
 "cells": [
  {
   "cell_type": "code",
   "execution_count": 1,
   "id": "6a4c485d",
   "metadata": {},
   "outputs": [
    {
     "name": "stderr",
     "output_type": "stream",
     "text": [
      "/n/fs/ac-project/anaconda3/envs/vlm-lens-base/lib/python3.10/site-packages/tqdm/auto.py:21: TqdmWarning: IProgress not found. Please update jupyter and ipywidgets. See https://ipywidgets.readthedocs.io/en/stable/user_install.html\n",
      "  from .autonotebook import tqdm as notebook_tqdm\n"
     ]
    }
   ],
   "source": [
    "%load_ext autoreload\n",
    "%autoreload 2\n",
    "\n",
    "import io\n",
    "import matplotlib.pyplot as plt\n",
    "import numpy as np\n",
    "import os, sys\n",
    "from scipy.stats import spearmanr\n",
    "import sqlite3\n",
    "import torch\n",
    "from tqdm import tqdm\n",
    "\n",
    "sys.path.insert(0, '../src')\n",
    "sys.path.insert(1, '..')\n",
    "\n",
    "from main import get_model\n",
    "from models.config import Config, IMAGE_TOKEN_IDS\n",
    "import db_utils, visualizations, utils, similarity_utils"
   ]
  },
  {
   "cell_type": "code",
   "execution_count": null,
   "id": "f7d191bb",
   "metadata": {},
   "outputs": [],
   "source": [
    "db_path = \"../output/LLaVA-1.5-7B/AttentionValues\"\n",
    "# Given data base path\n",
    "# Get mean representations (potentially extracting visual representations) so we have 1 representation / image\n",
    "# Two option:\n",
    "    # K-means (run over multiple levels of K to get lowest error)\n",
    "    # Hierarchical clustering\n",
    "\n",
    "# TODO: project data into 2D using tSNE -> plot and show clusters based on color\n",
    "# TODO: 10/27/2025 -- on HOLD for now"
   ]
  }
 ],
 "metadata": {
  "kernelspec": {
   "display_name": "vlm-lens-base",
   "language": "python",
   "name": "python3"
  },
  "language_info": {
   "codemirror_mode": {
    "name": "ipython",
    "version": 3
   },
   "file_extension": ".py",
   "mimetype": "text/x-python",
   "name": "python",
   "nbconvert_exporter": "python",
   "pygments_lexer": "ipython3",
   "version": "3.10.18"
  }
 },
 "nbformat": 4,
 "nbformat_minor": 5
}

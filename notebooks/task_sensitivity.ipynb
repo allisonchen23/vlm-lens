{
 "cells": [
  {
   "cell_type": "code",
   "execution_count": 5,
   "id": "41368127",
   "metadata": {},
   "outputs": [
    {
     "name": "stdout",
     "output_type": "stream",
     "text": [
      "The autoreload extension is already loaded. To reload it, use:\n",
      "  %reload_ext autoreload\n"
     ]
    }
   ],
   "source": [
    "%load_ext autoreload\n",
    "%autoreload 2\n",
    "\n",
    "import os, sys\n",
    "import torch\n",
    "\n",
    "sys.path.insert(0, '../src')\n",
    "sys.path.insert(0, '..')\n",
    "import utils\n",
    "from models.config import Config, IMAGE_TOKEN_IDS\n",
    "from main import get_model"
   ]
  },
  {
   "cell_type": "code",
   "execution_count": 2,
   "id": "819e5d27",
   "metadata": {},
   "outputs": [
    {
     "name": "stdout",
     "output_type": "stream",
     "text": [
      "Saved file to ../configs/models/qwen/TaskSensitivity/Qwen2-VL-7B-Instruct-TaskSensitivity-Prompt_1.yaml\n",
      "Saved file to ../configs/models/qwen/TaskSensitivity/Qwen2-VL-7B-Instruct-TaskSensitivity-Prompt_2.yaml\n",
      "Saved file to ../configs/models/qwen/TaskSensitivity/Qwen2-VL-7B-Instruct-TaskSensitivity-Prompt_3.yaml\n",
      "Saved file to ../configs/models/qwen/TaskSensitivity/Qwen2-VL-7B-Instruct-TaskSensitivity-Prompt_4.yaml\n",
      "Saved file to ../configs/models/qwen/TaskSensitivity/Qwen2-VL-7B-Instruct-TaskSensitivity-Prompt_5.yaml\n",
      "Saved file to ../configs/models/qwen/TaskSensitivity/Qwen2-VL-7B-Instruct-TaskSensitivity-Prompt_6.yaml\n",
      "Saved file to ../configs/models/qwen/TaskSensitivity/Qwen2-VL-7B-Instruct-TaskSensitivity-Prompt_7.yaml\n",
      "Saved file to ../configs/models/qwen/TaskSensitivity/Qwen2-VL-7B-Instruct-TaskSensitivity-Prompt_8.yaml\n",
      "Saved file to ../configs/models/qwen/TaskSensitivity/Qwen2-VL-7B-Instruct-TaskSensitivity-Prompt_9.yaml\n",
      "Saved file to ../configs/models/qwen/TaskSensitivity/Qwen2-VL-7B-Instruct-TaskSensitivity-Prompt_10.yaml\n",
      "11\n"
     ]
    }
   ],
   "source": [
    "default_config_path = \"../configs/models/qwen/TaskSensitivity/Qwen2-VL-7B-Instruct-TaskSensitivity-Default.yaml\"\n",
    "overwrite_configs = True\n",
    "prompts = [\n",
    "    \"What are the (x, y) coordinates of this person's left eye?\",\n",
    "    \"What is the color of this person's clothes?\",\n",
    "    \"What is the person's hair texture?\",\n",
    "    \"What is the name of this hairstyle?\",\n",
    "    \"Where was this photo taken?\",\n",
    "    \"Who is this person?\",\n",
    "    \"What country is this person from?\",\n",
    "    \"What does (or did) this person do for a living?\",\n",
    "    \"Who is this person's mother?\",\n",
    "    \"What is this person's country most known for?\"\n",
    "]\n",
    "\n",
    "config = utils.read_file(default_config_path)\n",
    "\n",
    "config_paths = [default_config_path]\n",
    "# Make config files\n",
    "for idx, prompt in enumerate(prompts):\n",
    "    config['prompt'] = prompt\n",
    "    config['output_db'] = config['output_db'].replace(\"Default\", \"Prompt_{}\".format(idx+1))\n",
    "    save_path = default_config_path.replace(\"Default\", \"Prompt_{}\".format(idx+1))\n",
    "    utils.write_file(config, save_path, overwrite=overwrite_configs)\n",
    "    config_paths.append(save_path)\n",
    "\n",
    "print(len(config_paths)) # 1 default + 10 prompts"
   ]
  },
  {
   "cell_type": "code",
   "execution_count": 6,
   "id": "227a65f4",
   "metadata": {},
   "outputs": [
    {
     "ename": "ValueError",
     "evalue": "Device set to cuda but no GPU found for this machine",
     "output_type": "error",
     "traceback": [
      "\u001b[0;31m---------------------------------------------------------------------------\u001b[0m",
      "\u001b[0;31mValueError\u001b[0m                                Traceback (most recent call last)",
      "Cell \u001b[0;32mIn[6], line 4\u001b[0m\n\u001b[1;32m      1\u001b[0m \u001b[38;5;28;01mfor\u001b[39;00m config_path \u001b[38;5;129;01min\u001b[39;00m config_paths:\n\u001b[1;32m      2\u001b[0m     sys\u001b[38;5;241m.\u001b[39margv \u001b[38;5;241m=\u001b[39m [\u001b[38;5;124m'\u001b[39m\u001b[38;5;124mnotebooks/task_sensitivity.ipynb\u001b[39m\u001b[38;5;124m'\u001b[39m,\n\u001b[1;32m      3\u001b[0m             \u001b[38;5;124m'\u001b[39m\u001b[38;5;124m--config\u001b[39m\u001b[38;5;124m'\u001b[39m, config_path]\n\u001b[0;32m----> 4\u001b[0m     config \u001b[38;5;241m=\u001b[39m \u001b[43mConfig\u001b[49m\u001b[43m(\u001b[49m\u001b[43m)\u001b[49m\n\u001b[1;32m      5\u001b[0m     model \u001b[38;5;241m=\u001b[39m get_model(config\u001b[38;5;241m.\u001b[39marchitecture, config)\n\u001b[1;32m      7\u001b[0m     n_modules \u001b[38;5;241m=\u001b[39m \u001b[38;5;241m0\u001b[39m\n",
      "File \u001b[0;32m/n/fs/ac-vlm/vlm-lens/notebooks/../src/models/config.py:317\u001b[0m, in \u001b[0;36mConfig.__init__\u001b[0;34m(self, architecture, model_path, module, prompt)\u001b[0m\n\u001b[1;32m    314\u001b[0m \u001b[38;5;66;03m# now sets the specific device, first does a check to make sure that if\u001b[39;00m\n\u001b[1;32m    315\u001b[0m \u001b[38;5;66;03m# the user wants to use cuda that it is available\u001b[39;00m\n\u001b[1;32m    316\u001b[0m \u001b[38;5;28;01mif\u001b[39;00m \u001b[38;5;124m'\u001b[39m\u001b[38;5;124mcuda\u001b[39m\u001b[38;5;124m'\u001b[39m \u001b[38;5;129;01min\u001b[39;00m \u001b[38;5;28mself\u001b[39m\u001b[38;5;241m.\u001b[39mdevice \u001b[38;5;129;01mand\u001b[39;00m \u001b[38;5;129;01mnot\u001b[39;00m torch\u001b[38;5;241m.\u001b[39mcuda\u001b[38;5;241m.\u001b[39mis_available():\n\u001b[0;32m--> 317\u001b[0m     \u001b[38;5;28;01mraise\u001b[39;00m \u001b[38;5;167;01mValueError\u001b[39;00m(\u001b[38;5;124m'\u001b[39m\u001b[38;5;124mDevice set to cuda but no GPU found for this machine\u001b[39m\u001b[38;5;124m'\u001b[39m)\n\u001b[1;32m    319\u001b[0m \u001b[38;5;28mself\u001b[39m\u001b[38;5;241m.\u001b[39mdevice \u001b[38;5;241m=\u001b[39m torch\u001b[38;5;241m.\u001b[39mdevice(\u001b[38;5;28mself\u001b[39m\u001b[38;5;241m.\u001b[39mdevice)\n\u001b[1;32m    320\u001b[0m \u001b[38;5;28mself\u001b[39m\u001b[38;5;241m.\u001b[39mDB_TABLE_NAME \u001b[38;5;241m=\u001b[39m \u001b[38;5;124m'\u001b[39m\u001b[38;5;124mtensors\u001b[39m\u001b[38;5;124m'\u001b[39m\n",
      "\u001b[0;31mValueError\u001b[0m: Device set to cuda but no GPU found for this machine"
     ]
    }
   ],
   "source": [
    "for config_path in config_paths:\n",
    "    sys.argv = ['notebooks/task_sensitivity.ipynb',\n",
    "            '--config', config_path]\n",
    "    config = Config()\n",
    "    model = get_model(config.architecture, config)\n",
    "\n",
    "    n_modules = 0\n",
    "    layer_names = []\n",
    "    for name, module in model.model.named_modules():\n",
    "        if model.config.matches_module(name):\n",
    "            print(name)\n",
    "            layer_names.append(name)\n",
    "            n_modules += 1\n",
    "    utils.informal_log(\"{} modules matched\".format(n_modules))\n",
    "    break"
   ]
  },
  {
   "cell_type": "code",
   "execution_count": 7,
   "id": "d39031c8",
   "metadata": {},
   "outputs": [
    {
     "name": "stdout",
     "output_type": "stream",
     "text": [
      "False\n"
     ]
    }
   ],
   "source": [
    "print(torch.cuda.is_available())"
   ]
  },
  {
   "cell_type": "code",
   "execution_count": null,
   "id": "bb2a1313",
   "metadata": {},
   "outputs": [],
   "source": []
  }
 ],
 "metadata": {
  "kernelspec": {
   "display_name": "vlm-lens-base",
   "language": "python",
   "name": "python3"
  },
  "language_info": {
   "codemirror_mode": {
    "name": "ipython",
    "version": 3
   },
   "file_extension": ".py",
   "mimetype": "text/x-python",
   "name": "python",
   "nbconvert_exporter": "python",
   "pygments_lexer": "ipython3",
   "version": "3.10.18"
  }
 },
 "nbformat": 4,
 "nbformat_minor": 5
}

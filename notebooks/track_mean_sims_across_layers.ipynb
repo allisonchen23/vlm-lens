{
 "cells": [
  {
   "cell_type": "code",
   "execution_count": 2,
   "id": "9bb1f741",
   "metadata": {},
   "outputs": [
    {
     "name": "stderr",
     "output_type": "stream",
     "text": [
      "/n/fs/ac-project/anaconda3/envs/vlm-lens-base/lib/python3.10/site-packages/tqdm/auto.py:21: TqdmWarning: IProgress not found. Please update jupyter and ipywidgets. See https://ipywidgets.readthedocs.io/en/stable/user_install.html\n",
      "  from .autonotebook import tqdm as notebook_tqdm\n"
     ]
    }
   ],
   "source": [
    "%load_ext autoreload\n",
    "%autoreload 2\n",
    "\n",
    "import matplotlib.pyplot as plt\n",
    "import numpy as np\n",
    "import os, sys\n",
    "from scipy.stats import spearmanr\n",
    "import sqlite3\n",
    "import torch\n",
    "from tqdm import tqdm\n",
    "\n",
    "sys.path.insert(0, '../src')\n",
    "sys.path.insert(1, '..')\n",
    "\n",
    "from main import get_model\n",
    "from models.config import Config, IMAGE_TOKEN_IDS\n",
    "import db_utils, visualizations, utils, similarity_utils"
   ]
  },
  {
   "cell_type": "markdown",
   "id": "f137f261",
   "metadata": {},
   "source": [
    "# Util Functions"
   ]
  },
  {
   "cell_type": "code",
   "execution_count": null,
   "id": "0d4dffb6",
   "metadata": {},
   "outputs": [],
   "source": [
    "# For each layer, calculate the mean similarity and the norm\n",
    "def plot_similarities(module_names,\n",
    "                      module_embeddings,\n",
    "                      module_similarities,\n",
    "                      vision_key,\n",
    "                      model_name=''):\n",
    "    '''\n",
    "    Given list of module names, image embeddings (vision and text + vision), and similarities\n",
    "    plot mean similarity score for each layer\n",
    "\n",
    "    Arg(s):\n",
    "        module_names : list[str]\n",
    "        module_embeddings : list[2D np.array]\n",
    "        module_similarities : list[1D np.array]\n",
    "    '''\n",
    "    mean_embeddings = {}\n",
    "    mean_similarities = {}\n",
    "    for idx, (name, embs, sims) in enumerate(zip(module_names, module_embeddings, module_similarities)):\n",
    "        # Key is based on vision vs text\n",
    "        key = name.split(\".\")[0]\n",
    "        # If we are isolating vision token embeddings\n",
    "        if \"-\" in name:\n",
    "            key += \"-{}\".format(name.split(\"-\")[1])\n",
    "        if key in mean_embeddings:\n",
    "            mean_embeddings[key].append(np.mean(embs))\n",
    "        else:\n",
    "            mean_embeddings[key] = [np.mean(embs)]\n",
    "\n",
    "        if key in mean_similarities:\n",
    "            mean_similarities[key].append(np.mean(sims))\n",
    "        else:\n",
    "            mean_similarities[key] = [np.mean(sims)]\n",
    "\n",
    "    # Plot mean image-pair similarity scores by layer\n",
    "    xs = []\n",
    "    ys = []\n",
    "    labels = []\n",
    "    n_vision_layers = len(mean_embeddings[vision_key])\n",
    "    for k, v in mean_similarities.items():\n",
    "        if k.startswith(\"model\"):\n",
    "            xs.append([i + n_vision_layers for i in range(len(v))])\n",
    "        else:\n",
    "            xs.append([i for i in range(len(v))])\n",
    "        ys.append(v)\n",
    "        labels.append(\"{} blocks\".format(k))\n",
    "\n",
    "    print(ys)\n",
    "    visualizations.plot(\n",
    "        xs=xs,\n",
    "        ys=ys,\n",
    "        labels=labels,\n",
    "        alpha=0.8,\n",
    "        xlabel='Layer of {} Model'.format(model_name),\n",
    "        ylabel='Mean Image Pairwise Similarity (0-1)',\n",
    "        show=True\n",
    "    )\n"
   ]
  },
  {
   "cell_type": "markdown",
   "id": "bcecc1eb",
   "metadata": {},
   "source": [
    "# Run model; collect image-pair similarities at each layer; compute mean at each layer; graph similarity score vs layer"
   ]
  },
  {
   "cell_type": "code",
   "execution_count": 37,
   "id": "e49ffa81",
   "metadata": {},
   "outputs": [
    {
     "name": "stderr",
     "output_type": "stream",
     "text": [
      "Loading checkpoint shards: 100%|██████████| 3/3 [00:00<00:00, 11.49it/s]\n"
     ]
    },
    {
     "name": "stdout",
     "output_type": "stream",
     "text": [
      "Using llava-1.5-7b-hf\n",
      "7.063B parameters\n",
      "LlavaForConditionalGeneration(\n",
      "  (vision_tower): CLIPVisionModel(\n",
      "    (vision_model): CLIPVisionTransformer(\n",
      "      (embeddings): CLIPVisionEmbeddings(\n",
      "        (patch_embedding): Conv2d(3, 1024, kernel_size=(14, 14), stride=(14, 14), bias=False)\n",
      "        (position_embedding): Embedding(577, 1024)\n",
      "      )\n",
      "      (pre_layrnorm): LayerNorm((1024,), eps=1e-05, elementwise_affine=True)\n",
      "      (encoder): CLIPEncoder(\n",
      "        (layers): ModuleList(\n",
      "          (0-23): 24 x CLIPEncoderLayer(\n",
      "            (self_attn): CLIPSdpaAttention(\n",
      "              (k_proj): Linear(in_features=1024, out_features=1024, bias=True)\n",
      "              (v_proj): Linear(in_features=1024, out_features=1024, bias=True)\n",
      "              (q_proj): Linear(in_features=1024, out_features=1024, bias=True)\n",
      "              (out_proj): Linear(in_features=1024, out_features=1024, bias=True)\n",
      "            )\n",
      "            (layer_norm1): LayerNorm((1024,), eps=1e-05, elementwise_affine=True)\n",
      "            (mlp): CLIPMLP(\n",
      "              (activation_fn): QuickGELUActivation()\n",
      "              (fc1): Linear(in_features=1024, out_features=4096, bias=True)\n",
      "              (fc2): Linear(in_features=4096, out_features=1024, bias=True)\n",
      "            )\n",
      "            (layer_norm2): LayerNorm((1024,), eps=1e-05, elementwise_affine=True)\n",
      "          )\n",
      "        )\n",
      "      )\n",
      "      (post_layernorm): LayerNorm((1024,), eps=1e-05, elementwise_affine=True)\n",
      "    )\n",
      "  )\n",
      "  (multi_modal_projector): LlavaMultiModalProjector(\n",
      "    (linear_1): Linear(in_features=1024, out_features=4096, bias=True)\n",
      "    (act): GELUActivation()\n",
      "    (linear_2): Linear(in_features=4096, out_features=4096, bias=True)\n",
      "  )\n",
      "  (language_model): LlamaForCausalLM(\n",
      "    (model): LlamaModel(\n",
      "      (embed_tokens): Embedding(32064, 4096)\n",
      "      (layers): ModuleList(\n",
      "        (0-31): 32 x LlamaDecoderLayer(\n",
      "          (self_attn): LlamaAttention(\n",
      "            (q_proj): Linear(in_features=4096, out_features=4096, bias=False)\n",
      "            (k_proj): Linear(in_features=4096, out_features=4096, bias=False)\n",
      "            (v_proj): Linear(in_features=4096, out_features=4096, bias=False)\n",
      "            (o_proj): Linear(in_features=4096, out_features=4096, bias=False)\n",
      "          )\n",
      "          (mlp): LlamaMLP(\n",
      "            (gate_proj): Linear(in_features=4096, out_features=11008, bias=False)\n",
      "            (up_proj): Linear(in_features=4096, out_features=11008, bias=False)\n",
      "            (down_proj): Linear(in_features=11008, out_features=4096, bias=False)\n",
      "            (act_fn): SiLU()\n",
      "          )\n",
      "          (input_layernorm): LlamaRMSNorm((4096,), eps=1e-05)\n",
      "          (post_attention_layernorm): LlamaRMSNorm((4096,), eps=1e-05)\n",
      "        )\n",
      "      )\n",
      "      (norm): LlamaRMSNorm((4096,), eps=1e-05)\n",
      "      (rotary_emb): LlamaRotaryEmbedding()\n",
      "    )\n",
      "    (lm_head): Linear(in_features=4096, out_features=32064, bias=False)\n",
      "  )\n",
      ")\n"
     ]
    }
   ],
   "source": [
    "# TODO: Update config file\n",
    "# Qwen2-VL-2B-Instruct\n",
    "# config_path = '../configs/models/qwen/Qwen2-VL-2B-Instruct-VisualBlocks.yaml'\n",
    "# Qwen2-VL-7B-Instruct\n",
    "# config_path = '../configs/models/qwen/Qwen2-VL-7B-Instruct-VisualBlocks.yaml'\n",
    "# LLaVA-1.5-7B\n",
    "config_path = '../configs/models/llava/LLaVA-1.5-7B-VisualBlocks.yaml'\n",
    "\n",
    "sys.argv = ['notebooks/track_mean_sims_across_layers.ipynb',\n",
    "            '--config', config_path]\n",
    "\n",
    "config = Config()\n",
    "model = get_model(config.architecture, config)\n",
    "print(\"Using {}\".format(config.get_model_id()))\n",
    "# Print # parameters and model architecture\n",
    "print(\"{:.3f}B parameters\".format(model.model.num_parameters() / 1e9))\n",
    "print(model.model)"
   ]
  },
  {
   "cell_type": "code",
   "execution_count": 38,
   "id": "607976a4",
   "metadata": {},
   "outputs": [
    {
     "name": "stdout",
     "output_type": "stream",
     "text": [
      "vision_tower.vision_model.encoder.layers.0\n",
      "vision_tower.vision_model.encoder.layers.1\n",
      "vision_tower.vision_model.encoder.layers.2\n",
      "vision_tower.vision_model.encoder.layers.3\n",
      "vision_tower.vision_model.encoder.layers.4\n",
      "vision_tower.vision_model.encoder.layers.5\n",
      "vision_tower.vision_model.encoder.layers.6\n",
      "vision_tower.vision_model.encoder.layers.7\n",
      "vision_tower.vision_model.encoder.layers.8\n",
      "vision_tower.vision_model.encoder.layers.9\n",
      "vision_tower.vision_model.encoder.layers.10\n",
      "vision_tower.vision_model.encoder.layers.11\n",
      "vision_tower.vision_model.encoder.layers.12\n",
      "vision_tower.vision_model.encoder.layers.13\n",
      "vision_tower.vision_model.encoder.layers.14\n",
      "vision_tower.vision_model.encoder.layers.15\n",
      "vision_tower.vision_model.encoder.layers.16\n",
      "vision_tower.vision_model.encoder.layers.17\n",
      "vision_tower.vision_model.encoder.layers.18\n",
      "vision_tower.vision_model.encoder.layers.19\n",
      "vision_tower.vision_model.encoder.layers.20\n",
      "vision_tower.vision_model.encoder.layers.21\n",
      "vision_tower.vision_model.encoder.layers.22\n",
      "vision_tower.vision_model.encoder.layers.23\n",
      "multi_modal_projector\n",
      "language_model.model.layers.0\n",
      "language_model.model.layers.1\n",
      "language_model.model.layers.2\n",
      "language_model.model.layers.3\n",
      "language_model.model.layers.4\n",
      "language_model.model.layers.5\n",
      "language_model.model.layers.6\n",
      "language_model.model.layers.7\n",
      "language_model.model.layers.8\n",
      "language_model.model.layers.9\n",
      "language_model.model.layers.10\n",
      "language_model.model.layers.11\n",
      "language_model.model.layers.12\n",
      "language_model.model.layers.13\n",
      "language_model.model.layers.14\n",
      "language_model.model.layers.15\n",
      "language_model.model.layers.16\n",
      "language_model.model.layers.17\n",
      "language_model.model.layers.18\n",
      "language_model.model.layers.19\n",
      "language_model.model.layers.20\n",
      "language_model.model.layers.21\n",
      "language_model.model.layers.22\n",
      "language_model.model.layers.23\n",
      "language_model.model.layers.24\n",
      "language_model.model.layers.25\n",
      "language_model.model.layers.26\n",
      "language_model.model.layers.27\n",
      "language_model.model.layers.28\n",
      "language_model.model.layers.29\n",
      "language_model.model.layers.30\n",
      "language_model.model.layers.31\n",
      "language_model.model.norm\n",
      "58 modules matched\n"
     ]
    }
   ],
   "source": [
    "n_modules = 0\n",
    "for name, module in model.model.named_modules():\n",
    "    if model.config.matches_module(name):\n",
    "        print(name)\n",
    "        n_modules += 1\n",
    "print(\"{} modules matched\".format(n_modules))"
   ]
  },
  {
   "cell_type": "code",
   "execution_count": 39,
   "id": "f8f5a93f",
   "metadata": {},
   "outputs": [
    {
     "name": "stderr",
     "output_type": "stream",
     "text": [
      "Running forward hooks on data: 100%|██████████| 50/50 [01:52<00:00,  2.25s/it]\n"
     ]
    }
   ],
   "source": [
    "# Run model on images\n",
    "model.run(save_tokens=True)"
   ]
  },
  {
   "cell_type": "code",
   "execution_count": 40,
   "id": "1ba50d11",
   "metadata": {},
   "outputs": [
    {
     "name": "stdout",
     "output_type": "stream",
     "text": [
      "[1021_121858] Database path: ../output/LLaVA-1.5-7B-VisualBlocks.db\n"
     ]
    },
    {
     "name": "stderr",
     "output_type": "stream",
     "text": [
      "100%|██████████| 58/58 [02:10<00:00,  2.24s/it]\n"
     ]
    }
   ],
   "source": [
    "# Compute image-pair similarities per layer\n",
    "db_path = model.config.output_db\n",
    "utils.informal_log(\"Database path: {}\".format(db_path))\n",
    "\n",
    "module_names, module_embeddings, module_similarities = similarity_utils.compute_image_pair_similarities(\n",
    "    database_path=db_path,\n",
    "    model=model,\n",
    "    layer_names=None,\n",
    "    modalities=['vision', \"text+vision\"])"
   ]
  },
  {
   "cell_type": "code",
   "execution_count": 43,
   "id": "e6a67b95",
   "metadata": {},
   "outputs": [
    {
     "name": "stdout",
     "output_type": "stream",
     "text": [
      "[[np.float64(0.6454540821904928), np.float64(0.6579921058479008), np.float64(0.7203864208240505), np.float64(0.5967381336775882), np.float64(0.5831583619548621), np.float64(0.6109073661276837), np.float64(0.4607822205452046), np.float64(0.489295550901659), np.float64(0.5440468529118285), np.float64(0.5833899296517208), np.float64(0.6196754660096279), np.float64(0.6560578064279516), np.float64(0.7528303779260517), np.float64(0.7351160513525606), np.float64(0.7065064676129151), np.float64(0.7305404475856122), np.float64(0.7219008036944902), np.float64(0.743022857330232), np.float64(0.769988172352867), np.float64(0.8410390057076481), np.float64(0.9368044230702547), np.float64(0.9082324769683413), np.float64(0.8793468395810649), np.float64(0.9170719784162853)], [np.float64(0.6454540821904928), np.float64(0.6579921058479008), np.float64(0.7203864208240505), np.float64(0.5967381336775882), np.float64(0.5831583619548621), np.float64(0.6109073661276837), np.float64(0.4607822205452046), np.float64(0.489295550901659), np.float64(0.5440468529118285), np.float64(0.5833899296517208), np.float64(0.6196754660096279), np.float64(0.6560578064279516), np.float64(0.7528303779260517), np.float64(0.7351160513525606), np.float64(0.7065064676129151), np.float64(0.7305404475856122), np.float64(0.7219008036944902), np.float64(0.743022857330232), np.float64(0.769988172352867), np.float64(0.8410390057076481), np.float64(0.9368044230702547), np.float64(0.9082324769683413), np.float64(0.8793468395810649), np.float64(0.9170719784162853)], [np.float64(0.9412740405964948)], [np.float64(0.9412740405964948)], [np.float64(0.9419797650327947), np.float64(0.944834937754792), np.float64(0.9455612868034233), np.float64(0.9444583673300334), np.float64(0.941018822262049), np.float64(0.9369586170584386), np.float64(0.9320929078028356), np.float64(0.9280238679156411), np.float64(0.9269241222534376), np.float64(0.9237517096414862), np.float64(0.9191000869777292), np.float64(0.9171431277573454), np.float64(0.9163590322755586), np.float64(0.9194387598205637), np.float64(0.9115405840572078), np.float64(0.9075764148182612), np.float64(0.8982039221050719), np.float64(0.8901427521173496), np.float64(0.8909853509646478), np.float64(0.8987244516980216), np.float64(0.8741223885636293), np.float64(0.8670167664476792), np.float64(0.8727100642895482), np.float64(0.86961276994902), np.float64(0.8843759702126629), np.float64(0.8860198733086602), np.float64(0.8997754752847574), np.float64(0.9058851529323575), np.float64(0.911455958591973), np.float64(0.9184462843983345), np.float64(0.9155034359057037), np.float64(0.951649491453789), np.float64(0.9248516543417697)], [np.float64(0.9419797650327947), np.float64(0.944834937754792), np.float64(0.9455612868034233), np.float64(0.9444583673300334), np.float64(0.941018822262049), np.float64(0.9369586170584386), np.float64(0.9320929078028356), np.float64(0.9280238679156411), np.float64(0.9269241222534376), np.float64(0.9237517096414862), np.float64(0.9191000869777292), np.float64(0.9171431277573454), np.float64(0.9163590322755586), np.float64(0.9194387598205637), np.float64(0.9115405840572078), np.float64(0.9075764148182612), np.float64(0.8982039221050719), np.float64(0.8901427521173496), np.float64(0.8909853509646478), np.float64(0.8987244516980216), np.float64(0.8741223885636293), np.float64(0.8670167664476792), np.float64(0.8727100642895482), np.float64(0.86961276994902), np.float64(0.8843759702126629), np.float64(0.8860198733086602), np.float64(0.8997754752847574), np.float64(0.9058851529323575), np.float64(0.911455958591973), np.float64(0.9184462843983345), np.float64(0.9155034359057037), np.float64(0.951649491453789), np.float64(0.9248516543417697)]]\n"
     ]
    },
    {
     "data": {
      "text/plain": [
       "<Figure size 640x480 with 0 Axes>"
      ]
     },
     "metadata": {},
     "output_type": "display_data"
    },
    {
     "data": {
      "image/png": "[encoded data removed]",
      "text/plain": [
       "<Figure size 640x480 with 1 Axes>"
      ]
     },
     "metadata": {},
     "output_type": "display_data"
    }
   ],
   "source": [
    "# Computer mean similarity at each layer (using vision or vision + text)\n",
    "# and plot\n",
    "\n",
    "plot_similarities(\n",
    "    module_names=module_names,\n",
    "    module_embeddings=module_embeddings,\n",
    "    module_similarities=module_similarities,\n",
    "    vision_key=model.get_vision_key(),\n",
    "    model_name=model.config.get_model_id())"
   ]
  },
  {
   "cell_type": "markdown",
   "id": "dde69ad0",
   "metadata": {},
   "source": [
    "# LLaVA-1.5-7B"
   ]
  },
  {
   "cell_type": "code",
   "execution_count": 15,
   "id": "6b9a935d",
   "metadata": {},
   "outputs": [
    {
     "name": "stderr",
     "output_type": "stream",
     "text": [
      "Loading checkpoint shards: 100%|██████████| 3/3 [00:11<00:00,  3.90s/it]\n"
     ]
    }
   ],
   "source": [
    "sys.argv = ['notebooks/track_mean_sims_across_layers.ipynb',\n",
    "            '--config', '../configs/models/llava/LLaVA-1.5-7B-VisualBlocks.yaml']\n",
    "\n",
    "config = Config()\n",
    "model = get_model(config.architecture, config)"
   ]
  },
  {
   "cell_type": "code",
   "execution_count": 16,
   "id": "520b509d",
   "metadata": {},
   "outputs": [
    {
     "name": "stdout",
     "output_type": "stream",
     "text": [
      "7.063B parameters\n",
      "LlavaForConditionalGeneration(\n",
      "  (vision_tower): CLIPVisionModel(\n",
      "    (vision_model): CLIPVisionTransformer(\n",
      "      (embeddings): CLIPVisionEmbeddings(\n",
      "        (patch_embedding): Conv2d(3, 1024, kernel_size=(14, 14), stride=(14, 14), bias=False)\n",
      "        (position_embedding): Embedding(577, 1024)\n",
      "      )\n",
      "      (pre_layrnorm): LayerNorm((1024,), eps=1e-05, elementwise_affine=True)\n",
      "      (encoder): CLIPEncoder(\n",
      "        (layers): ModuleList(\n",
      "          (0-23): 24 x CLIPEncoderLayer(\n",
      "            (self_attn): CLIPSdpaAttention(\n",
      "              (k_proj): Linear(in_features=1024, out_features=1024, bias=True)\n",
      "              (v_proj): Linear(in_features=1024, out_features=1024, bias=True)\n",
      "              (q_proj): Linear(in_features=1024, out_features=1024, bias=True)\n",
      "              (out_proj): Linear(in_features=1024, out_features=1024, bias=True)\n",
      "            )\n",
      "            (layer_norm1): LayerNorm((1024,), eps=1e-05, elementwise_affine=True)\n",
      "            (mlp): CLIPMLP(\n",
      "              (activation_fn): QuickGELUActivation()\n",
      "              (fc1): Linear(in_features=1024, out_features=4096, bias=True)\n",
      "              (fc2): Linear(in_features=4096, out_features=1024, bias=True)\n",
      "            )\n",
      "            (layer_norm2): LayerNorm((1024,), eps=1e-05, elementwise_affine=True)\n",
      "          )\n",
      "        )\n",
      "      )\n",
      "      (post_layernorm): LayerNorm((1024,), eps=1e-05, elementwise_affine=True)\n",
      "    )\n",
      "  )\n",
      "  (multi_modal_projector): LlavaMultiModalProjector(\n",
      "    (linear_1): Linear(in_features=1024, out_features=4096, bias=True)\n",
      "    (act): GELUActivation()\n",
      "    (linear_2): Linear(in_features=4096, out_features=4096, bias=True)\n",
      "  )\n",
      "  (language_model): LlamaForCausalLM(\n",
      "    (model): LlamaModel(\n",
      "      (embed_tokens): Embedding(32064, 4096)\n",
      "      (layers): ModuleList(\n",
      "        (0-31): 32 x LlamaDecoderLayer(\n",
      "          (self_attn): LlamaAttention(\n",
      "            (q_proj): Linear(in_features=4096, out_features=4096, bias=False)\n",
      "            (k_proj): Linear(in_features=4096, out_features=4096, bias=False)\n",
      "            (v_proj): Linear(in_features=4096, out_features=4096, bias=False)\n",
      "            (o_proj): Linear(in_features=4096, out_features=4096, bias=False)\n",
      "          )\n",
      "          (mlp): LlamaMLP(\n",
      "            (gate_proj): Linear(in_features=4096, out_features=11008, bias=False)\n",
      "            (up_proj): Linear(in_features=4096, out_features=11008, bias=False)\n",
      "            (down_proj): Linear(in_features=11008, out_features=4096, bias=False)\n",
      "            (act_fn): SiLU()\n",
      "          )\n",
      "          (input_layernorm): LlamaRMSNorm((4096,), eps=1e-05)\n",
      "          (post_attention_layernorm): LlamaRMSNorm((4096,), eps=1e-05)\n",
      "        )\n",
      "      )\n",
      "      (norm): LlamaRMSNorm((4096,), eps=1e-05)\n",
      "      (rotary_emb): LlamaRotaryEmbedding()\n",
      "    )\n",
      "    (lm_head): Linear(in_features=4096, out_features=32064, bias=False)\n",
      "  )\n",
      ")\n"
     ]
    }
   ],
   "source": [
    "print(\"{:.3f}B parameters\".format(model.model.num_parameters() / 1e9))\n",
    "print(model.model)"
   ]
  },
  {
   "cell_type": "code",
   "execution_count": null,
   "id": "6ec4eec4",
   "metadata": {},
   "outputs": [],
   "source": []
  }
 ],
 "metadata": {
  "kernelspec": {
   "display_name": "vlm-lens-base",
   "language": "python",
   "name": "python3"
  },
  "language_info": {
   "codemirror_mode": {
    "name": "ipython",
    "version": 3
   },
   "file_extension": ".py",
   "mimetype": "text/x-python",
   "name": "python",
   "nbconvert_exporter": "python",
   "pygments_lexer": "ipython3",
   "version": "3.10.18"
  }
 },
 "nbformat": 4,
 "nbformat_minor": 5
}

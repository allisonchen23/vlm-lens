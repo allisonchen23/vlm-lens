{
 "cells": [
  {
   "cell_type": "code",
   "execution_count": 1,
   "id": "9bb1f741",
   "metadata": {},
   "outputs": [
    {
     "name": "stderr",
     "output_type": "stream",
     "text": [
      "/n/fs/ac-project/anaconda3/envs/vlm-lens-base/lib/python3.10/site-packages/tqdm/auto.py:21: TqdmWarning: IProgress not found. Please update jupyter and ipywidgets. See https://ipywidgets.readthedocs.io/en/stable/user_install.html\n",
      "  from .autonotebook import tqdm as notebook_tqdm\n"
     ]
    }
   ],
   "source": [
    "%load_ext autoreload\n",
    "%autoreload 2\n",
    "\n",
    "import matplotlib.pyplot as plt\n",
    "import numpy as np\n",
    "import os, sys\n",
    "from scipy.stats import spearmanr\n",
    "import sqlite3\n",
    "import torch\n",
    "from tqdm import tqdm\n",
    "\n",
    "sys.path.insert(0, '../src')\n",
    "sys.path.insert(1, '..')\n",
    "\n",
    "from main import get_model\n",
    "from models.config import Config, IMAGE_TOKEN_IDS\n",
    "import db_utils, visualizations, utils, similarity_utils"
   ]
  },
  {
   "cell_type": "code",
   "execution_count": 2,
   "id": "fadd8408",
   "metadata": {},
   "outputs": [],
   "source": [
    "sys.argv = ['notebooks/get_representations.ipynb',\n",
    "            '--config', '../configs/models/qwen/Qwen2-VL-2B-Instruct-VisualBlocks.yaml']\n",
    "\n",
    "config = Config()"
   ]
  },
  {
   "cell_type": "code",
   "execution_count": 3,
   "id": "d9779e59",
   "metadata": {},
   "outputs": [
    {
     "name": "stderr",
     "output_type": "stream",
     "text": [
      "Loading checkpoint shards: 100%|██████████| 2/2 [00:08<00:00,  4.27s/it]\n",
      "Using a slow image processor as `use_fast` is unset and a slow processor was saved with this model. `use_fast=True` will be the default behavior in v4.52, even if the model was saved with a slow processor. This will result in minor differences in outputs. You'll still be able to use a slow processor with `use_fast=False`.\n"
     ]
    }
   ],
   "source": [
    "model = get_model(config.architecture, config)"
   ]
  },
  {
   "cell_type": "code",
   "execution_count": 5,
   "id": "cffc847d",
   "metadata": {},
   "outputs": [
    {
     "name": "stdout",
     "output_type": "stream",
     "text": [
      "Qwen2VLForConditionalGeneration(\n",
      "  (visual): Qwen2VisionTransformerPretrainedModel(\n",
      "    (patch_embed): PatchEmbed(\n",
      "      (proj): Conv3d(3, 1280, kernel_size=(2, 14, 14), stride=(2, 14, 14), bias=False)\n",
      "    )\n",
      "    (rotary_pos_emb): VisionRotaryEmbedding()\n",
      "    (blocks): ModuleList(\n",
      "      (0-31): 32 x Qwen2VLVisionBlock(\n",
      "        (norm1): LayerNorm((1280,), eps=1e-06, elementwise_affine=True)\n",
      "        (norm2): LayerNorm((1280,), eps=1e-06, elementwise_affine=True)\n",
      "        (attn): VisionSdpaAttention(\n",
      "          (qkv): Linear(in_features=1280, out_features=3840, bias=True)\n",
      "          (proj): Linear(in_features=1280, out_features=1280, bias=True)\n",
      "        )\n",
      "        (mlp): VisionMlp(\n",
      "          (fc1): Linear(in_features=1280, out_features=5120, bias=True)\n",
      "          (act): QuickGELUActivation()\n",
      "          (fc2): Linear(in_features=5120, out_features=1280, bias=True)\n",
      "        )\n",
      "      )\n",
      "    )\n",
      "    (merger): PatchMerger(\n",
      "      (ln_q): LayerNorm((1280,), eps=1e-06, elementwise_affine=True)\n",
      "      (mlp): Sequential(\n",
      "        (0): Linear(in_features=5120, out_features=5120, bias=True)\n",
      "        (1): GELU(approximate='none')\n",
      "        (2): Linear(in_features=5120, out_features=1536, bias=True)\n",
      "      )\n",
      "    )\n",
      "  )\n",
      "  (model): Qwen2VLModel(\n",
      "    (embed_tokens): Embedding(151936, 1536)\n",
      "    (layers): ModuleList(\n",
      "      (0-27): 28 x Qwen2VLDecoderLayer(\n",
      "        (self_attn): Qwen2VLSdpaAttention(\n",
      "          (q_proj): Linear(in_features=1536, out_features=1536, bias=True)\n",
      "          (k_proj): Linear(in_features=1536, out_features=256, bias=True)\n",
      "          (v_proj): Linear(in_features=1536, out_features=256, bias=True)\n",
      "          (o_proj): Linear(in_features=1536, out_features=1536, bias=False)\n",
      "          (rotary_emb): Qwen2VLRotaryEmbedding()\n",
      "        )\n",
      "        (mlp): Qwen2MLP(\n",
      "          (gate_proj): Linear(in_features=1536, out_features=8960, bias=False)\n",
      "          (up_proj): Linear(in_features=1536, out_features=8960, bias=False)\n",
      "          (down_proj): Linear(in_features=8960, out_features=1536, bias=False)\n",
      "          (act_fn): SiLU()\n",
      "        )\n",
      "        (input_layernorm): Qwen2RMSNorm((1536,), eps=1e-06)\n",
      "        (post_attention_layernorm): Qwen2RMSNorm((1536,), eps=1e-06)\n",
      "      )\n",
      "    )\n",
      "    (norm): Qwen2RMSNorm((1536,), eps=1e-06)\n",
      "    (rotary_emb): Qwen2VLRotaryEmbedding()\n",
      "  )\n",
      "  (lm_head): Linear(in_features=1536, out_features=151936, bias=False)\n",
      ")\n"
     ]
    }
   ],
   "source": [
    "print(model.model)\n"
   ]
  },
  {
   "cell_type": "code",
   "execution_count": 4,
   "id": "a79b7af0",
   "metadata": {},
   "outputs": [
    {
     "name": "stdout",
     "output_type": "stream",
     "text": [
      "visual.blocks.0\n",
      "visual.blocks.1\n",
      "visual.blocks.2\n",
      "visual.blocks.3\n",
      "visual.blocks.4\n",
      "visual.blocks.5\n",
      "visual.blocks.6\n",
      "visual.blocks.7\n",
      "visual.blocks.8\n",
      "visual.blocks.9\n",
      "visual.blocks.10\n",
      "visual.blocks.11\n",
      "visual.blocks.12\n",
      "visual.blocks.13\n",
      "visual.blocks.14\n",
      "visual.blocks.15\n",
      "visual.blocks.16\n",
      "visual.blocks.17\n",
      "visual.blocks.18\n",
      "visual.blocks.19\n",
      "visual.blocks.20\n",
      "visual.blocks.21\n",
      "visual.blocks.22\n",
      "visual.blocks.23\n",
      "visual.blocks.24\n",
      "visual.blocks.25\n",
      "visual.blocks.26\n",
      "visual.blocks.27\n",
      "visual.blocks.28\n",
      "visual.blocks.29\n",
      "visual.blocks.30\n",
      "visual.blocks.31\n",
      "visual.merger\n",
      "model.layers.0\n",
      "model.layers.1\n",
      "model.layers.2\n",
      "model.layers.3\n",
      "model.layers.4\n",
      "model.layers.5\n",
      "model.layers.6\n",
      "model.layers.7\n",
      "model.layers.8\n",
      "model.layers.9\n",
      "model.layers.10\n",
      "model.layers.11\n",
      "model.layers.12\n",
      "model.layers.13\n",
      "model.layers.14\n",
      "model.layers.15\n",
      "model.layers.16\n",
      "model.layers.17\n",
      "model.layers.18\n",
      "model.layers.19\n",
      "model.layers.20\n",
      "model.layers.21\n",
      "model.layers.22\n",
      "model.layers.23\n",
      "model.layers.24\n",
      "model.layers.25\n",
      "model.layers.26\n",
      "model.layers.27\n",
      "model.norm\n"
     ]
    }
   ],
   "source": [
    "for name, module in model.model.named_modules():\n",
    "    if model.config.matches_module(name):\n",
    "        print(name)"
   ]
  },
  {
   "cell_type": "code",
   "execution_count": 5,
   "id": "fb16daf6",
   "metadata": {},
   "outputs": [
    {
     "name": "stderr",
     "output_type": "stream",
     "text": [
      "Running forward hooks on data: 100%|██████████| 50/50 [01:07<00:00,  1.35s/it]\n"
     ]
    }
   ],
   "source": [
    "model.run(save_tokens=True)"
   ]
  },
  {
   "cell_type": "code",
   "execution_count": 4,
   "id": "affc9454",
   "metadata": {},
   "outputs": [
    {
     "name": "stdout",
     "output_type": "stream",
     "text": [
      "[1020_090826] ../output/Qwen2-VL-2B-Instruct-VisualBlocks.db\n"
     ]
    }
   ],
   "source": [
    "db_path = model.config.output_db\n",
    "utils.informal_log(db_path)\n",
    "connection = sqlite3.connect(db_path)\n",
    "connection.row_factory = sqlite3.Row\n",
    "cursor = connection.cursor()"
   ]
  },
  {
   "cell_type": "code",
   "execution_count": 7,
   "id": "6844eb49",
   "metadata": {},
   "outputs": [
    {
     "name": "stdout",
     "output_type": "stream",
     "text": [
      "{'layer': 'input_ids'}\n",
      "{'layer': 'visual.blocks.0'}\n",
      "{'layer': 'visual.blocks.1'}\n",
      "{'layer': 'visual.blocks.2'}\n",
      "{'layer': 'visual.blocks.3'}\n",
      "{'layer': 'visual.blocks.4'}\n",
      "{'layer': 'visual.blocks.5'}\n",
      "{'layer': 'visual.blocks.6'}\n",
      "{'layer': 'visual.blocks.7'}\n",
      "{'layer': 'visual.blocks.8'}\n",
      "{'layer': 'visual.blocks.9'}\n",
      "{'layer': 'visual.blocks.10'}\n",
      "{'layer': 'visual.blocks.11'}\n",
      "{'layer': 'visual.blocks.12'}\n",
      "{'layer': 'visual.blocks.13'}\n",
      "{'layer': 'visual.blocks.14'}\n",
      "{'layer': 'visual.blocks.15'}\n",
      "{'layer': 'visual.blocks.16'}\n",
      "{'layer': 'visual.blocks.17'}\n",
      "{'layer': 'visual.blocks.18'}\n",
      "{'layer': 'visual.blocks.19'}\n",
      "{'layer': 'visual.blocks.20'}\n",
      "{'layer': 'visual.blocks.21'}\n",
      "{'layer': 'visual.blocks.22'}\n",
      "{'layer': 'visual.blocks.23'}\n",
      "{'layer': 'visual.blocks.24'}\n",
      "{'layer': 'visual.blocks.25'}\n",
      "{'layer': 'visual.blocks.26'}\n",
      "{'layer': 'visual.blocks.27'}\n",
      "{'layer': 'visual.blocks.28'}\n",
      "{'layer': 'visual.blocks.29'}\n",
      "{'layer': 'visual.blocks.30'}\n",
      "{'layer': 'visual.blocks.31'}\n",
      "{'layer': 'visual.merger'}\n",
      "{'layer': 'model.layers.0'}\n",
      "{'layer': 'model.layers.1'}\n",
      "{'layer': 'model.layers.2'}\n",
      "{'layer': 'model.layers.3'}\n",
      "{'layer': 'model.layers.4'}\n",
      "{'layer': 'model.layers.5'}\n",
      "{'layer': 'model.layers.6'}\n",
      "{'layer': 'model.layers.7'}\n",
      "{'layer': 'model.layers.8'}\n",
      "{'layer': 'model.layers.9'}\n",
      "{'layer': 'model.layers.10'}\n",
      "{'layer': 'model.layers.11'}\n",
      "{'layer': 'model.layers.12'}\n",
      "{'layer': 'model.layers.13'}\n",
      "{'layer': 'model.layers.14'}\n",
      "{'layer': 'model.layers.15'}\n",
      "{'layer': 'model.layers.16'}\n",
      "{'layer': 'model.layers.17'}\n",
      "{'layer': 'model.layers.18'}\n",
      "{'layer': 'model.layers.19'}\n",
      "{'layer': 'model.layers.20'}\n",
      "{'layer': 'model.layers.21'}\n",
      "{'layer': 'model.layers.22'}\n",
      "{'layer': 'model.layers.23'}\n",
      "{'layer': 'model.layers.24'}\n",
      "{'layer': 'model.layers.25'}\n",
      "{'layer': 'model.layers.26'}\n",
      "{'layer': 'model.layers.27'}\n",
      "{'layer': 'model.norm'}\n"
     ]
    }
   ],
   "source": [
    "for r in cursor.execute(\"\"\"\n",
    "  SELECT DISTINCT layer\n",
    "  FROM tensors\n",
    "\"\"\"):\n",
    "    print(dict(r))"
   ]
  },
  {
   "cell_type": "code",
   "execution_count": 26,
   "id": "0635d2ae",
   "metadata": {},
   "outputs": [
    {
     "name": "stdout",
     "output_type": "stream",
     "text": [
      "{'id': 1, 'image_id': None, 'timestamp': '2025-10-14 15:20:08', 'name': 'Qwen/Qwen2-VL-2B-Instruct', 'image_path': '/n/fs/ac-vlm/vlm-lens/data_local/coco/cocoval/000000414795.jpg', 'prompt': 'Describe this image in one sentence.', 'label': None, 'layer': 'input_ids', 'pooling_method': None, 'tensor_dim': 1, 'tensor_shape': 'torch.Size([1, 172])', 'tensor_bytes': 2524}\n",
      "{'id': 2, 'image_id': None, 'timestamp': '2025-10-14 15:20:08', 'name': 'Qwen/Qwen2-VL-2B-Instruct', 'image_path': '/n/fs/ac-vlm/vlm-lens/data_local/coco/cocoval/000000414795.jpg', 'prompt': 'Describe this image in one sentence.', 'label': None, 'layer': 'visual.blocks.31', 'pooling_method': None, 'tensor_dim': 1280, 'tensor_shape': 'torch.Size([576, 1280])', 'tensor_bytes': 1475740}\n",
      "{'id': 3, 'image_id': None, 'timestamp': '2025-10-14 15:20:08', 'name': 'Qwen/Qwen2-VL-2B-Instruct', 'image_path': '/n/fs/ac-vlm/vlm-lens/data_local/coco/cocoval/000000414795.jpg', 'prompt': 'Describe this image in one sentence.', 'label': None, 'layer': 'visual.merger', 'pooling_method': None, 'tensor_dim': 1536, 'tensor_shape': 'torch.Size([144, 1536])', 'tensor_bytes': 443548}\n",
      "{'id': 4, 'image_id': None, 'timestamp': '2025-10-14 15:20:08', 'name': 'Qwen/Qwen2-VL-2B-Instruct', 'image_path': '/n/fs/ac-vlm/vlm-lens/data_local/coco/cocoval/000000414795.jpg', 'prompt': 'Describe this image in one sentence.', 'label': None, 'layer': 'model.layers.27', 'pooling_method': None, 'tensor_dim': 1536, 'tensor_shape': 'torch.Size([1, 172, 1536])', 'tensor_bytes': 529564}\n",
      "{'id': 5, 'image_id': None, 'timestamp': '2025-10-14 15:20:08', 'name': 'Qwen/Qwen2-VL-2B-Instruct', 'image_path': '/n/fs/ac-vlm/vlm-lens/data_local/coco/cocoval/000000414795.jpg', 'prompt': 'Describe this image in one sentence.', 'label': None, 'layer': 'model.norm', 'pooling_method': None, 'tensor_dim': 1536, 'tensor_shape': 'torch.Size([1, 172, 1536])', 'tensor_bytes': 529564}\n",
      "{'id': 6, 'image_id': None, 'timestamp': '2025-10-14 15:20:08', 'name': 'Qwen/Qwen2-VL-2B-Instruct', 'image_path': '/n/fs/ac-vlm/vlm-lens/data_local/coco/cocoval/000000343149.jpg', 'prompt': 'Describe this image in one sentence.', 'label': None, 'layer': 'input_ids', 'pooling_method': None, 'tensor_dim': 1, 'tensor_shape': 'torch.Size([1, 172])', 'tensor_bytes': 2524}\n",
      "{'id': 7, 'image_id': None, 'timestamp': '2025-10-14 15:20:08', 'name': 'Qwen/Qwen2-VL-2B-Instruct', 'image_path': '/n/fs/ac-vlm/vlm-lens/data_local/coco/cocoval/000000343149.jpg', 'prompt': 'Describe this image in one sentence.', 'label': None, 'layer': 'visual.blocks.31', 'pooling_method': None, 'tensor_dim': 1280, 'tensor_shape': 'torch.Size([576, 1280])', 'tensor_bytes': 1475740}\n",
      "{'id': 8, 'image_id': None, 'timestamp': '2025-10-14 15:20:08', 'name': 'Qwen/Qwen2-VL-2B-Instruct', 'image_path': '/n/fs/ac-vlm/vlm-lens/data_local/coco/cocoval/000000343149.jpg', 'prompt': 'Describe this image in one sentence.', 'label': None, 'layer': 'visual.merger', 'pooling_method': None, 'tensor_dim': 1536, 'tensor_shape': 'torch.Size([144, 1536])', 'tensor_bytes': 443548}\n",
      "{'id': 9, 'image_id': None, 'timestamp': '2025-10-14 15:20:08', 'name': 'Qwen/Qwen2-VL-2B-Instruct', 'image_path': '/n/fs/ac-vlm/vlm-lens/data_local/coco/cocoval/000000343149.jpg', 'prompt': 'Describe this image in one sentence.', 'label': None, 'layer': 'model.layers.27', 'pooling_method': None, 'tensor_dim': 1536, 'tensor_shape': 'torch.Size([1, 172, 1536])', 'tensor_bytes': 529564}\n",
      "{'id': 10, 'image_id': None, 'timestamp': '2025-10-14 15:20:08', 'name': 'Qwen/Qwen2-VL-2B-Instruct', 'image_path': '/n/fs/ac-vlm/vlm-lens/data_local/coco/cocoval/000000343149.jpg', 'prompt': 'Describe this image in one sentence.', 'label': None, 'layer': 'model.norm', 'pooling_method': None, 'tensor_dim': 1536, 'tensor_shape': 'torch.Size([1, 172, 1536])', 'tensor_bytes': 529564}\n",
      "{'id': 11, 'image_id': None, 'timestamp': '2025-10-14 15:20:08', 'name': 'Qwen/Qwen2-VL-2B-Instruct', 'image_path': '/n/fs/ac-vlm/vlm-lens/data_local/coco/cocoval/000000066561.jpg', 'prompt': 'Describe this image in one sentence.', 'label': None, 'layer': 'input_ids', 'pooling_method': None, 'tensor_dim': 1, 'tensor_shape': 'torch.Size([1, 172])', 'tensor_bytes': 2524}\n",
      "{'id': 12, 'image_id': None, 'timestamp': '2025-10-14 15:20:08', 'name': 'Qwen/Qwen2-VL-2B-Instruct', 'image_path': '/n/fs/ac-vlm/vlm-lens/data_local/coco/cocoval/000000066561.jpg', 'prompt': 'Describe this image in one sentence.', 'label': None, 'layer': 'visual.blocks.31', 'pooling_method': None, 'tensor_dim': 1280, 'tensor_shape': 'torch.Size([576, 1280])', 'tensor_bytes': 1475740}\n",
      "{'id': 13, 'image_id': None, 'timestamp': '2025-10-14 15:20:08', 'name': 'Qwen/Qwen2-VL-2B-Instruct', 'image_path': '/n/fs/ac-vlm/vlm-lens/data_local/coco/cocoval/000000066561.jpg', 'prompt': 'Describe this image in one sentence.', 'label': None, 'layer': 'visual.merger', 'pooling_method': None, 'tensor_dim': 1536, 'tensor_shape': 'torch.Size([144, 1536])', 'tensor_bytes': 443548}\n",
      "{'id': 14, 'image_id': None, 'timestamp': '2025-10-14 15:20:08', 'name': 'Qwen/Qwen2-VL-2B-Instruct', 'image_path': '/n/fs/ac-vlm/vlm-lens/data_local/coco/cocoval/000000066561.jpg', 'prompt': 'Describe this image in one sentence.', 'label': None, 'layer': 'model.layers.27', 'pooling_method': None, 'tensor_dim': 1536, 'tensor_shape': 'torch.Size([1, 172, 1536])', 'tensor_bytes': 529564}\n",
      "{'id': 15, 'image_id': None, 'timestamp': '2025-10-14 15:20:08', 'name': 'Qwen/Qwen2-VL-2B-Instruct', 'image_path': '/n/fs/ac-vlm/vlm-lens/data_local/coco/cocoval/000000066561.jpg', 'prompt': 'Describe this image in one sentence.', 'label': None, 'layer': 'model.norm', 'pooling_method': None, 'tensor_dim': 1536, 'tensor_shape': 'torch.Size([1, 172, 1536])', 'tensor_bytes': 529564}\n",
      "{'id': 16, 'image_id': None, 'timestamp': '2025-10-14 15:20:08', 'name': 'Qwen/Qwen2-VL-2B-Instruct', 'image_path': '/n/fs/ac-vlm/vlm-lens/data_local/coco/cocoval/000000006614.jpg', 'prompt': 'Describe this image in one sentence.', 'label': None, 'layer': 'input_ids', 'pooling_method': None, 'tensor_dim': 1, 'tensor_shape': 'torch.Size([1, 172])', 'tensor_bytes': 2524}\n",
      "{'id': 17, 'image_id': None, 'timestamp': '2025-10-14 15:20:08', 'name': 'Qwen/Qwen2-VL-2B-Instruct', 'image_path': '/n/fs/ac-vlm/vlm-lens/data_local/coco/cocoval/000000006614.jpg', 'prompt': 'Describe this image in one sentence.', 'label': None, 'layer': 'visual.blocks.31', 'pooling_method': None, 'tensor_dim': 1280, 'tensor_shape': 'torch.Size([576, 1280])', 'tensor_bytes': 1475740}\n",
      "{'id': 18, 'image_id': None, 'timestamp': '2025-10-14 15:20:08', 'name': 'Qwen/Qwen2-VL-2B-Instruct', 'image_path': '/n/fs/ac-vlm/vlm-lens/data_local/coco/cocoval/000000006614.jpg', 'prompt': 'Describe this image in one sentence.', 'label': None, 'layer': 'visual.merger', 'pooling_method': None, 'tensor_dim': 1536, 'tensor_shape': 'torch.Size([144, 1536])', 'tensor_bytes': 443548}\n",
      "{'id': 19, 'image_id': None, 'timestamp': '2025-10-14 15:20:08', 'name': 'Qwen/Qwen2-VL-2B-Instruct', 'image_path': '/n/fs/ac-vlm/vlm-lens/data_local/coco/cocoval/000000006614.jpg', 'prompt': 'Describe this image in one sentence.', 'label': None, 'layer': 'model.layers.27', 'pooling_method': None, 'tensor_dim': 1536, 'tensor_shape': 'torch.Size([1, 172, 1536])', 'tensor_bytes': 529564}\n",
      "{'id': 20, 'image_id': None, 'timestamp': '2025-10-14 15:20:08', 'name': 'Qwen/Qwen2-VL-2B-Instruct', 'image_path': '/n/fs/ac-vlm/vlm-lens/data_local/coco/cocoval/000000006614.jpg', 'prompt': 'Describe this image in one sentence.', 'label': None, 'layer': 'model.norm', 'pooling_method': None, 'tensor_dim': 1536, 'tensor_shape': 'torch.Size([1, 172, 1536])', 'tensor_bytes': 529564}\n"
     ]
    }
   ],
   "source": [
    "for r in cursor.execute(\"\"\"\n",
    "  SELECT id, image_id, timestamp, name, image_path, prompt, label, layer, pooling_method, tensor_dim, tensor_shape,\n",
    "         length(tensor) AS tensor_bytes\n",
    "  FROM tensors\n",
    "  LIMIT 20\n",
    "\"\"\"):\n",
    "    print(dict(r))"
   ]
  },
  {
   "cell_type": "markdown",
   "id": "b1034049",
   "metadata": {},
   "source": [
    "### For each image, calculate similarity of embeddings between pairs of layers"
   ]
  },
  {
   "cell_type": "code",
   "execution_count": null,
   "id": "c60d587b",
   "metadata": {},
   "outputs": [
    {
     "ename": "ValueError",
     "evalue": "too many values to unpack (expected 2)",
     "output_type": "error",
     "traceback": [
      "\u001b[0;31m---------------------------------------------------------------------------\u001b[0m",
      "\u001b[0;31mValueError\u001b[0m                                Traceback (most recent call last)",
      "Cell \u001b[0;32mIn[5], line 20\u001b[0m\n\u001b[1;32m      9\u001b[0m input_ids, input_ids_same_shapes \u001b[38;5;241m=\u001b[39m db_utils\u001b[38;5;241m.\u001b[39munwrap_embeddings(input_ids)\n\u001b[1;32m     11\u001b[0m \u001b[38;5;66;03m# Get module names:\u001b[39;00m\n\u001b[1;32m     12\u001b[0m \u001b[38;5;66;03m# for name, _ in model.model.named_modules():\u001b[39;00m\n\u001b[1;32m     13\u001b[0m \u001b[38;5;66;03m#     if model.config.matches_module(name):\u001b[39;00m\n\u001b[0;32m   (...)\u001b[0m\n\u001b[1;32m     18\u001b[0m \u001b[38;5;66;03m# Get embeddings for each layer\u001b[39;00m\n\u001b[1;32m     19\u001b[0m \u001b[38;5;66;03m# for module_name, _ in model.model.named_modules():\u001b[39;00m\n\u001b[0;32m---> 20\u001b[0m \u001b[38;5;28;01mfor\u001b[39;00m module_name, _ \u001b[38;5;129;01min\u001b[39;00m [\u001b[38;5;124m\"\u001b[39m\u001b[38;5;124mmodel.norm\u001b[39m\u001b[38;5;124m\"\u001b[39m]:\n\u001b[1;32m     21\u001b[0m     \u001b[38;5;28;01mif\u001b[39;00m \u001b[38;5;129;01mnot\u001b[39;00m model\u001b[38;5;241m.\u001b[39mconfig\u001b[38;5;241m.\u001b[39mmatches_module(module_name):\n\u001b[1;32m     22\u001b[0m         \u001b[38;5;28;01mcontinue\u001b[39;00m\n",
      "\u001b[0;31mValueError\u001b[0m: too many values to unpack (expected 2)"
     ]
    }
   ],
   "source": [
    "module_names = []\n",
    "module_embeddings = []\n",
    "module_similarities = []\n",
    "# Get input_ids\n",
    "input_ids = db_utils.get_embeddings_by_layer(\n",
    "    db_path=db_path,\n",
    "    layer_name=\"input_ids\",\n",
    "    device=\"cuda\")\n",
    "input_ids, input_ids_same_shapes = db_utils.unwrap_embeddings(input_ids)\n",
    "\n"
   ]
  },
  {
   "cell_type": "code",
   "execution_count": null,
   "id": "8a553c80",
   "metadata": {},
   "outputs": [
    {
     "name": "stderr",
     "output_type": "stream",
     "text": [
      "0it [00:00, ?it/s]"
     ]
    },
    {
     "name": "stdout",
     "output_type": "stream",
     "text": [
      "visual.blocks.0\n",
      "[1020_094103] T1\n"
     ]
    },
    {
     "name": "stderr",
     "output_type": "stream",
     "text": [
      "7it [00:01,  6.50it/s]"
     ]
    },
    {
     "name": "stdout",
     "output_type": "stream",
     "text": [
      "[1020_094104] T2\n",
      "[1020_094104] T3\n",
      "[1020_094104] T4\n",
      "[1020_094104] T5\n",
      "visual.blocks.1\n",
      "[1020_094104] T1\n"
     ]
    },
    {
     "name": "stderr",
     "output_type": "stream",
     "text": [
      "17it [00:02,  7.92it/s]"
     ]
    },
    {
     "name": "stdout",
     "output_type": "stream",
     "text": [
      "[1020_094105] T2\n",
      "[1020_094105] T3\n",
      "[1020_094105] T4\n",
      "[1020_094105] T5\n",
      "visual.blocks.2\n",
      "[1020_094105] T1\n"
     ]
    },
    {
     "name": "stderr",
     "output_type": "stream",
     "text": [
      "27it [00:03,  7.71it/s]"
     ]
    },
    {
     "name": "stdout",
     "output_type": "stream",
     "text": [
      "[1020_094106] T2\n",
      "[1020_094106] T3\n",
      "[1020_094106] T4\n",
      "[1020_094106] T5\n",
      "visual.blocks.3\n",
      "[1020_094106] T1\n"
     ]
    },
    {
     "name": "stderr",
     "output_type": "stream",
     "text": [
      "37it [00:04,  7.87it/s]"
     ]
    },
    {
     "name": "stdout",
     "output_type": "stream",
     "text": [
      "[1020_094107] T2\n",
      "[1020_094107] T3\n",
      "[1020_094107] T4\n",
      "[1020_094107] T5\n",
      "visual.blocks.4\n",
      "[1020_094107] T1\n"
     ]
    },
    {
     "name": "stderr",
     "output_type": "stream",
     "text": [
      "47it [00:05,  8.47it/s]"
     ]
    },
    {
     "name": "stdout",
     "output_type": "stream",
     "text": [
      "[1020_094108] T2\n",
      "[1020_094108] T3\n",
      "[1020_094108] T4\n",
      "[1020_094108] T5\n",
      "visual.blocks.5\n",
      "[1020_094108] T1\n"
     ]
    },
    {
     "name": "stderr",
     "output_type": "stream",
     "text": [
      "57it [00:06,  8.74it/s]"
     ]
    },
    {
     "name": "stdout",
     "output_type": "stream",
     "text": [
      "[1020_094109] T2\n",
      "[1020_094109] T3\n",
      "[1020_094109] T4\n",
      "[1020_094109] T5\n",
      "visual.blocks.6\n",
      "[1020_094109] T1\n"
     ]
    },
    {
     "name": "stderr",
     "output_type": "stream",
     "text": [
      "67it [00:42,  1.27s/it]"
     ]
    },
    {
     "name": "stdout",
     "output_type": "stream",
     "text": [
      "[1020_094145] T2\n",
      "[1020_094145] T3\n",
      "[1020_094145] T4\n",
      "[1020_094145] T5\n",
      "visual.blocks.7\n",
      "[1020_094145] T1\n"
     ]
    },
    {
     "name": "stderr",
     "output_type": "stream",
     "text": [
      "77it [01:21,  2.10s/it]"
     ]
    },
    {
     "name": "stdout",
     "output_type": "stream",
     "text": [
      "[1020_094224] T2\n",
      "[1020_094224] T3\n",
      "[1020_094224] T4\n",
      "[1020_094224] T5\n",
      "visual.blocks.8\n",
      "[1020_094224] T1\n"
     ]
    },
    {
     "name": "stderr",
     "output_type": "stream",
     "text": [
      "87it [01:55,  2.52s/it]"
     ]
    },
    {
     "name": "stdout",
     "output_type": "stream",
     "text": [
      "[1020_094258] T2\n",
      "[1020_094258] T3\n",
      "[1020_094258] T4\n",
      "[1020_094258] T5\n",
      "visual.blocks.9\n",
      "[1020_094258] T1\n"
     ]
    },
    {
     "name": "stderr",
     "output_type": "stream",
     "text": [
      "97it [02:39,  3.08s/it]"
     ]
    },
    {
     "name": "stdout",
     "output_type": "stream",
     "text": [
      "[1020_094342] T2\n",
      "[1020_094342] T3\n",
      "[1020_094342] T4\n",
      "[1020_094342] T5\n",
      "visual.blocks.10\n",
      "[1020_094342] T1\n"
     ]
    },
    {
     "name": "stderr",
     "output_type": "stream",
     "text": [
      "107it [03:17,  3.31s/it]"
     ]
    },
    {
     "name": "stdout",
     "output_type": "stream",
     "text": [
      "[1020_094420] T2\n",
      "[1020_094420] T3\n",
      "[1020_094420] T4\n",
      "[1020_094420] T5\n",
      "visual.blocks.11\n",
      "[1020_094420] T1\n"
     ]
    },
    {
     "name": "stderr",
     "output_type": "stream",
     "text": [
      "117it [03:35,  2.87s/it]"
     ]
    },
    {
     "name": "stdout",
     "output_type": "stream",
     "text": [
      "[1020_094439] T2\n",
      "[1020_094439] T3\n",
      "[1020_094439] T4\n",
      "[1020_094439] T5\n",
      "visual.blocks.12\n",
      "[1020_094439] T1\n"
     ]
    },
    {
     "name": "stderr",
     "output_type": "stream",
     "text": [
      "127it [04:16,  3.24s/it]"
     ]
    },
    {
     "name": "stdout",
     "output_type": "stream",
     "text": [
      "[1020_094519] T2\n",
      "[1020_094519] T3\n",
      "[1020_094519] T4\n",
      "[1020_094519] T5\n",
      "visual.blocks.13\n",
      "[1020_094519] T1\n"
     ]
    },
    {
     "name": "stderr",
     "output_type": "stream",
     "text": [
      "137it [04:32,  2.75s/it]"
     ]
    },
    {
     "name": "stdout",
     "output_type": "stream",
     "text": [
      "[1020_094536] T2\n",
      "[1020_094536] T3\n",
      "[1020_094536] T4\n",
      "[1020_094536] T5\n",
      "visual.blocks.14\n",
      "[1020_094536] T1\n"
     ]
    },
    {
     "name": "stderr",
     "output_type": "stream",
     "text": [
      "147it [05:00,  2.74s/it]"
     ]
    },
    {
     "name": "stdout",
     "output_type": "stream",
     "text": [
      "[1020_094603] T2\n",
      "[1020_094603] T3\n",
      "[1020_094603] T4\n",
      "[1020_094603] T5\n",
      "visual.blocks.15\n",
      "[1020_094603] T1\n"
     ]
    },
    {
     "name": "stderr",
     "output_type": "stream",
     "text": [
      "157it [05:17,  2.42s/it]"
     ]
    },
    {
     "name": "stdout",
     "output_type": "stream",
     "text": [
      "[1020_094620] T2\n",
      "[1020_094620] T3\n",
      "[1020_094620] T4\n",
      "[1020_094620] T5\n",
      "visual.blocks.16\n",
      "[1020_094620] T1\n"
     ]
    },
    {
     "name": "stderr",
     "output_type": "stream",
     "text": [
      "167it [05:30,  2.11s/it]"
     ]
    },
    {
     "name": "stdout",
     "output_type": "stream",
     "text": [
      "[1020_094633] T2\n",
      "[1020_094633] T3\n",
      "[1020_094633] T4\n",
      "[1020_094633] T5\n",
      "visual.blocks.17\n",
      "[1020_094633] T1\n"
     ]
    },
    {
     "name": "stderr",
     "output_type": "stream",
     "text": [
      "177it [05:44,  1.89s/it]"
     ]
    },
    {
     "name": "stdout",
     "output_type": "stream",
     "text": [
      "[1020_094647] T2\n",
      "[1020_094647] T3\n",
      "[1020_094647] T4\n",
      "[1020_094647] T5\n",
      "visual.blocks.18\n",
      "[1020_094647] T1\n"
     ]
    },
    {
     "name": "stderr",
     "output_type": "stream",
     "text": [
      "187it [05:58,  1.73s/it]"
     ]
    },
    {
     "name": "stdout",
     "output_type": "stream",
     "text": [
      "[1020_094701] T2\n",
      "[1020_094701] T3\n",
      "[1020_094701] T4\n",
      "[1020_094701] T5\n",
      "visual.blocks.19\n",
      "[1020_094701] T1\n"
     ]
    },
    {
     "name": "stderr",
     "output_type": "stream",
     "text": [
      "197it [06:13,  1.67s/it]"
     ]
    },
    {
     "name": "stdout",
     "output_type": "stream",
     "text": [
      "[1020_094716] T2\n",
      "[1020_094716] T3\n",
      "[1020_094716] T4\n",
      "[1020_094716] T5\n",
      "visual.blocks.20\n",
      "[1020_094716] T1\n"
     ]
    },
    {
     "name": "stderr",
     "output_type": "stream",
     "text": [
      "207it [06:26,  1.56s/it]"
     ]
    },
    {
     "name": "stdout",
     "output_type": "stream",
     "text": [
      "[1020_094729] T2\n",
      "[1020_094729] T3\n",
      "[1020_094729] T4\n",
      "[1020_094729] T5\n",
      "visual.blocks.21\n",
      "[1020_094729] T1\n"
     ]
    },
    {
     "name": "stderr",
     "output_type": "stream",
     "text": [
      "217it [06:42,  1.57s/it]"
     ]
    },
    {
     "name": "stdout",
     "output_type": "stream",
     "text": [
      "[1020_094745] T2\n",
      "[1020_094745] T3\n",
      "[1020_094745] T4\n",
      "[1020_094745] T5\n",
      "visual.blocks.22\n",
      "[1020_094745] T1\n"
     ]
    },
    {
     "name": "stderr",
     "output_type": "stream",
     "text": [
      "227it [06:55,  1.48s/it]"
     ]
    },
    {
     "name": "stdout",
     "output_type": "stream",
     "text": [
      "[1020_094758] T2\n",
      "[1020_094758] T3\n",
      "[1020_094758] T4\n",
      "[1020_094758] T5\n",
      "visual.blocks.23\n",
      "[1020_094758] T1\n"
     ]
    },
    {
     "name": "stderr",
     "output_type": "stream",
     "text": [
      "237it [07:05,  1.36s/it]"
     ]
    },
    {
     "name": "stdout",
     "output_type": "stream",
     "text": [
      "[1020_094808] T2\n",
      "[1020_094808] T3\n",
      "[1020_094808] T4\n",
      "[1020_094808] T5\n",
      "visual.blocks.24\n",
      "[1020_094808] T1\n"
     ]
    },
    {
     "name": "stderr",
     "output_type": "stream",
     "text": [
      "247it [07:21,  1.41s/it]"
     ]
    },
    {
     "name": "stdout",
     "output_type": "stream",
     "text": [
      "[1020_094824] T2\n",
      "[1020_094824] T3\n",
      "[1020_094824] T4\n",
      "[1020_094824] T5\n",
      "visual.blocks.25\n",
      "[1020_094824] T1\n"
     ]
    },
    {
     "name": "stderr",
     "output_type": "stream",
     "text": [
      "257it [07:34,  1.40s/it]"
     ]
    },
    {
     "name": "stdout",
     "output_type": "stream",
     "text": [
      "[1020_094838] T2\n",
      "[1020_094838] T3\n",
      "[1020_094838] T4\n",
      "[1020_094838] T5\n",
      "visual.blocks.26\n",
      "[1020_094838] T1\n"
     ]
    },
    {
     "name": "stderr",
     "output_type": "stream",
     "text": [
      "267it [07:49,  1.41s/it]"
     ]
    },
    {
     "name": "stdout",
     "output_type": "stream",
     "text": [
      "[1020_094852] T2\n",
      "[1020_094852] T3\n",
      "[1020_094852] T4\n",
      "[1020_094852] T5\n",
      "visual.blocks.27\n",
      "[1020_094852] T1\n"
     ]
    },
    {
     "name": "stderr",
     "output_type": "stream",
     "text": [
      "277it [08:01,  1.37s/it]"
     ]
    },
    {
     "name": "stdout",
     "output_type": "stream",
     "text": [
      "[1020_094904] T2\n",
      "[1020_094904] T3\n",
      "[1020_094904] T4\n",
      "[1020_094904] T5\n",
      "visual.blocks.28\n",
      "[1020_094904] T1\n"
     ]
    },
    {
     "name": "stderr",
     "output_type": "stream",
     "text": [
      "287it [08:15,  1.37s/it]"
     ]
    },
    {
     "name": "stdout",
     "output_type": "stream",
     "text": [
      "[1020_094918] T2\n",
      "[1020_094918] T3\n",
      "[1020_094918] T4\n",
      "[1020_094918] T5\n",
      "visual.blocks.29\n",
      "[1020_094918] T1\n"
     ]
    },
    {
     "name": "stderr",
     "output_type": "stream",
     "text": [
      "297it [08:29,  1.38s/it]"
     ]
    },
    {
     "name": "stdout",
     "output_type": "stream",
     "text": [
      "[1020_094932] T2\n",
      "[1020_094932] T3\n",
      "[1020_094932] T4\n",
      "[1020_094932] T5\n",
      "visual.blocks.30\n",
      "[1020_094932] T1\n"
     ]
    },
    {
     "name": "stderr",
     "output_type": "stream",
     "text": [
      "307it [08:42,  1.35s/it]"
     ]
    },
    {
     "name": "stdout",
     "output_type": "stream",
     "text": [
      "[1020_094945] T2\n",
      "[1020_094945] T3\n",
      "[1020_094945] T4\n",
      "[1020_094945] T5\n",
      "visual.blocks.31\n",
      "[1020_094945] T1\n"
     ]
    },
    {
     "name": "stderr",
     "output_type": "stream",
     "text": [
      "317it [08:54,  1.30s/it]"
     ]
    },
    {
     "name": "stdout",
     "output_type": "stream",
     "text": [
      "[1020_094957] T2\n",
      "[1020_094957] T3\n",
      "[1020_094957] T4\n",
      "[1020_094957] T5\n",
      "visual.merger\n",
      "[1020_094957] T1\n"
     ]
    },
    {
     "name": "stderr",
     "output_type": "stream",
     "text": [
      "327it [08:57,  1.01s/it]"
     ]
    },
    {
     "name": "stdout",
     "output_type": "stream",
     "text": [
      "[1020_095000] T2\n",
      "[1020_095000] T3\n",
      "[1020_095000] T4\n",
      "[1020_095000] T5\n",
      "model.layers.0\n",
      "[1020_095000] T1\n"
     ]
    },
    {
     "name": "stderr",
     "output_type": "stream",
     "text": [
      "336it [09:03,  1.12it/s]"
     ]
    },
    {
     "name": "stdout",
     "output_type": "stream",
     "text": [
      "[1020_095006] T2\n",
      "[1020_095006] T3\n",
      "[1020_095006] T4\n",
      "[1020_095006] T5\n",
      "[1020_095006] T6\n",
      "[1020_095006] T7\n",
      "model.layers.1\n",
      "[1020_095006] T1\n"
     ]
    },
    {
     "name": "stderr",
     "output_type": "stream",
     "text": [
      "350it [09:06,  1.51it/s]"
     ]
    },
    {
     "name": "stdout",
     "output_type": "stream",
     "text": [
      "[1020_095010] T2\n",
      "[1020_095010] T3\n",
      "[1020_095010] T4\n",
      "[1020_095010] T5\n",
      "[1020_095010] T6\n",
      "[1020_095010] T7\n",
      "model.layers.2\n",
      "[1020_095010] T1\n"
     ]
    },
    {
     "name": "stderr",
     "output_type": "stream",
     "text": [
      "364it [09:11,  1.82it/s]"
     ]
    },
    {
     "name": "stdout",
     "output_type": "stream",
     "text": [
      "[1020_095014] T2\n",
      "[1020_095014] T3\n",
      "[1020_095014] T4\n",
      "[1020_095014] T5\n",
      "[1020_095014] T6\n",
      "[1020_095014] T7\n",
      "model.layers.3\n",
      "[1020_095014] T1\n"
     ]
    },
    {
     "name": "stderr",
     "output_type": "stream",
     "text": [
      "378it [09:15,  2.15it/s]"
     ]
    },
    {
     "name": "stdout",
     "output_type": "stream",
     "text": [
      "[1020_095019] T2\n",
      "[1020_095019] T3\n",
      "[1020_095019] T4\n",
      "[1020_095019] T5\n",
      "[1020_095019] T6\n",
      "[1020_095019] T7\n",
      "model.layers.4\n",
      "[1020_095019] T1\n"
     ]
    },
    {
     "name": "stderr",
     "output_type": "stream",
     "text": [
      "392it [09:20,  2.33it/s]"
     ]
    },
    {
     "name": "stdout",
     "output_type": "stream",
     "text": [
      "[1020_095023] T2\n",
      "[1020_095023] T3\n",
      "[1020_095023] T4\n",
      "[1020_095023] T5\n",
      "[1020_095024] T6\n",
      "[1020_095024] T7\n",
      "model.layers.5\n",
      "[1020_095024] T1\n"
     ]
    },
    {
     "name": "stderr",
     "output_type": "stream",
     "text": [
      "406it [09:25,  2.55it/s]"
     ]
    },
    {
     "name": "stdout",
     "output_type": "stream",
     "text": [
      "[1020_095028] T2\n",
      "[1020_095028] T3\n",
      "[1020_095028] T4\n",
      "[1020_095028] T5\n",
      "[1020_095028] T6\n",
      "[1020_095028] T7\n",
      "model.layers.6\n",
      "[1020_095028] T1\n"
     ]
    },
    {
     "name": "stderr",
     "output_type": "stream",
     "text": [
      "420it [09:30,  2.60it/s]"
     ]
    },
    {
     "name": "stdout",
     "output_type": "stream",
     "text": [
      "[1020_095033] T2\n",
      "[1020_095033] T3\n",
      "[1020_095033] T4\n",
      "[1020_095033] T5\n",
      "[1020_095033] T6\n",
      "[1020_095033] T7\n",
      "model.layers.7\n",
      "[1020_095033] T1\n"
     ]
    },
    {
     "name": "stderr",
     "output_type": "stream",
     "text": [
      "434it [09:34,  2.91it/s]"
     ]
    },
    {
     "name": "stdout",
     "output_type": "stream",
     "text": [
      "[1020_095037] T2\n",
      "[1020_095037] T3\n",
      "[1020_095037] T4\n",
      "[1020_095037] T5\n",
      "[1020_095037] T6\n",
      "[1020_095037] T7\n",
      "model.layers.8\n",
      "[1020_095037] T1\n"
     ]
    },
    {
     "name": "stderr",
     "output_type": "stream",
     "text": [
      "448it [09:38,  2.94it/s]"
     ]
    },
    {
     "name": "stdout",
     "output_type": "stream",
     "text": [
      "[1020_095041] T2\n",
      "[1020_095041] T3\n",
      "[1020_095041] T4\n",
      "[1020_095041] T5\n",
      "[1020_095041] T6\n",
      "[1020_095041] T7\n",
      "model.layers.9\n",
      "[1020_095041] T1\n"
     ]
    },
    {
     "name": "stderr",
     "output_type": "stream",
     "text": [
      "462it [09:42,  3.09it/s]"
     ]
    },
    {
     "name": "stdout",
     "output_type": "stream",
     "text": [
      "[1020_095045] T2\n",
      "[1020_095045] T3\n",
      "[1020_095045] T4\n",
      "[1020_095045] T5\n",
      "[1020_095045] T6\n",
      "[1020_095045] T7\n",
      "model.layers.10\n",
      "[1020_095045] T1\n"
     ]
    },
    {
     "name": "stderr",
     "output_type": "stream",
     "text": [
      "476it [09:47,  2.98it/s]"
     ]
    },
    {
     "name": "stdout",
     "output_type": "stream",
     "text": [
      "[1020_095050] T2\n",
      "[1020_095050] T3\n",
      "[1020_095050] T4\n",
      "[1020_095050] T5\n",
      "[1020_095050] T6\n",
      "[1020_095050] T7\n",
      "model.layers.11\n",
      "[1020_095050] T1\n"
     ]
    },
    {
     "name": "stderr",
     "output_type": "stream",
     "text": [
      "490it [09:52,  3.06it/s]"
     ]
    },
    {
     "name": "stdout",
     "output_type": "stream",
     "text": [
      "[1020_095055] T2\n",
      "[1020_095055] T3\n",
      "[1020_095055] T4\n",
      "[1020_095055] T5\n",
      "[1020_095055] T6\n",
      "[1020_095055] T7\n",
      "model.layers.12\n",
      "[1020_095055] T1\n"
     ]
    },
    {
     "name": "stderr",
     "output_type": "stream",
     "text": [
      "504it [09:57,  2.84it/s]"
     ]
    },
    {
     "name": "stdout",
     "output_type": "stream",
     "text": [
      "[1020_095100] T2\n",
      "[1020_095100] T3\n",
      "[1020_095100] T4\n",
      "[1020_095100] T5\n",
      "[1020_095100] T6\n",
      "[1020_095100] T7\n",
      "model.layers.13\n",
      "[1020_095100] T1\n"
     ]
    },
    {
     "name": "stderr",
     "output_type": "stream",
     "text": [
      "518it [10:02,  2.91it/s]"
     ]
    },
    {
     "name": "stdout",
     "output_type": "stream",
     "text": [
      "[1020_095105] T2\n",
      "[1020_095105] T3\n",
      "[1020_095105] T4\n",
      "[1020_095105] T5\n",
      "[1020_095105] T6\n",
      "[1020_095105] T7\n",
      "model.layers.14\n",
      "[1020_095105] T1\n"
     ]
    },
    {
     "name": "stderr",
     "output_type": "stream",
     "text": [
      "532it [10:07,  2.89it/s]"
     ]
    },
    {
     "name": "stdout",
     "output_type": "stream",
     "text": [
      "[1020_095110] T2\n",
      "[1020_095110] T3\n",
      "[1020_095110] T4\n",
      "[1020_095110] T5\n",
      "[1020_095110] T6\n",
      "[1020_095110] T7\n",
      "model.layers.15\n",
      "[1020_095110] T1\n"
     ]
    },
    {
     "name": "stderr",
     "output_type": "stream",
     "text": [
      "546it [10:11,  2.95it/s]"
     ]
    },
    {
     "name": "stdout",
     "output_type": "stream",
     "text": [
      "[1020_095114] T2\n",
      "[1020_095114] T3\n",
      "[1020_095114] T4\n",
      "[1020_095114] T5\n",
      "[1020_095114] T6\n",
      "[1020_095114] T7\n",
      "model.layers.16\n",
      "[1020_095114] T1\n"
     ]
    },
    {
     "name": "stderr",
     "output_type": "stream",
     "text": [
      "560it [10:16,  2.88it/s]"
     ]
    },
    {
     "name": "stdout",
     "output_type": "stream",
     "text": [
      "[1020_095119] T2\n",
      "[1020_095119] T3\n",
      "[1020_095119] T4\n",
      "[1020_095119] T5\n",
      "[1020_095119] T6\n",
      "[1020_095119] T7\n",
      "model.layers.17\n",
      "[1020_095119] T1\n"
     ]
    },
    {
     "name": "stderr",
     "output_type": "stream",
     "text": [
      "574it [10:20,  3.09it/s]"
     ]
    },
    {
     "name": "stdout",
     "output_type": "stream",
     "text": [
      "[1020_095123] T2\n",
      "[1020_095123] T3\n",
      "[1020_095123] T4\n",
      "[1020_095123] T5\n",
      "[1020_095123] T6\n",
      "[1020_095123] T7\n",
      "model.layers.18\n",
      "[1020_095123] T1\n"
     ]
    },
    {
     "name": "stderr",
     "output_type": "stream",
     "text": [
      "588it [10:26,  2.89it/s]"
     ]
    },
    {
     "name": "stdout",
     "output_type": "stream",
     "text": [
      "[1020_095129] T2\n",
      "[1020_095129] T3\n",
      "[1020_095129] T4\n",
      "[1020_095129] T5\n",
      "[1020_095129] T6\n",
      "[1020_095129] T7\n",
      "model.layers.19\n",
      "[1020_095129] T1\n"
     ]
    },
    {
     "name": "stderr",
     "output_type": "stream",
     "text": [
      "602it [10:30,  2.97it/s]"
     ]
    },
    {
     "name": "stdout",
     "output_type": "stream",
     "text": [
      "[1020_095133] T2\n",
      "[1020_095133] T3\n",
      "[1020_095133] T4\n",
      "[1020_095133] T5\n",
      "[1020_095133] T6\n",
      "[1020_095133] T7\n",
      "model.layers.20\n",
      "[1020_095133] T1\n"
     ]
    },
    {
     "name": "stderr",
     "output_type": "stream",
     "text": [
      "616it [10:35,  2.88it/s]"
     ]
    },
    {
     "name": "stdout",
     "output_type": "stream",
     "text": [
      "[1020_095138] T2\n",
      "[1020_095138] T3\n",
      "[1020_095138] T4\n",
      "[1020_095138] T5\n",
      "[1020_095138] T6\n",
      "[1020_095138] T7\n",
      "model.layers.21\n",
      "[1020_095138] T1\n"
     ]
    },
    {
     "name": "stderr",
     "output_type": "stream",
     "text": [
      "630it [10:41,  2.79it/s]"
     ]
    },
    {
     "name": "stdout",
     "output_type": "stream",
     "text": [
      "[1020_095144] T2\n",
      "[1020_095144] T3\n",
      "[1020_095144] T4\n",
      "[1020_095144] T5\n",
      "[1020_095144] T6\n",
      "[1020_095144] T7\n",
      "model.layers.22\n",
      "[1020_095144] T1\n"
     ]
    },
    {
     "name": "stderr",
     "output_type": "stream",
     "text": [
      "644it [10:46,  2.81it/s]"
     ]
    },
    {
     "name": "stdout",
     "output_type": "stream",
     "text": [
      "[1020_095149] T2\n",
      "[1020_095149] T3\n",
      "[1020_095149] T4\n",
      "[1020_095149] T5\n",
      "[1020_095149] T6\n",
      "[1020_095149] T7\n",
      "model.layers.23\n",
      "[1020_095149] T1\n"
     ]
    },
    {
     "name": "stderr",
     "output_type": "stream",
     "text": [
      "658it [10:50,  3.00it/s]"
     ]
    },
    {
     "name": "stdout",
     "output_type": "stream",
     "text": [
      "[1020_095153] T2\n",
      "[1020_095153] T3\n",
      "[1020_095153] T4\n",
      "[1020_095153] T5\n",
      "[1020_095153] T6\n",
      "[1020_095153] T7\n",
      "model.layers.24\n",
      "[1020_095153] T1\n"
     ]
    },
    {
     "name": "stderr",
     "output_type": "stream",
     "text": [
      "672it [10:55,  2.83it/s]"
     ]
    },
    {
     "name": "stdout",
     "output_type": "stream",
     "text": [
      "[1020_095158] T2\n",
      "[1020_095158] T3\n",
      "[1020_095158] T4\n",
      "[1020_095158] T5\n",
      "[1020_095158] T6\n",
      "[1020_095158] T7\n",
      "model.layers.25\n",
      "[1020_095158] T1\n"
     ]
    },
    {
     "name": "stderr",
     "output_type": "stream",
     "text": [
      "686it [10:59,  2.98it/s]"
     ]
    },
    {
     "name": "stdout",
     "output_type": "stream",
     "text": [
      "[1020_095202] T2\n",
      "[1020_095202] T3\n",
      "[1020_095202] T4\n",
      "[1020_095202] T5\n",
      "[1020_095202] T6\n",
      "[1020_095202] T7\n",
      "model.layers.26\n",
      "[1020_095202] T1\n"
     ]
    },
    {
     "name": "stderr",
     "output_type": "stream",
     "text": [
      "700it [11:08,  2.34it/s]"
     ]
    },
    {
     "name": "stdout",
     "output_type": "stream",
     "text": [
      "[1020_095211] T2\n",
      "[1020_095211] T3\n",
      "[1020_095211] T4\n",
      "[1020_095211] T5\n",
      "[1020_095211] T6\n",
      "[1020_095211] T7\n",
      "model.layers.27\n",
      "[1020_095211] T1\n"
     ]
    },
    {
     "name": "stderr",
     "output_type": "stream",
     "text": [
      "714it [11:14,  2.40it/s]"
     ]
    },
    {
     "name": "stdout",
     "output_type": "stream",
     "text": [
      "[1020_095217] T2\n",
      "[1020_095217] T3\n",
      "[1020_095217] T4\n",
      "[1020_095217] T5\n",
      "[1020_095217] T6\n",
      "[1020_095217] T7\n",
      "model.norm\n",
      "[1020_095217] T1\n"
     ]
    },
    {
     "name": "stderr",
     "output_type": "stream",
     "text": [
      "730it [11:15,  1.08it/s]"
     ]
    },
    {
     "name": "stdout",
     "output_type": "stream",
     "text": [
      "[1020_095218] T2\n",
      "[1020_095218] T3\n",
      "[1020_095218] T4\n",
      "[1020_095218] T5\n",
      "[1020_095218] T6\n",
      "[1020_095218] T7\n"
     ]
    },
    {
     "name": "stderr",
     "output_type": "stream",
     "text": [
      "\n"
     ]
    }
   ],
   "source": [
    "# Get embeddings for each layer\n",
    "for module_name, _ in tqdm(model.model.named_modules()):\n",
    "    if not model.config.matches_module(module_name):\n",
    "        continue\n",
    "    print(module_name)\n",
    "    # T\n",
    "    module_embedding = db_utils.get_embeddings_by_layer(\n",
    "        db_path=db_path,\n",
    "        layer_name=module_name\n",
    "    )\n",
    "    try:\n",
    "        module_embedding, module_embedding_same_shapes = db_utils.unwrap_embeddings(module_embedding)\n",
    "    except Exception as e:\n",
    "        print(module_name, module_embedding)\n",
    "\n",
    "    # Calculate mean embedding\n",
    "    mean_embeddings = db_utils.compute_mean_embeddings(\n",
    "        embeddings=module_embedding)\n",
    "    module_names.append(module_name)\n",
    "    module_embeddings.append(mean_embeddings)\n",
    "\n",
    "    # Calculate similarities of pairs of images\n",
    "    module_sim = db_utils.cosine_similarity_numpy(mean_embeddings, mean_embeddings)\n",
    "    # Assert similarity is symmetric\n",
    "    assert np.array_equal(module_sim, module_sim.T)\n",
    "\n",
    "    # Select only Upper Triangular Matrix\n",
    "    n_samples = module_sim.shape[0]\n",
    "    ut_idxs = np.triu_indices(n_samples, k=1)\n",
    "    sim_values = module_sim[ut_idxs]\n",
    "    assert len(sim_values) == n_samples * (n_samples - 1) / 2\n",
    "    # Store values in list\n",
    "    module_similarities.append(sim_values)\n",
    "\n",
    "    # Compute mean embedding of visual tokens only (if applicable)\n",
    "    if module_name.startswith(\"model\"):\n",
    "        module_visual_embedding, n_visual_tokens = db_utils.extract_visual_embeddings(\n",
    "            input_ids=input_ids,\n",
    "            llm_embeddings=module_embedding,\n",
    "            image_token_id=IMAGE_TOKEN_IDS[config.architecture],\n",
    "            same_shapes=module_embedding_same_shapes\n",
    "        )\n",
    "\n",
    "        # Calculate mean embedding\n",
    "        visual_mean_embeddings = db_utils.compute_mean_embeddings(\n",
    "            embeddings=module_visual_embedding,\n",
    "            n_embeddings=n_visual_tokens)\n",
    "        # Compute similarity\n",
    "        module_sim = db_utils.cosine_similarity_numpy(visual_mean_embeddings, visual_mean_embeddings)\n",
    "        # Assert similarity is symmetric\n",
    "        assert np.array_equal(module_sim, module_sim.T)\n",
    "\n",
    "        # Select only Upper Triangular Matrix\n",
    "        n_samples = module_sim.shape[0]\n",
    "        ut_idxs = np.triu_indices(n_samples, k=1)\n",
    "        sim_values = module_sim[ut_idxs]\n",
    "        assert len(sim_values) == n_samples * (n_samples - 1) / 2\n",
    "\n",
    "        # Store values in list\n",
    "        module_names.append(\"{}-visual\".format(module_name))\n",
    "        module_embeddings.append(visual_mean_embeddings)\n",
    "        module_similarities.append(sim_values)\n",
    "\n",
    "\n"
   ]
  },
  {
   "cell_type": "code",
   "execution_count": null,
   "id": "777c30ab",
   "metadata": {},
   "outputs": [
    {
     "name": "stdout",
     "output_type": "stream",
     "text": [
      "91\n"
     ]
    }
   ],
   "source": [
    "# module_names = module_names[7:]\n",
    "# module_embeddings = module_embeddings[7:]\n",
    "# module_similarities = module_similarities[7:]\n",
    "\n",
    "# print(len(module_names))"
   ]
  },
  {
   "cell_type": "code",
   "execution_count": null,
   "id": "76a7beaa",
   "metadata": {},
   "outputs": [
    {
     "name": "stdout",
     "output_type": "stream",
     "text": [
      "91\n",
      "0 visual.blocks.0\n",
      "1 visual.blocks.1\n",
      "2 visual.blocks.2\n",
      "3 visual.blocks.3\n",
      "4 visual.blocks.4\n",
      "5 visual.blocks.5\n",
      "6 visual.blocks.6\n",
      "7 visual.blocks.7\n",
      "8 visual.blocks.8\n",
      "9 visual.blocks.9\n",
      "10 visual.blocks.10\n",
      "11 visual.blocks.11\n",
      "12 visual.blocks.12\n",
      "13 visual.blocks.13\n",
      "14 visual.blocks.14\n",
      "15 visual.blocks.15\n",
      "16 visual.blocks.16\n",
      "17 visual.blocks.17\n",
      "18 visual.blocks.18\n",
      "19 visual.blocks.19\n",
      "20 visual.blocks.20\n",
      "21 visual.blocks.21\n",
      "22 visual.blocks.22\n",
      "23 visual.blocks.23\n",
      "24 visual.blocks.24\n",
      "25 visual.blocks.25\n",
      "26 visual.blocks.26\n",
      "27 visual.blocks.27\n",
      "28 visual.blocks.28\n",
      "29 visual.blocks.29\n",
      "30 visual.blocks.30\n",
      "31 visual.blocks.31\n",
      "32 visual.merger\n",
      "33 model.layers.0\n",
      "34 model.layers.0-visual\n",
      "35 model.layers.1\n",
      "36 model.layers.1-visual\n",
      "37 model.layers.2\n",
      "38 model.layers.2-visual\n",
      "39 model.layers.3\n",
      "40 model.layers.3-visual\n",
      "41 model.layers.4\n",
      "42 model.layers.4-visual\n",
      "43 model.layers.5\n",
      "44 model.layers.5-visual\n",
      "45 model.layers.6\n",
      "46 model.layers.6-visual\n",
      "47 model.layers.7\n",
      "48 model.layers.7-visual\n",
      "49 model.layers.8\n",
      "50 model.layers.8-visual\n",
      "51 model.layers.9\n",
      "52 model.layers.9-visual\n",
      "53 model.layers.10\n",
      "54 model.layers.10-visual\n",
      "55 model.layers.11\n",
      "56 model.layers.11-visual\n",
      "57 model.layers.12\n",
      "58 model.layers.12-visual\n",
      "59 model.layers.13\n",
      "60 model.layers.13-visual\n",
      "61 model.layers.14\n",
      "62 model.layers.14-visual\n",
      "63 model.layers.15\n",
      "64 model.layers.15-visual\n",
      "65 model.layers.16\n",
      "66 model.layers.16-visual\n",
      "67 model.layers.17\n",
      "68 model.layers.17-visual\n",
      "69 model.layers.18\n",
      "70 model.layers.18-visual\n",
      "71 model.layers.19\n",
      "72 model.layers.19-visual\n",
      "73 model.layers.20\n",
      "74 model.layers.20-visual\n",
      "75 model.layers.21\n",
      "76 model.layers.21-visual\n",
      "77 model.layers.22\n",
      "78 model.layers.22-visual\n",
      "79 model.layers.23\n",
      "80 model.layers.23-visual\n",
      "81 model.layers.24\n",
      "82 model.layers.24-visual\n",
      "83 model.layers.25\n",
      "84 model.layers.25-visual\n",
      "85 model.layers.26\n",
      "86 model.layers.26-visual\n",
      "87 model.layers.27\n",
      "88 model.layers.27-visual\n",
      "89 model.norm\n",
      "90 model.norm-visual\n",
      "33\n"
     ]
    },
    {
     "data": {
      "text/plain": [
       "<Figure size 640x480 with 0 Axes>"
      ]
     },
     "metadata": {},
     "output_type": "display_data"
    },
    {
     "data": {
      "image/png": "[encoded data removed]",
      "text/plain": [
       "<Figure size 640x480 with 1 Axes>"
      ]
     },
     "metadata": {},
     "output_type": "display_data"
    },
    {
     "data": {
      "text/plain": [
       "<Figure size 640x480 with 0 Axes>"
      ]
     },
     "metadata": {},
     "output_type": "display_data"
    },
    {
     "data": {
      "image/png": "[encoded data removed]",
      "text/plain": [
       "<Figure size 640x480 with 1 Axes>"
      ]
     },
     "metadata": {},
     "output_type": "display_data"
    },
    {
     "data": {
      "text/plain": [
       "(<Figure size 640x480 with 1 Axes>,\n",
       " <Axes: xlabel='Layer', ylabel='Mean Image Pairwise Similarity (0-1)'>)"
      ]
     },
     "execution_count": 54,
     "metadata": {},
     "output_type": "execute_result"
    }
   ],
   "source": [
    "# For each layer, calculate the mean similarity and the norm\n",
    "mean_embeddings = {}\n",
    "mean_similarities = {}\n",
    "print(len(module_names))\n",
    "for idx, (name, embs, sims) in enumerate(zip(module_names, module_embeddings, module_similarities)):\n",
    "    # if idx < 4:\n",
    "    #     continue\n",
    "    print(idx, name)\n",
    "    key = name.split(\".\")[0]\n",
    "    if key == \"model\":\n",
    "        if \"visual\" in name:\n",
    "            key += \"-visual\"\n",
    "    if key in mean_embeddings:\n",
    "        mean_embeddings[key].append(np.mean(embs))\n",
    "    else:\n",
    "        mean_embeddings[key] = [np.mean(embs)]\n",
    "\n",
    "    if key in mean_similarities:\n",
    "        mean_similarities[key].append(np.mean(sims))\n",
    "    else:\n",
    "        mean_similarities[key] = [np.mean(sims)]\n",
    "\n",
    "# Plot mean embeddings\n",
    "xs = []\n",
    "ys = []\n",
    "labels = []\n",
    "\n",
    "n_vision_layers = len(mean_embeddings[\"visual\"])\n",
    "n_items = 0\n",
    "for k, v in mean_embeddings.items():\n",
    "    if k.startswith(\"model\"):\n",
    "        xs.append([i + n_vision_layers for i in range(len(v))])\n",
    "    else:\n",
    "        xs.append([i for i in range(len(v))])\n",
    "    ys.append(v)\n",
    "    labels.append(\"{} blocks\".format(k))\n",
    "\n",
    "print(len(ys[0]))\n",
    "visualizations.plot(\n",
    "    xs=xs,\n",
    "    ys=ys,\n",
    "    labels=labels,\n",
    "    xlabel='Visual Layer',\n",
    "    ylabel='Mean Embedding Value',\n",
    "    show=True\n",
    ")\n",
    "\n",
    "xs = []\n",
    "ys = []\n",
    "labels = []\n",
    "n_items = 0\n",
    "for k, v in mean_similarities.items():\n",
    "    if k.startswith(\"model\"):\n",
    "        xs.append([i + n_vision_layers for i in range(len(v))])\n",
    "    else:\n",
    "        xs.append([i for i in range(len(v))])\n",
    "    ys.append(v)\n",
    "    labels.append(\"{} blocks\".format(k))\n",
    "\n",
    "visualizations.plot(\n",
    "    xs=xs,\n",
    "    ys=ys,\n",
    "    labels=labels,\n",
    "    alpha=0.8,\n",
    "    xlabel='Layer',\n",
    "    ylabel='Mean Image Pairwise Similarity (0-1)',\n",
    "    show=True\n",
    ")\n"
   ]
  },
  {
   "cell_type": "code",
   "execution_count": null,
   "id": "1e302102",
   "metadata": {},
   "outputs": [
    {
     "name": "stderr",
     "output_type": "stream",
     "text": [
      "  6%|▋         | 4/62 [00:06<02:22,  2.46s/it]"
     ]
    }
   ],
   "source": [
    "layer_names = [\"model.layers.{}\".format(i) for i in range(28)]\n",
    "layer_names += [\"model.norm\"]\n",
    "m_names, m_embeddings, m_similarities = similarity_utils.compute_image_pair_similarities(\n",
    "    database_path=db_path,\n",
    "    model=model,\n",
    "    layer_names=None,\n",
    "    modalities=['vision', \"text+vision\"])"
   ]
  },
  {
   "cell_type": "code",
   "execution_count": 71,
   "id": "a89a62e5",
   "metadata": {},
   "outputs": [
    {
     "name": "stdout",
     "output_type": "stream",
     "text": [
      "91\n",
      "0 model.layers.0-vision\n",
      "1 model.layers.0\n",
      "2 model.layers.1-vision\n",
      "3 model.layers.1\n",
      "4 model.layers.2-vision\n",
      "5 model.layers.2\n",
      "6 model.layers.3-vision\n",
      "7 model.layers.3\n",
      "8 model.layers.4-vision\n",
      "9 model.layers.4\n",
      "10 model.layers.5-vision\n",
      "11 model.layers.5\n",
      "12 model.layers.6-vision\n",
      "13 model.layers.6\n",
      "14 model.layers.7-vision\n",
      "15 model.layers.7\n",
      "16 model.layers.8-vision\n",
      "17 model.layers.8\n",
      "18 model.layers.9-vision\n",
      "19 model.layers.9\n",
      "20 model.layers.10-vision\n",
      "21 model.layers.10\n",
      "22 model.layers.11-vision\n",
      "23 model.layers.11\n",
      "24 model.layers.12-vision\n",
      "25 model.layers.12\n",
      "26 model.layers.13-vision\n",
      "27 model.layers.13\n",
      "28 model.layers.14-vision\n",
      "29 model.layers.14\n",
      "30 model.layers.15-vision\n",
      "31 model.layers.15\n",
      "32 model.layers.16-vision\n",
      "33 model.layers.16\n",
      "34 model.layers.17-vision\n",
      "35 model.layers.17\n",
      "36 model.layers.18-vision\n",
      "37 model.layers.18\n",
      "38 model.layers.19-vision\n",
      "39 model.layers.19\n",
      "40 model.layers.20-vision\n",
      "41 model.layers.20\n",
      "42 model.layers.21-vision\n",
      "43 model.layers.21\n",
      "44 model.layers.22-vision\n",
      "45 model.layers.22\n",
      "46 model.layers.23-vision\n",
      "47 model.layers.23\n",
      "48 model.layers.24-vision\n",
      "49 model.layers.24\n",
      "50 model.layers.25-vision\n",
      "51 model.layers.25\n",
      "52 model.layers.26-vision\n",
      "53 model.layers.26\n",
      "54 model.layers.27-vision\n",
      "55 model.layers.27\n",
      "56 model.norm-vision\n",
      "57 model.norm\n",
      "[[np.float64(0.9008261933699923), np.float64(0.9092067703919602), np.float64(0.9103747098822139), np.float64(0.9065938573345126), np.float64(0.8978036582650218), np.float64(0.8956341107778938), np.float64(0.8975430801564757), np.float64(0.8880405304323319), np.float64(0.88929712904773), np.float64(0.8882134066671125), np.float64(0.8813259015309676), np.float64(0.879504934104627), np.float64(0.8785443408364291), np.float64(0.8988429011027684), np.float64(0.8948431932027813), np.float64(0.8976526395322203), np.float64(0.9198212955981131), np.float64(0.9100302635294737), np.float64(0.9329110443390164), np.float64(0.9374251443529419), np.float64(0.9339394746918293), np.float64(0.9204469911155114), np.float64(0.9165351775175151), np.float64(0.9287464123426854), np.float64(0.939654743250169), np.float64(0.9402379745233279), np.float64(0.9212071113779569), np.float64(0.7145373185464724), np.float64(0.6219949077797956)], [np.float64(0.9045001399163637), np.float64(0.9467707121883449), np.float64(0.9483564278908195), np.float64(0.9478454242556063), np.float64(0.9441115699075687), np.float64(0.9427687478009076), np.float64(0.9452017294495474), np.float64(0.941549839490978), np.float64(0.9435047004957947), np.float64(0.9444385110876862), np.float64(0.9418901575750953), np.float64(0.9417756998517158), np.float64(0.9406148478847329), np.float64(0.9472164806536489), np.float64(0.9446127427081874), np.float64(0.9461738023989591), np.float64(0.9553436074601678), np.float64(0.9521362671623719), np.float64(0.9630638492550501), np.float64(0.9639606998081468), np.float64(0.9613055737472941), np.float64(0.9514293422168945), np.float64(0.9489181762208546), np.float64(0.9545793220715354), np.float64(0.9600971257740117), np.float64(0.958986602755038), np.float64(0.9430332075764862), np.float64(0.7538486586090226), np.float64(0.6611800639575248)]]\n"
     ]
    },
    {
     "data": {
      "text/plain": [
       "<Figure size 640x480 with 0 Axes>"
      ]
     },
     "metadata": {},
     "output_type": "display_data"
    },
    {
     "data": {
      "image/png": "[encoded data removed]",
      "text/plain": [
       "<Figure size 640x480 with 1 Axes>"
      ]
     },
     "metadata": {},
     "output_type": "display_data"
    },
    {
     "data": {
      "text/plain": [
       "(<Figure size 640x480 with 1 Axes>,\n",
       " <Axes: xlabel='Layer', ylabel='Mean Image Pairwise Similarity (0-1)'>)"
      ]
     },
     "execution_count": 71,
     "metadata": {},
     "output_type": "execute_result"
    }
   ],
   "source": [
    "# For each layer, calculate the mean similarity and the norm\n",
    "mean_embeddings = {}\n",
    "mean_similarities = {}\n",
    "print(len(module_names))\n",
    "for idx, (name, embs, sims) in enumerate(zip(m_names, m_embeddings, m_similarities)):\n",
    "    # if idx < 4:\n",
    "    #     continue\n",
    "    print(idx, name)\n",
    "    key = name.split(\".\")[0]\n",
    "    if \"-\" in name:\n",
    "        key += \"-{}\".format(name.split(\"-\")[1])\n",
    "    # if key == \"model\":\n",
    "    #     if \"text+vision\" in name:\n",
    "    #         key += \"-visual\"\n",
    "    if key in mean_embeddings:\n",
    "        mean_embeddings[key].append(np.mean(embs))\n",
    "    else:\n",
    "        mean_embeddings[key] = [np.mean(embs)]\n",
    "\n",
    "    if key in mean_similarities:\n",
    "        mean_similarities[key].append(np.mean(sims))\n",
    "    else:\n",
    "        mean_similarities[key] = [np.mean(sims)]\n",
    "\n",
    "# Plot mean image-pair similarity scores by layer\n",
    "xs = []\n",
    "ys = []\n",
    "labels = []\n",
    "n_items = 0\n",
    "for k, v in mean_similarities.items():\n",
    "    if k.startswith(\"model\"):\n",
    "        xs.append([i + n_vision_layers for i in range(len(v))])\n",
    "    else:\n",
    "        xs.append([i for i in range(len(v))])\n",
    "    ys.append(v)\n",
    "    labels.append(\"{} blocks\".format(k))\n",
    "\n",
    "print(ys)\n",
    "visualizations.plot(\n",
    "    xs=xs,\n",
    "    ys=ys,\n",
    "    labels=labels,\n",
    "    alpha=0.8,\n",
    "    xlabel='Layer',\n",
    "    ylabel='Mean Image Pairwise Similarity (0-1)',\n",
    "    show=True\n",
    ")\n"
   ]
  },
  {
   "cell_type": "code",
   "execution_count": null,
   "id": "e49ffa81",
   "metadata": {},
   "outputs": [],
   "source": []
  }
 ],
 "metadata": {
  "kernelspec": {
   "display_name": "vlm-lens-base",
   "language": "python",
   "name": "python3"
  },
  "language_info": {
   "codemirror_mode": {
    "name": "ipython",
    "version": 3
   },
   "file_extension": ".py",
   "mimetype": "text/x-python",
   "name": "python",
   "nbconvert_exporter": "python",
   "pygments_lexer": "ipython3",
   "version": "3.10.18"
  }
 },
 "nbformat": 4,
 "nbformat_minor": 5
}

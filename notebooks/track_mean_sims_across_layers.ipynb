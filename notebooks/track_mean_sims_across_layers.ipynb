{
 "cells": [
  {
   "cell_type": "code",
   "execution_count": 1,
   "id": "9bb1f741",
   "metadata": {},
   "outputs": [
    {
     "name": "stderr",
     "output_type": "stream",
     "text": [
      "/n/fs/ac-project/anaconda3/envs/vlm-lens-base/lib/python3.10/site-packages/tqdm/auto.py:21: TqdmWarning: IProgress not found. Please update jupyter and ipywidgets. See https://ipywidgets.readthedocs.io/en/stable/user_install.html\n",
      "  from .autonotebook import tqdm as notebook_tqdm\n"
     ]
    }
   ],
   "source": [
    "%load_ext autoreload\n",
    "%autoreload 2\n",
    "\n",
    "import matplotlib.pyplot as plt\n",
    "import numpy as np\n",
    "import os, sys\n",
    "from scipy.stats import spearmanr\n",
    "import sqlite3\n",
    "import torch\n",
    "from tqdm import tqdm\n",
    "\n",
    "sys.path.insert(0, '../src')\n",
    "sys.path.insert(1, '..')\n",
    "\n",
    "from main import get_model\n",
    "from models.config import Config, IMAGE_TOKEN_IDS\n",
    "import db_utils, visualizations, utils, similarity_utils"
   ]
  },
  {
   "cell_type": "code",
   "execution_count": 2,
   "id": "fadd8408",
   "metadata": {},
   "outputs": [],
   "source": [
    "sys.argv = ['notebooks/get_representations.ipynb',\n",
    "            '--config', '../configs/models/qwen/Qwen2-VL-2B-Instruct-VisualBlocks.yaml']\n",
    "\n",
    "config = Config()"
   ]
  },
  {
   "cell_type": "code",
   "execution_count": 3,
   "id": "d9779e59",
   "metadata": {},
   "outputs": [
    {
     "name": "stderr",
     "output_type": "stream",
     "text": [
      "Loading checkpoint shards: 100%|██████████| 2/2 [00:08<00:00,  4.27s/it]\n",
      "Using a slow image processor as `use_fast` is unset and a slow processor was saved with this model. `use_fast=True` will be the default behavior in v4.52, even if the model was saved with a slow processor. This will result in minor differences in outputs. You'll still be able to use a slow processor with `use_fast=False`.\n"
     ]
    }
   ],
   "source": [
    "model = get_model(config.architecture, config)"
   ]
  },
  {
   "cell_type": "code",
   "execution_count": 5,
   "id": "cffc847d",
   "metadata": {},
   "outputs": [
    {
     "name": "stdout",
     "output_type": "stream",
     "text": [
      "Qwen2VLForConditionalGeneration(\n",
      "  (visual): Qwen2VisionTransformerPretrainedModel(\n",
      "    (patch_embed): PatchEmbed(\n",
      "      (proj): Conv3d(3, 1280, kernel_size=(2, 14, 14), stride=(2, 14, 14), bias=False)\n",
      "    )\n",
      "    (rotary_pos_emb): VisionRotaryEmbedding()\n",
      "    (blocks): ModuleList(\n",
      "      (0-31): 32 x Qwen2VLVisionBlock(\n",
      "        (norm1): LayerNorm((1280,), eps=1e-06, elementwise_affine=True)\n",
      "        (norm2): LayerNorm((1280,), eps=1e-06, elementwise_affine=True)\n",
      "        (attn): VisionSdpaAttention(\n",
      "          (qkv): Linear(in_features=1280, out_features=3840, bias=True)\n",
      "          (proj): Linear(in_features=1280, out_features=1280, bias=True)\n",
      "        )\n",
      "        (mlp): VisionMlp(\n",
      "          (fc1): Linear(in_features=1280, out_features=5120, bias=True)\n",
      "          (act): QuickGELUActivation()\n",
      "          (fc2): Linear(in_features=5120, out_features=1280, bias=True)\n",
      "        )\n",
      "      )\n",
      "    )\n",
      "    (merger): PatchMerger(\n",
      "      (ln_q): LayerNorm((1280,), eps=1e-06, elementwise_affine=True)\n",
      "      (mlp): Sequential(\n",
      "        (0): Linear(in_features=5120, out_features=5120, bias=True)\n",
      "        (1): GELU(approximate='none')\n",
      "        (2): Linear(in_features=5120, out_features=1536, bias=True)\n",
      "      )\n",
      "    )\n",
      "  )\n",
      "  (model): Qwen2VLModel(\n",
      "    (embed_tokens): Embedding(151936, 1536)\n",
      "    (layers): ModuleList(\n",
      "      (0-27): 28 x Qwen2VLDecoderLayer(\n",
      "        (self_attn): Qwen2VLSdpaAttention(\n",
      "          (q_proj): Linear(in_features=1536, out_features=1536, bias=True)\n",
      "          (k_proj): Linear(in_features=1536, out_features=256, bias=True)\n",
      "          (v_proj): Linear(in_features=1536, out_features=256, bias=True)\n",
      "          (o_proj): Linear(in_features=1536, out_features=1536, bias=False)\n",
      "          (rotary_emb): Qwen2VLRotaryEmbedding()\n",
      "        )\n",
      "        (mlp): Qwen2MLP(\n",
      "          (gate_proj): Linear(in_features=1536, out_features=8960, bias=False)\n",
      "          (up_proj): Linear(in_features=1536, out_features=8960, bias=False)\n",
      "          (down_proj): Linear(in_features=8960, out_features=1536, bias=False)\n",
      "          (act_fn): SiLU()\n",
      "        )\n",
      "        (input_layernorm): Qwen2RMSNorm((1536,), eps=1e-06)\n",
      "        (post_attention_layernorm): Qwen2RMSNorm((1536,), eps=1e-06)\n",
      "      )\n",
      "    )\n",
      "    (norm): Qwen2RMSNorm((1536,), eps=1e-06)\n",
      "    (rotary_emb): Qwen2VLRotaryEmbedding()\n",
      "  )\n",
      "  (lm_head): Linear(in_features=1536, out_features=151936, bias=False)\n",
      ")\n"
     ]
    }
   ],
   "source": [
    "print(model.model)\n"
   ]
  },
  {
   "cell_type": "code",
   "execution_count": 4,
   "id": "a79b7af0",
   "metadata": {},
   "outputs": [
    {
     "name": "stdout",
     "output_type": "stream",
     "text": [
      "visual.blocks.0\n",
      "visual.blocks.1\n",
      "visual.blocks.2\n",
      "visual.blocks.3\n",
      "visual.blocks.4\n",
      "visual.blocks.5\n",
      "visual.blocks.6\n",
      "visual.blocks.7\n",
      "visual.blocks.8\n",
      "visual.blocks.9\n",
      "visual.blocks.10\n",
      "visual.blocks.11\n",
      "visual.blocks.12\n",
      "visual.blocks.13\n",
      "visual.blocks.14\n",
      "visual.blocks.15\n",
      "visual.blocks.16\n",
      "visual.blocks.17\n",
      "visual.blocks.18\n",
      "visual.blocks.19\n",
      "visual.blocks.20\n",
      "visual.blocks.21\n",
      "visual.blocks.22\n",
      "visual.blocks.23\n",
      "visual.blocks.24\n",
      "visual.blocks.25\n",
      "visual.blocks.26\n",
      "visual.blocks.27\n",
      "visual.blocks.28\n",
      "visual.blocks.29\n",
      "visual.blocks.30\n",
      "visual.blocks.31\n",
      "visual.merger\n",
      "model.layers.0\n",
      "model.layers.1\n",
      "model.layers.2\n",
      "model.layers.3\n",
      "model.layers.4\n",
      "model.layers.5\n",
      "model.layers.6\n",
      "model.layers.7\n",
      "model.layers.8\n",
      "model.layers.9\n",
      "model.layers.10\n",
      "model.layers.11\n",
      "model.layers.12\n",
      "model.layers.13\n",
      "model.layers.14\n",
      "model.layers.15\n",
      "model.layers.16\n",
      "model.layers.17\n",
      "model.layers.18\n",
      "model.layers.19\n",
      "model.layers.20\n",
      "model.layers.21\n",
      "model.layers.22\n",
      "model.layers.23\n",
      "model.layers.24\n",
      "model.layers.25\n",
      "model.layers.26\n",
      "model.layers.27\n",
      "model.norm\n"
     ]
    }
   ],
   "source": [
    "for name, module in model.model.named_modules():\n",
    "    if model.config.matches_module(name):\n",
    "        print(name)"
   ]
  },
  {
   "cell_type": "code",
   "execution_count": 5,
   "id": "fb16daf6",
   "metadata": {},
   "outputs": [
    {
     "name": "stderr",
     "output_type": "stream",
     "text": [
      "Running forward hooks on data: 100%|██████████| 50/50 [01:07<00:00,  1.35s/it]\n"
     ]
    }
   ],
   "source": [
    "model.run(save_tokens=True)"
   ]
  },
  {
   "cell_type": "code",
   "execution_count": 4,
   "id": "affc9454",
   "metadata": {},
   "outputs": [
    {
     "name": "stdout",
     "output_type": "stream",
     "text": [
      "[1020_090826] ../output/Qwen2-VL-2B-Instruct-VisualBlocks.db\n"
     ]
    }
   ],
   "source": [
    "db_path = model.config.output_db\n",
    "utils.informal_log(db_path)\n",
    "connection = sqlite3.connect(db_path)\n",
    "connection.row_factory = sqlite3.Row\n",
    "cursor = connection.cursor()"
   ]
  },
  {
   "cell_type": "code",
   "execution_count": 7,
   "id": "6844eb49",
   "metadata": {},
   "outputs": [
    {
     "name": "stdout",
     "output_type": "stream",
     "text": [
      "{'layer': 'input_ids'}\n",
      "{'layer': 'visual.blocks.0'}\n",
      "{'layer': 'visual.blocks.1'}\n",
      "{'layer': 'visual.blocks.2'}\n",
      "{'layer': 'visual.blocks.3'}\n",
      "{'layer': 'visual.blocks.4'}\n",
      "{'layer': 'visual.blocks.5'}\n",
      "{'layer': 'visual.blocks.6'}\n",
      "{'layer': 'visual.blocks.7'}\n",
      "{'layer': 'visual.blocks.8'}\n",
      "{'layer': 'visual.blocks.9'}\n",
      "{'layer': 'visual.blocks.10'}\n",
      "{'layer': 'visual.blocks.11'}\n",
      "{'layer': 'visual.blocks.12'}\n",
      "{'layer': 'visual.blocks.13'}\n",
      "{'layer': 'visual.blocks.14'}\n",
      "{'layer': 'visual.blocks.15'}\n",
      "{'layer': 'visual.blocks.16'}\n",
      "{'layer': 'visual.blocks.17'}\n",
      "{'layer': 'visual.blocks.18'}\n",
      "{'layer': 'visual.blocks.19'}\n",
      "{'layer': 'visual.blocks.20'}\n",
      "{'layer': 'visual.blocks.21'}\n",
      "{'layer': 'visual.blocks.22'}\n",
      "{'layer': 'visual.blocks.23'}\n",
      "{'layer': 'visual.blocks.24'}\n",
      "{'layer': 'visual.blocks.25'}\n",
      "{'layer': 'visual.blocks.26'}\n",
      "{'layer': 'visual.blocks.27'}\n",
      "{'layer': 'visual.blocks.28'}\n",
      "{'layer': 'visual.blocks.29'}\n",
      "{'layer': 'visual.blocks.30'}\n",
      "{'layer': 'visual.blocks.31'}\n",
      "{'layer': 'visual.merger'}\n",
      "{'layer': 'model.layers.0'}\n",
      "{'layer': 'model.layers.1'}\n",
      "{'layer': 'model.layers.2'}\n",
      "{'layer': 'model.layers.3'}\n",
      "{'layer': 'model.layers.4'}\n",
      "{'layer': 'model.layers.5'}\n",
      "{'layer': 'model.layers.6'}\n",
      "{'layer': 'model.layers.7'}\n",
      "{'layer': 'model.layers.8'}\n",
      "{'layer': 'model.layers.9'}\n",
      "{'layer': 'model.layers.10'}\n",
      "{'layer': 'model.layers.11'}\n",
      "{'layer': 'model.layers.12'}\n",
      "{'layer': 'model.layers.13'}\n",
      "{'layer': 'model.layers.14'}\n",
      "{'layer': 'model.layers.15'}\n",
      "{'layer': 'model.layers.16'}\n",
      "{'layer': 'model.layers.17'}\n",
      "{'layer': 'model.layers.18'}\n",
      "{'layer': 'model.layers.19'}\n",
      "{'layer': 'model.layers.20'}\n",
      "{'layer': 'model.layers.21'}\n",
      "{'layer': 'model.layers.22'}\n",
      "{'layer': 'model.layers.23'}\n",
      "{'layer': 'model.layers.24'}\n",
      "{'layer': 'model.layers.25'}\n",
      "{'layer': 'model.layers.26'}\n",
      "{'layer': 'model.layers.27'}\n",
      "{'layer': 'model.norm'}\n"
     ]
    }
   ],
   "source": [
    "for r in cursor.execute(\"\"\"\n",
    "  SELECT DISTINCT layer\n",
    "  FROM tensors\n",
    "\"\"\"):\n",
    "    print(dict(r))"
   ]
  },
  {
   "cell_type": "code",
   "execution_count": 26,
   "id": "0635d2ae",
   "metadata": {},
   "outputs": [
    {
     "name": "stdout",
     "output_type": "stream",
     "text": [
      "{'id': 1, 'image_id': None, 'timestamp': '2025-10-14 15:20:08', 'name': 'Qwen/Qwen2-VL-2B-Instruct', 'image_path': '/n/fs/ac-vlm/vlm-lens/data_local/coco/cocoval/000000414795.jpg', 'prompt': 'Describe this image in one sentence.', 'label': None, 'layer': 'input_ids', 'pooling_method': None, 'tensor_dim': 1, 'tensor_shape': 'torch.Size([1, 172])', 'tensor_bytes': 2524}\n",
      "{'id': 2, 'image_id': None, 'timestamp': '2025-10-14 15:20:08', 'name': 'Qwen/Qwen2-VL-2B-Instruct', 'image_path': '/n/fs/ac-vlm/vlm-lens/data_local/coco/cocoval/000000414795.jpg', 'prompt': 'Describe this image in one sentence.', 'label': None, 'layer': 'visual.blocks.31', 'pooling_method': None, 'tensor_dim': 1280, 'tensor_shape': 'torch.Size([576, 1280])', 'tensor_bytes': 1475740}\n",
      "{'id': 3, 'image_id': None, 'timestamp': '2025-10-14 15:20:08', 'name': 'Qwen/Qwen2-VL-2B-Instruct', 'image_path': '/n/fs/ac-vlm/vlm-lens/data_local/coco/cocoval/000000414795.jpg', 'prompt': 'Describe this image in one sentence.', 'label': None, 'layer': 'visual.merger', 'pooling_method': None, 'tensor_dim': 1536, 'tensor_shape': 'torch.Size([144, 1536])', 'tensor_bytes': 443548}\n",
      "{'id': 4, 'image_id': None, 'timestamp': '2025-10-14 15:20:08', 'name': 'Qwen/Qwen2-VL-2B-Instruct', 'image_path': '/n/fs/ac-vlm/vlm-lens/data_local/coco/cocoval/000000414795.jpg', 'prompt': 'Describe this image in one sentence.', 'label': None, 'layer': 'model.layers.27', 'pooling_method': None, 'tensor_dim': 1536, 'tensor_shape': 'torch.Size([1, 172, 1536])', 'tensor_bytes': 529564}\n",
      "{'id': 5, 'image_id': None, 'timestamp': '2025-10-14 15:20:08', 'name': 'Qwen/Qwen2-VL-2B-Instruct', 'image_path': '/n/fs/ac-vlm/vlm-lens/data_local/coco/cocoval/000000414795.jpg', 'prompt': 'Describe this image in one sentence.', 'label': None, 'layer': 'model.norm', 'pooling_method': None, 'tensor_dim': 1536, 'tensor_shape': 'torch.Size([1, 172, 1536])', 'tensor_bytes': 529564}\n",
      "{'id': 6, 'image_id': None, 'timestamp': '2025-10-14 15:20:08', 'name': 'Qwen/Qwen2-VL-2B-Instruct', 'image_path': '/n/fs/ac-vlm/vlm-lens/data_local/coco/cocoval/000000343149.jpg', 'prompt': 'Describe this image in one sentence.', 'label': None, 'layer': 'input_ids', 'pooling_method': None, 'tensor_dim': 1, 'tensor_shape': 'torch.Size([1, 172])', 'tensor_bytes': 2524}\n",
      "{'id': 7, 'image_id': None, 'timestamp': '2025-10-14 15:20:08', 'name': 'Qwen/Qwen2-VL-2B-Instruct', 'image_path': '/n/fs/ac-vlm/vlm-lens/data_local/coco/cocoval/000000343149.jpg', 'prompt': 'Describe this image in one sentence.', 'label': None, 'layer': 'visual.blocks.31', 'pooling_method': None, 'tensor_dim': 1280, 'tensor_shape': 'torch.Size([576, 1280])', 'tensor_bytes': 1475740}\n",
      "{'id': 8, 'image_id': None, 'timestamp': '2025-10-14 15:20:08', 'name': 'Qwen/Qwen2-VL-2B-Instruct', 'image_path': '/n/fs/ac-vlm/vlm-lens/data_local/coco/cocoval/000000343149.jpg', 'prompt': 'Describe this image in one sentence.', 'label': None, 'layer': 'visual.merger', 'pooling_method': None, 'tensor_dim': 1536, 'tensor_shape': 'torch.Size([144, 1536])', 'tensor_bytes': 443548}\n",
      "{'id': 9, 'image_id': None, 'timestamp': '2025-10-14 15:20:08', 'name': 'Qwen/Qwen2-VL-2B-Instruct', 'image_path': '/n/fs/ac-vlm/vlm-lens/data_local/coco/cocoval/000000343149.jpg', 'prompt': 'Describe this image in one sentence.', 'label': None, 'layer': 'model.layers.27', 'pooling_method': None, 'tensor_dim': 1536, 'tensor_shape': 'torch.Size([1, 172, 1536])', 'tensor_bytes': 529564}\n",
      "{'id': 10, 'image_id': None, 'timestamp': '2025-10-14 15:20:08', 'name': 'Qwen/Qwen2-VL-2B-Instruct', 'image_path': '/n/fs/ac-vlm/vlm-lens/data_local/coco/cocoval/000000343149.jpg', 'prompt': 'Describe this image in one sentence.', 'label': None, 'layer': 'model.norm', 'pooling_method': None, 'tensor_dim': 1536, 'tensor_shape': 'torch.Size([1, 172, 1536])', 'tensor_bytes': 529564}\n",
      "{'id': 11, 'image_id': None, 'timestamp': '2025-10-14 15:20:08', 'name': 'Qwen/Qwen2-VL-2B-Instruct', 'image_path': '/n/fs/ac-vlm/vlm-lens/data_local/coco/cocoval/000000066561.jpg', 'prompt': 'Describe this image in one sentence.', 'label': None, 'layer': 'input_ids', 'pooling_method': None, 'tensor_dim': 1, 'tensor_shape': 'torch.Size([1, 172])', 'tensor_bytes': 2524}\n",
      "{'id': 12, 'image_id': None, 'timestamp': '2025-10-14 15:20:08', 'name': 'Qwen/Qwen2-VL-2B-Instruct', 'image_path': '/n/fs/ac-vlm/vlm-lens/data_local/coco/cocoval/000000066561.jpg', 'prompt': 'Describe this image in one sentence.', 'label': None, 'layer': 'visual.blocks.31', 'pooling_method': None, 'tensor_dim': 1280, 'tensor_shape': 'torch.Size([576, 1280])', 'tensor_bytes': 1475740}\n",
      "{'id': 13, 'image_id': None, 'timestamp': '2025-10-14 15:20:08', 'name': 'Qwen/Qwen2-VL-2B-Instruct', 'image_path': '/n/fs/ac-vlm/vlm-lens/data_local/coco/cocoval/000000066561.jpg', 'prompt': 'Describe this image in one sentence.', 'label': None, 'layer': 'visual.merger', 'pooling_method': None, 'tensor_dim': 1536, 'tensor_shape': 'torch.Size([144, 1536])', 'tensor_bytes': 443548}\n",
      "{'id': 14, 'image_id': None, 'timestamp': '2025-10-14 15:20:08', 'name': 'Qwen/Qwen2-VL-2B-Instruct', 'image_path': '/n/fs/ac-vlm/vlm-lens/data_local/coco/cocoval/000000066561.jpg', 'prompt': 'Describe this image in one sentence.', 'label': None, 'layer': 'model.layers.27', 'pooling_method': None, 'tensor_dim': 1536, 'tensor_shape': 'torch.Size([1, 172, 1536])', 'tensor_bytes': 529564}\n",
      "{'id': 15, 'image_id': None, 'timestamp': '2025-10-14 15:20:08', 'name': 'Qwen/Qwen2-VL-2B-Instruct', 'image_path': '/n/fs/ac-vlm/vlm-lens/data_local/coco/cocoval/000000066561.jpg', 'prompt': 'Describe this image in one sentence.', 'label': None, 'layer': 'model.norm', 'pooling_method': None, 'tensor_dim': 1536, 'tensor_shape': 'torch.Size([1, 172, 1536])', 'tensor_bytes': 529564}\n",
      "{'id': 16, 'image_id': None, 'timestamp': '2025-10-14 15:20:08', 'name': 'Qwen/Qwen2-VL-2B-Instruct', 'image_path': '/n/fs/ac-vlm/vlm-lens/data_local/coco/cocoval/000000006614.jpg', 'prompt': 'Describe this image in one sentence.', 'label': None, 'layer': 'input_ids', 'pooling_method': None, 'tensor_dim': 1, 'tensor_shape': 'torch.Size([1, 172])', 'tensor_bytes': 2524}\n",
      "{'id': 17, 'image_id': None, 'timestamp': '2025-10-14 15:20:08', 'name': 'Qwen/Qwen2-VL-2B-Instruct', 'image_path': '/n/fs/ac-vlm/vlm-lens/data_local/coco/cocoval/000000006614.jpg', 'prompt': 'Describe this image in one sentence.', 'label': None, 'layer': 'visual.blocks.31', 'pooling_method': None, 'tensor_dim': 1280, 'tensor_shape': 'torch.Size([576, 1280])', 'tensor_bytes': 1475740}\n",
      "{'id': 18, 'image_id': None, 'timestamp': '2025-10-14 15:20:08', 'name': 'Qwen/Qwen2-VL-2B-Instruct', 'image_path': '/n/fs/ac-vlm/vlm-lens/data_local/coco/cocoval/000000006614.jpg', 'prompt': 'Describe this image in one sentence.', 'label': None, 'layer': 'visual.merger', 'pooling_method': None, 'tensor_dim': 1536, 'tensor_shape': 'torch.Size([144, 1536])', 'tensor_bytes': 443548}\n",
      "{'id': 19, 'image_id': None, 'timestamp': '2025-10-14 15:20:08', 'name': 'Qwen/Qwen2-VL-2B-Instruct', 'image_path': '/n/fs/ac-vlm/vlm-lens/data_local/coco/cocoval/000000006614.jpg', 'prompt': 'Describe this image in one sentence.', 'label': None, 'layer': 'model.layers.27', 'pooling_method': None, 'tensor_dim': 1536, 'tensor_shape': 'torch.Size([1, 172, 1536])', 'tensor_bytes': 529564}\n",
      "{'id': 20, 'image_id': None, 'timestamp': '2025-10-14 15:20:08', 'name': 'Qwen/Qwen2-VL-2B-Instruct', 'image_path': '/n/fs/ac-vlm/vlm-lens/data_local/coco/cocoval/000000006614.jpg', 'prompt': 'Describe this image in one sentence.', 'label': None, 'layer': 'model.norm', 'pooling_method': None, 'tensor_dim': 1536, 'tensor_shape': 'torch.Size([1, 172, 1536])', 'tensor_bytes': 529564}\n"
     ]
    }
   ],
   "source": [
    "for r in cursor.execute(\"\"\"\n",
    "  SELECT id, image_id, timestamp, name, image_path, prompt, label, layer, pooling_method, tensor_dim, tensor_shape,\n",
    "         length(tensor) AS tensor_bytes\n",
    "  FROM tensors\n",
    "  LIMIT 20\n",
    "\"\"\"):\n",
    "    print(dict(r))"
   ]
  },
  {
   "cell_type": "markdown",
   "id": "b1034049",
   "metadata": {},
   "source": [
    "### For each image, calculate similarity of embeddings between pairs of layers"
   ]
  },
  {
   "cell_type": "code",
   "execution_count": null,
   "id": "c60d587b",
   "metadata": {},
   "outputs": [
    {
     "ename": "ValueError",
     "evalue": "too many values to unpack (expected 2)",
     "output_type": "error",
     "traceback": [
      "\u001b[0;31m---------------------------------------------------------------------------\u001b[0m",
      "\u001b[0;31mValueError\u001b[0m                                Traceback (most recent call last)",
      "Cell \u001b[0;32mIn[5], line 20\u001b[0m\n\u001b[1;32m      9\u001b[0m input_ids, input_ids_same_shapes \u001b[38;5;241m=\u001b[39m db_utils\u001b[38;5;241m.\u001b[39munwrap_embeddings(input_ids)\n\u001b[1;32m     11\u001b[0m \u001b[38;5;66;03m# Get module names:\u001b[39;00m\n\u001b[1;32m     12\u001b[0m \u001b[38;5;66;03m# for name, _ in model.model.named_modules():\u001b[39;00m\n\u001b[1;32m     13\u001b[0m \u001b[38;5;66;03m#     if model.config.matches_module(name):\u001b[39;00m\n\u001b[0;32m   (...)\u001b[0m\n\u001b[1;32m     18\u001b[0m \u001b[38;5;66;03m# Get embeddings for each layer\u001b[39;00m\n\u001b[1;32m     19\u001b[0m \u001b[38;5;66;03m# for module_name, _ in model.model.named_modules():\u001b[39;00m\n\u001b[0;32m---> 20\u001b[0m \u001b[38;5;28;01mfor\u001b[39;00m module_name, _ \u001b[38;5;129;01min\u001b[39;00m [\u001b[38;5;124m\"\u001b[39m\u001b[38;5;124mmodel.norm\u001b[39m\u001b[38;5;124m\"\u001b[39m]:\n\u001b[1;32m     21\u001b[0m     \u001b[38;5;28;01mif\u001b[39;00m \u001b[38;5;129;01mnot\u001b[39;00m model\u001b[38;5;241m.\u001b[39mconfig\u001b[38;5;241m.\u001b[39mmatches_module(module_name):\n\u001b[1;32m     22\u001b[0m         \u001b[38;5;28;01mcontinue\u001b[39;00m\n",
      "\u001b[0;31mValueError\u001b[0m: too many values to unpack (expected 2)"
     ]
    }
   ],
   "source": [
    "module_names = []\n",
    "module_embeddings = []\n",
    "module_similarities = []\n",
    "# Get input_ids\n",
    "input_ids = db_utils.get_embeddings_by_layer(\n",
    "    db_path=db_path,\n",
    "    layer_name=\"input_ids\",\n",
    "    device=\"cuda\")\n",
    "input_ids, input_ids_same_shapes = db_utils.unwrap_embeddings(input_ids)\n",
    "\n"
   ]
  },
  {
   "cell_type": "code",
   "execution_count": 25,
   "id": "8a553c80",
   "metadata": {},
   "outputs": [
    {
     "name": "stdout",
     "output_type": "stream",
     "text": [
      "model.norm\n"
     ]
    }
   ],
   "source": [
    "# Get embeddings for each layer\n",
    "# for module_name, _ in model.model.named_modules():\n",
    "for module_name in [\"model.norm\"]:\n",
    "    if not model.config.matches_module(module_name):\n",
    "        continue\n",
    "    print(module_name)\n",
    "    module_embedding = db_utils.get_embeddings_by_layer(\n",
    "        db_path=db_path,\n",
    "        layer_name=module_name\n",
    "    )\n",
    "    try:\n",
    "        module_embedding, module_embedding_same_shapes = db_utils.unwrap_embeddings(module_embedding)\n",
    "    except Exception as e:\n",
    "        print(module_name, module_embedding)\n",
    "\n",
    "    # Calculate mean embedding\n",
    "    mean_embeddings = db_utils.compute_mean_embeddings(\n",
    "        embeddings=module_embedding)\n",
    "    module_names.append(module_name)\n",
    "    module_embeddings.append(mean_embeddings)\n",
    "\n",
    "    # Calculate similarities of pairs of images\n",
    "    module_sim = db_utils.cosine_similarity_numpy(mean_embeddings, mean_embeddings)\n",
    "    # Assert similarity is symmetric\n",
    "    assert np.array_equal(module_sim, module_sim.T)\n",
    "\n",
    "    # Select only Upper Triangular Matrix\n",
    "    n_samples = module_sim.shape[0]\n",
    "    ut_idxs = np.triu_indices(n_samples, k=1)\n",
    "    sim_values = module_sim[ut_idxs]\n",
    "    assert len(sim_values) == n_samples * (n_samples - 1) / 2\n",
    "    # Store values in list\n",
    "    module_similarities.append(sim_values)\n",
    "\n",
    "    # Compute mean embedding of visual tokens only (if applicable)\n",
    "    if module_name.startswith(\"model\"):\n",
    "        module_visual_embedding, n_visual_tokens = db_utils.extract_visual_embeddings(\n",
    "            input_ids=input_ids,\n",
    "            llm_embeddings=module_embedding,\n",
    "            image_token_id=IMAGE_TOKEN_IDS[config.architecture],\n",
    "            same_shapes=module_embedding_same_shapes\n",
    "        )\n",
    "        # Calculate mean embedding\n",
    "        visual_mean_embeddings = db_utils.compute_mean_embeddings(\n",
    "            embeddings=module_visual_embedding,\n",
    "            n_embeddings=n_visual_tokens)\n",
    "        # Compute similarity\n",
    "        module_sim = db_utils.cosine_similarity_numpy(visual_mean_embeddings, visual_mean_embeddings)\n",
    "        # Assert similarity is symmetric\n",
    "        assert np.array_equal(module_sim, module_sim.T)\n",
    "\n",
    "        # Select only Upper Triangular Matrix\n",
    "        n_samples = module_sim.shape[0]\n",
    "        ut_idxs = np.triu_indices(n_samples, k=1)\n",
    "        sim_values = module_sim[ut_idxs]\n",
    "        assert len(sim_values) == n_samples * (n_samples - 1) / 2\n",
    "\n",
    "        # Store values in list\n",
    "        module_names.append(\"{}-visual\".format(module_name))\n",
    "        module_embeddings.append(visual_mean_embeddings)\n",
    "        module_similarities.append(sim_values)\n",
    "\n"
   ]
  },
  {
   "cell_type": "code",
   "execution_count": null,
   "id": "39e31d31",
   "metadata": {},
   "outputs": [
    {
     "name": "stdout",
     "output_type": "stream",
     "text": [
      "['model.norm', 'model.norm-visual']\n",
      "(1225,) (1225,)\n"
     ]
    }
   ],
   "source": [
    "print(module_names)\n",
    "print(module_similarities[0].shape, module_similarities[1].shape)\n",
    "print(module_embeddings[0].shape, module_embeddings[1].shape)"
   ]
  },
  {
   "cell_type": "code",
   "execution_count": null,
   "id": "3a781971",
   "metadata": {},
   "outputs": [
    {
     "name": "stdout",
     "output_type": "stream",
     "text": [
      "model.norm\n"
     ]
    }
   ],
   "source": [
    "visual_names, visual_embs, visual_sims = similarity_utils.compute_image_pair_similarities(\n",
    "    database_path=db_path,\n",
    "    model=model,\n",
    "    layer_names=['model.norm'],\n",
    "    extract_visual_tokens=True)"
   ]
  },
  {
   "cell_type": "code",
   "execution_count": 26,
   "id": "afa7fd10",
   "metadata": {},
   "outputs": [
    {
     "name": "stdout",
     "output_type": "stream",
     "text": [
      "(1, 50, 1536)\n",
      "(172, 1536)\n",
      "(172, 1536)\n",
      "[[[ -2.61923218  -9.61315918   3.25558302 ...  -2.02469889   1.4862637\n",
      "     1.01981269]\n",
      "  [ -1.52073648 -11.36130778   1.67143228 ...  -1.6037284   -3.06074015\n",
      "    -0.39435832]\n",
      "  [ -0.69318602  -7.95814345   3.77953423 ...  -2.30280092   0.94132487\n",
      "    -0.34488593]\n",
      "  [ -2.57516903  -3.85864258   0.41309018 ...   0.04907735   1.77651638\n",
      "    -0.12681749]\n",
      "  [ -1.17917209 -11.38186306   1.92657132 ...  -1.0068086    1.02960205\n",
      "    -0.23829905]]]\n",
      "[[ -0.01269531   0.4296875   -0.171875     0.42382812   0.44726562]\n",
      " [ -1.1328125    1.8203125    2.6875       2.28125      3.328125  ]\n",
      " [ -2.515625     8.5          0.765625    -5.65625      5.6875    ]\n",
      " [ -4.0625     -12.625        0.9609375   -1.984375    -6.8125    ]\n",
      " [ -2.171875    -9.5          7.25         1.5078125   -2.6875    ]]\n"
     ]
    }
   ],
   "source": [
    "print(np.array(visual_embs).shape)\n",
    "print(np.array(module_embedding[1]).shape)\n",
    "print(np.array(module_embedding[0]).shape)\n",
    "print(np.array(visual_embs)[:5, :5])\n",
    "print(np.array(module_embedding[1])[:5, :5])"
   ]
  },
  {
   "cell_type": "code",
   "execution_count": 6,
   "id": "76a7beaa",
   "metadata": {},
   "outputs": [
    {
     "name": "stdout",
     "output_type": "stream",
     "text": [
      "0 visual.blocks.0\n",
      "1 visual.blocks.1\n",
      "2 visual.blocks.2\n",
      "3 visual.blocks.3\n",
      "4 visual.blocks.4\n",
      "5 visual.blocks.5\n",
      "6 visual.blocks.6\n",
      "7 visual.blocks.7\n",
      "8 visual.blocks.8\n",
      "9 visual.blocks.9\n",
      "10 visual.blocks.10\n",
      "11 visual.blocks.11\n",
      "12 visual.blocks.12\n",
      "13 visual.blocks.13\n",
      "14 visual.blocks.14\n",
      "15 visual.blocks.15\n",
      "16 visual.blocks.16\n",
      "17 visual.blocks.17\n",
      "18 visual.blocks.18\n",
      "19 visual.blocks.19\n",
      "20 visual.blocks.20\n",
      "21 visual.blocks.21\n",
      "22 visual.blocks.22\n",
      "23 visual.blocks.23\n",
      "24 visual.blocks.24\n",
      "25 visual.blocks.25\n",
      "26 visual.blocks.26\n",
      "27 visual.blocks.27\n",
      "28 visual.blocks.28\n",
      "29 visual.blocks.29\n",
      "30 visual.blocks.30\n",
      "31 visual.blocks.31\n",
      "32 visual.merger\n",
      "33 model.layers.0\n",
      "34 model.layers.0-visual\n",
      "35 model.layers.1\n",
      "36 model.layers.1-visual\n",
      "37 model.layers.2\n",
      "38 model.layers.2-visual\n",
      "39 model.layers.3\n",
      "40 model.layers.3-visual\n",
      "41 model.layers.4\n",
      "42 model.layers.4-visual\n",
      "43 model.layers.5\n",
      "44 model.layers.5-visual\n",
      "45 model.layers.6\n",
      "46 model.layers.6-visual\n",
      "47 model.layers.7\n",
      "48 model.layers.7-visual\n",
      "49 model.layers.8\n",
      "50 model.layers.8-visual\n",
      "51 model.layers.9\n",
      "52 model.layers.9-visual\n",
      "53 model.layers.10\n",
      "54 model.layers.10-visual\n",
      "55 model.layers.11\n",
      "56 model.layers.11-visual\n",
      "57 model.layers.12\n",
      "58 model.layers.12-visual\n",
      "59 model.layers.13\n",
      "60 model.layers.13-visual\n",
      "61 model.layers.14\n",
      "62 model.layers.14-visual\n",
      "63 model.layers.15\n",
      "64 model.layers.15-visual\n",
      "65 model.layers.16\n",
      "66 model.layers.16-visual\n",
      "67 model.layers.17\n",
      "68 model.layers.17-visual\n",
      "69 model.layers.18\n",
      "70 model.layers.18-visual\n",
      "71 model.layers.19\n",
      "72 model.layers.19-visual\n",
      "73 model.layers.20\n",
      "74 model.layers.20-visual\n",
      "75 model.layers.21\n",
      "76 model.layers.21-visual\n",
      "77 model.layers.22\n",
      "78 model.layers.22-visual\n",
      "79 model.layers.23\n",
      "80 model.layers.23-visual\n",
      "81 model.layers.24\n",
      "82 model.layers.24-visual\n",
      "83 model.layers.25\n",
      "84 model.layers.25-visual\n",
      "85 model.layers.26\n",
      "86 model.layers.26-visual\n",
      "87 model.layers.27\n",
      "88 model.layers.27-visual\n",
      "89 model.norm\n",
      "90 model.norm-visual\n",
      "33\n"
     ]
    },
    {
     "data": {
      "text/plain": [
       "<Figure size 640x480 with 0 Axes>"
      ]
     },
     "metadata": {},
     "output_type": "display_data"
    },
    {
     "data": {
      "image/png": "[encoded data removed]",
      "text/plain": [
       "<Figure size 640x480 with 1 Axes>"
      ]
     },
     "metadata": {},
     "output_type": "display_data"
    },
    {
     "data": {
      "text/plain": [
       "<Figure size 640x480 with 0 Axes>"
      ]
     },
     "metadata": {},
     "output_type": "display_data"
    },
    {
     "data": {
      "image/png": "[encoded data removed]",
      "text/plain": [
       "<Figure size 640x480 with 1 Axes>"
      ]
     },
     "metadata": {},
     "output_type": "display_data"
    },
    {
     "data": {
      "text/plain": [
       "(<Figure size 640x480 with 1 Axes>,\n",
       " <Axes: xlabel='Visual Layer', ylabel='Mean Pairwise Similarity (0-1)'>)"
      ]
     },
     "execution_count": 6,
     "metadata": {},
     "output_type": "execute_result"
    }
   ],
   "source": [
    "# For each layer, calculate the mean similarity and the norm\n",
    "mean_embeddings = {}\n",
    "mean_similarities = {}\n",
    "\n",
    "for idx, (name, embs, sims) in enumerate(zip(module_names, module_embeddings, module_similarities)):\n",
    "    print(idx, name)\n",
    "\n",
    "    key = name.split(\".\")[0]\n",
    "    if key in mean_embeddings:\n",
    "        mean_embeddings[key].append(np.mean(embs))\n",
    "    else:\n",
    "        mean_embeddings[key] = [np.mean(embs)]\n",
    "\n",
    "    if key in mean_similarities:\n",
    "        mean_similarities[key].append(np.mean(sims))\n",
    "    else:\n",
    "        mean_similarities[key] = [np.mean(sims)]\n",
    "\n",
    "# Plot mean embeddings\n",
    "xs = []\n",
    "ys = []\n",
    "labels = []\n",
    "\n",
    "n_items = 0\n",
    "for k, v in mean_embeddings.items():\n",
    "    xs.append([i + n_items for i in range(len(v))])\n",
    "    ys.append(v)\n",
    "    labels.append(\"{} blocks\".format(k))\n",
    "    n_items += len(v)\n",
    "print(len(ys[0]))\n",
    "visualizations.plot(\n",
    "    xs=xs,\n",
    "    ys=ys,\n",
    "    labels=labels,\n",
    "    xlabel='Visual Layer',\n",
    "    ylabel='Mean Embedding Value',\n",
    "    show=True\n",
    ")\n",
    "\n",
    "xs = []\n",
    "ys = []\n",
    "labels = []\n",
    "n_items = 0\n",
    "for k, v in mean_similarities.items():\n",
    "    xs.append([i + n_items for i in range(len(v))])\n",
    "    ys.append(v)\n",
    "    labels.append(\"{} blocks\".format(k))\n",
    "    n_items += len(v)\n",
    "visualizations.plot(\n",
    "    xs=xs,\n",
    "    ys=ys,\n",
    "    labels=labels,\n",
    "    xlabel='Visual Layer',\n",
    "    ylabel='Mean Pairwise Similarity (0-1)',\n",
    "    show=True\n",
    ")\n"
   ]
  },
  {
   "cell_type": "code",
   "execution_count": null,
   "id": "1e302102",
   "metadata": {},
   "outputs": [],
   "source": []
  },
  {
   "cell_type": "code",
   "execution_count": null,
   "id": "a89a62e5",
   "metadata": {},
   "outputs": [],
   "source": []
  }
 ],
 "metadata": {
  "kernelspec": {
   "display_name": "vlm-lens-base",
   "language": "python",
   "name": "python3"
  },
  "language_info": {
   "codemirror_mode": {
    "name": "ipython",
    "version": 3
   },
   "file_extension": ".py",
   "mimetype": "text/x-python",
   "name": "python",
   "nbconvert_exporter": "python",
   "pygments_lexer": "ipython3",
   "version": "3.10.18"
  }
 },
 "nbformat": 4,
 "nbformat_minor": 5
}

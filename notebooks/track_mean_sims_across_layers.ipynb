{
 "cells": [
  {
   "cell_type": "code",
   "execution_count": 2,
   "id": "9bb1f741",
   "metadata": {},
   "outputs": [
    {
     "name": "stderr",
     "output_type": "stream",
     "text": [
      "/n/fs/ac-project/anaconda3/envs/vlm-lens-base/lib/python3.10/site-packages/tqdm/auto.py:21: TqdmWarning: IProgress not found. Please update jupyter and ipywidgets. See https://ipywidgets.readthedocs.io/en/stable/user_install.html\n",
      "  from .autonotebook import tqdm as notebook_tqdm\n"
     ]
    }
   ],
   "source": [
    "%load_ext autoreload\n",
    "%autoreload 2\n",
    "\n",
    "import matplotlib.pyplot as plt\n",
    "import numpy as np\n",
    "import os, sys\n",
    "from scipy.stats import spearmanr\n",
    "import sqlite3\n",
    "import torch\n",
    "from tqdm import tqdm\n",
    "\n",
    "sys.path.insert(0, '../src')\n",
    "sys.path.insert(1, '..')\n",
    "\n",
    "from main import get_model\n",
    "from models.config import Config, IMAGE_TOKEN_IDS\n",
    "import db_utils, visualizations, utils, similarity_utils"
   ]
  },
  {
   "cell_type": "markdown",
   "id": "f137f261",
   "metadata": {},
   "source": [
    "# Util Functions"
   ]
  },
  {
   "cell_type": "code",
   "execution_count": 27,
   "id": "0d4dffb6",
   "metadata": {},
   "outputs": [],
   "source": [
    "# For each layer, calculate the mean similarity and the norm\n",
    "def plot_similarities(module_names,\n",
    "                      module_embeddings,\n",
    "                      module_similarities,\n",
    "                      model_name=''):\n",
    "    '''\n",
    "    Given list of module names, image embeddings (vision and text + vision), and similarities\n",
    "    plot mean similarity score for each layer\n",
    "\n",
    "    Arg(s):\n",
    "        module_names : list[str]\n",
    "        module_embeddings : list[2D np.array]\n",
    "        module_similarities : list[1D np.array]\n",
    "    '''\n",
    "    mean_embeddings = {}\n",
    "    mean_similarities = {}\n",
    "    for idx, (name, embs, sims) in enumerate(zip(module_names, module_embeddings, module_similarities)):\n",
    "        # Key is based on vision vs text\n",
    "        key = name.split(\".\")[0]\n",
    "        # If we are isolating vision token embeddings\n",
    "        if \"-\" in name:\n",
    "            key += \"-{}\".format(name.split(\"-\")[1])\n",
    "        if key in mean_embeddings:\n",
    "            mean_embeddings[key].append(np.mean(embs))\n",
    "        else:\n",
    "            mean_embeddings[key] = [np.mean(embs)]\n",
    "\n",
    "        if key in mean_similarities:\n",
    "            mean_similarities[key].append(np.mean(sims))\n",
    "        else:\n",
    "            mean_similarities[key] = [np.mean(sims)]\n",
    "\n",
    "    # Plot mean image-pair similarity scores by layer\n",
    "    xs = []\n",
    "    ys = []\n",
    "    labels = []\n",
    "    n_vision_layers = len(mean_embeddings[\"visual\"]) # TODO: might throw an error if \"visual\" is wrong key\n",
    "    for k, v in mean_similarities.items():\n",
    "        if k.startswith(\"model\"):\n",
    "            xs.append([i + n_vision_layers for i in range(len(v))])\n",
    "        else:\n",
    "            xs.append([i for i in range(len(v))])\n",
    "        ys.append(v)\n",
    "        labels.append(\"{} blocks\".format(k))\n",
    "\n",
    "    print(ys)\n",
    "    visualizations.plot(\n",
    "        xs=xs,\n",
    "        ys=ys,\n",
    "        labels=labels,\n",
    "        alpha=0.8,\n",
    "        xlabel='Layer of {} Model'.format(model_name),\n",
    "        ylabel='Mean Image Pairwise Similarity (0-1)',\n",
    "        show=True\n",
    "    )\n"
   ]
  },
  {
   "cell_type": "markdown",
   "id": "58f8b74a",
   "metadata": {},
   "source": [
    "# Qwen2-VL-2B-Instruct"
   ]
  },
  {
   "cell_type": "code",
   "execution_count": 7,
   "id": "fadd8408",
   "metadata": {},
   "outputs": [],
   "source": [
    "sys.argv = ['notebooks/track_mean_sims_across_layers.ipynb',\n",
    "            '--config', '../configs/models/qwen/Qwen2-VL-2B-Instruct-VisualBlocks.yaml']\n",
    "\n",
    "config = Config()"
   ]
  },
  {
   "cell_type": "code",
   "execution_count": 8,
   "id": "d9779e59",
   "metadata": {},
   "outputs": [
    {
     "name": "stderr",
     "output_type": "stream",
     "text": [
      "Loading checkpoint shards: 100%|██████████| 2/2 [00:00<00:00,  5.80it/s]\n"
     ]
    }
   ],
   "source": [
    "model = get_model(config.architecture, config)"
   ]
  },
  {
   "cell_type": "code",
   "execution_count": 10,
   "id": "cffc847d",
   "metadata": {},
   "outputs": [
    {
     "name": "stdout",
     "output_type": "stream",
     "text": [
      "2.209B parameters\n",
      "Qwen2VLForConditionalGeneration(\n",
      "  (visual): Qwen2VisionTransformerPretrainedModel(\n",
      "    (patch_embed): PatchEmbed(\n",
      "      (proj): Conv3d(3, 1280, kernel_size=(2, 14, 14), stride=(2, 14, 14), bias=False)\n",
      "    )\n",
      "    (rotary_pos_emb): VisionRotaryEmbedding()\n",
      "    (blocks): ModuleList(\n",
      "      (0-31): 32 x Qwen2VLVisionBlock(\n",
      "        (norm1): LayerNorm((1280,), eps=1e-06, elementwise_affine=True)\n",
      "        (norm2): LayerNorm((1280,), eps=1e-06, elementwise_affine=True)\n",
      "        (attn): VisionSdpaAttention(\n",
      "          (qkv): Linear(in_features=1280, out_features=3840, bias=True)\n",
      "          (proj): Linear(in_features=1280, out_features=1280, bias=True)\n",
      "        )\n",
      "        (mlp): VisionMlp(\n",
      "          (fc1): Linear(in_features=1280, out_features=5120, bias=True)\n",
      "          (act): QuickGELUActivation()\n",
      "          (fc2): Linear(in_features=5120, out_features=1280, bias=True)\n",
      "        )\n",
      "      )\n",
      "    )\n",
      "    (merger): PatchMerger(\n",
      "      (ln_q): LayerNorm((1280,), eps=1e-06, elementwise_affine=True)\n",
      "      (mlp): Sequential(\n",
      "        (0): Linear(in_features=5120, out_features=5120, bias=True)\n",
      "        (1): GELU(approximate='none')\n",
      "        (2): Linear(in_features=5120, out_features=1536, bias=True)\n",
      "      )\n",
      "    )\n",
      "  )\n",
      "  (model): Qwen2VLModel(\n",
      "    (embed_tokens): Embedding(151936, 1536)\n",
      "    (layers): ModuleList(\n",
      "      (0-27): 28 x Qwen2VLDecoderLayer(\n",
      "        (self_attn): Qwen2VLSdpaAttention(\n",
      "          (q_proj): Linear(in_features=1536, out_features=1536, bias=True)\n",
      "          (k_proj): Linear(in_features=1536, out_features=256, bias=True)\n",
      "          (v_proj): Linear(in_features=1536, out_features=256, bias=True)\n",
      "          (o_proj): Linear(in_features=1536, out_features=1536, bias=False)\n",
      "          (rotary_emb): Qwen2VLRotaryEmbedding()\n",
      "        )\n",
      "        (mlp): Qwen2MLP(\n",
      "          (gate_proj): Linear(in_features=1536, out_features=8960, bias=False)\n",
      "          (up_proj): Linear(in_features=1536, out_features=8960, bias=False)\n",
      "          (down_proj): Linear(in_features=8960, out_features=1536, bias=False)\n",
      "          (act_fn): SiLU()\n",
      "        )\n",
      "        (input_layernorm): Qwen2RMSNorm((1536,), eps=1e-06)\n",
      "        (post_attention_layernorm): Qwen2RMSNorm((1536,), eps=1e-06)\n",
      "      )\n",
      "    )\n",
      "    (norm): Qwen2RMSNorm((1536,), eps=1e-06)\n",
      "    (rotary_emb): Qwen2VLRotaryEmbedding()\n",
      "  )\n",
      "  (lm_head): Linear(in_features=1536, out_features=151936, bias=False)\n",
      ")\n"
     ]
    }
   ],
   "source": [
    "print(\"{:.3f}B parameters\".format(model.model.num_parameters() / 1e9))\n",
    "print(model.model)\n"
   ]
  },
  {
   "cell_type": "code",
   "execution_count": 4,
   "id": "a79b7af0",
   "metadata": {},
   "outputs": [
    {
     "name": "stdout",
     "output_type": "stream",
     "text": [
      "visual.blocks.0\n",
      "visual.blocks.1\n",
      "visual.blocks.2\n",
      "visual.blocks.3\n",
      "visual.blocks.4\n",
      "visual.blocks.5\n",
      "visual.blocks.6\n",
      "visual.blocks.7\n",
      "visual.blocks.8\n",
      "visual.blocks.9\n",
      "visual.blocks.10\n",
      "visual.blocks.11\n",
      "visual.blocks.12\n",
      "visual.blocks.13\n",
      "visual.blocks.14\n",
      "visual.blocks.15\n",
      "visual.blocks.16\n",
      "visual.blocks.17\n",
      "visual.blocks.18\n",
      "visual.blocks.19\n",
      "visual.blocks.20\n",
      "visual.blocks.21\n",
      "visual.blocks.22\n",
      "visual.blocks.23\n",
      "visual.blocks.24\n",
      "visual.blocks.25\n",
      "visual.blocks.26\n",
      "visual.blocks.27\n",
      "visual.blocks.28\n",
      "visual.blocks.29\n",
      "visual.blocks.30\n",
      "visual.blocks.31\n",
      "visual.merger\n",
      "model.layers.0\n",
      "model.layers.1\n",
      "model.layers.2\n",
      "model.layers.3\n",
      "model.layers.4\n",
      "model.layers.5\n",
      "model.layers.6\n",
      "model.layers.7\n",
      "model.layers.8\n",
      "model.layers.9\n",
      "model.layers.10\n",
      "model.layers.11\n",
      "model.layers.12\n",
      "model.layers.13\n",
      "model.layers.14\n",
      "model.layers.15\n",
      "model.layers.16\n",
      "model.layers.17\n",
      "model.layers.18\n",
      "model.layers.19\n",
      "model.layers.20\n",
      "model.layers.21\n",
      "model.layers.22\n",
      "model.layers.23\n",
      "model.layers.24\n",
      "model.layers.25\n",
      "model.layers.26\n",
      "model.layers.27\n",
      "model.norm\n"
     ]
    }
   ],
   "source": [
    "for name, module in model.model.named_modules():\n",
    "    if model.config.matches_module(name):\n",
    "        print(name)"
   ]
  },
  {
   "cell_type": "code",
   "execution_count": 5,
   "id": "fb16daf6",
   "metadata": {},
   "outputs": [
    {
     "name": "stderr",
     "output_type": "stream",
     "text": [
      "Running forward hooks on data: 100%|██████████| 50/50 [01:07<00:00,  1.35s/it]\n"
     ]
    }
   ],
   "source": [
    "model.run(save_tokens=True)"
   ]
  },
  {
   "cell_type": "code",
   "execution_count": 4,
   "id": "affc9454",
   "metadata": {},
   "outputs": [
    {
     "name": "stdout",
     "output_type": "stream",
     "text": [
      "[1020_090826] ../output/Qwen2-VL-2B-Instruct-VisualBlocks.db\n"
     ]
    }
   ],
   "source": [
    "db_path = model.config.output_db\n",
    "utils.informal_log(db_path)\n",
    "connection = sqlite3.connect(db_path)\n",
    "connection.row_factory = sqlite3.Row\n",
    "cursor = connection.cursor()"
   ]
  },
  {
   "cell_type": "code",
   "execution_count": 7,
   "id": "6844eb49",
   "metadata": {},
   "outputs": [
    {
     "name": "stdout",
     "output_type": "stream",
     "text": [
      "{'layer': 'input_ids'}\n",
      "{'layer': 'visual.blocks.0'}\n",
      "{'layer': 'visual.blocks.1'}\n",
      "{'layer': 'visual.blocks.2'}\n",
      "{'layer': 'visual.blocks.3'}\n",
      "{'layer': 'visual.blocks.4'}\n",
      "{'layer': 'visual.blocks.5'}\n",
      "{'layer': 'visual.blocks.6'}\n",
      "{'layer': 'visual.blocks.7'}\n",
      "{'layer': 'visual.blocks.8'}\n",
      "{'layer': 'visual.blocks.9'}\n",
      "{'layer': 'visual.blocks.10'}\n",
      "{'layer': 'visual.blocks.11'}\n",
      "{'layer': 'visual.blocks.12'}\n",
      "{'layer': 'visual.blocks.13'}\n",
      "{'layer': 'visual.blocks.14'}\n",
      "{'layer': 'visual.blocks.15'}\n",
      "{'layer': 'visual.blocks.16'}\n",
      "{'layer': 'visual.blocks.17'}\n",
      "{'layer': 'visual.blocks.18'}\n",
      "{'layer': 'visual.blocks.19'}\n",
      "{'layer': 'visual.blocks.20'}\n",
      "{'layer': 'visual.blocks.21'}\n",
      "{'layer': 'visual.blocks.22'}\n",
      "{'layer': 'visual.blocks.23'}\n",
      "{'layer': 'visual.blocks.24'}\n",
      "{'layer': 'visual.blocks.25'}\n",
      "{'layer': 'visual.blocks.26'}\n",
      "{'layer': 'visual.blocks.27'}\n",
      "{'layer': 'visual.blocks.28'}\n",
      "{'layer': 'visual.blocks.29'}\n",
      "{'layer': 'visual.blocks.30'}\n",
      "{'layer': 'visual.blocks.31'}\n",
      "{'layer': 'visual.merger'}\n",
      "{'layer': 'model.layers.0'}\n",
      "{'layer': 'model.layers.1'}\n",
      "{'layer': 'model.layers.2'}\n",
      "{'layer': 'model.layers.3'}\n",
      "{'layer': 'model.layers.4'}\n",
      "{'layer': 'model.layers.5'}\n",
      "{'layer': 'model.layers.6'}\n",
      "{'layer': 'model.layers.7'}\n",
      "{'layer': 'model.layers.8'}\n",
      "{'layer': 'model.layers.9'}\n",
      "{'layer': 'model.layers.10'}\n",
      "{'layer': 'model.layers.11'}\n",
      "{'layer': 'model.layers.12'}\n",
      "{'layer': 'model.layers.13'}\n",
      "{'layer': 'model.layers.14'}\n",
      "{'layer': 'model.layers.15'}\n",
      "{'layer': 'model.layers.16'}\n",
      "{'layer': 'model.layers.17'}\n",
      "{'layer': 'model.layers.18'}\n",
      "{'layer': 'model.layers.19'}\n",
      "{'layer': 'model.layers.20'}\n",
      "{'layer': 'model.layers.21'}\n",
      "{'layer': 'model.layers.22'}\n",
      "{'layer': 'model.layers.23'}\n",
      "{'layer': 'model.layers.24'}\n",
      "{'layer': 'model.layers.25'}\n",
      "{'layer': 'model.layers.26'}\n",
      "{'layer': 'model.layers.27'}\n",
      "{'layer': 'model.norm'}\n"
     ]
    }
   ],
   "source": [
    "for r in cursor.execute(\"\"\"\n",
    "  SELECT DISTINCT layer\n",
    "  FROM tensors\n",
    "\"\"\"):\n",
    "    print(dict(r))"
   ]
  },
  {
   "cell_type": "code",
   "execution_count": 26,
   "id": "0635d2ae",
   "metadata": {},
   "outputs": [
    {
     "name": "stdout",
     "output_type": "stream",
     "text": [
      "{'id': 1, 'image_id': None, 'timestamp': '2025-10-14 15:20:08', 'name': 'Qwen/Qwen2-VL-2B-Instruct', 'image_path': '/n/fs/ac-vlm/vlm-lens/data_local/coco/cocoval/000000414795.jpg', 'prompt': 'Describe this image in one sentence.', 'label': None, 'layer': 'input_ids', 'pooling_method': None, 'tensor_dim': 1, 'tensor_shape': 'torch.Size([1, 172])', 'tensor_bytes': 2524}\n",
      "{'id': 2, 'image_id': None, 'timestamp': '2025-10-14 15:20:08', 'name': 'Qwen/Qwen2-VL-2B-Instruct', 'image_path': '/n/fs/ac-vlm/vlm-lens/data_local/coco/cocoval/000000414795.jpg', 'prompt': 'Describe this image in one sentence.', 'label': None, 'layer': 'visual.blocks.31', 'pooling_method': None, 'tensor_dim': 1280, 'tensor_shape': 'torch.Size([576, 1280])', 'tensor_bytes': 1475740}\n",
      "{'id': 3, 'image_id': None, 'timestamp': '2025-10-14 15:20:08', 'name': 'Qwen/Qwen2-VL-2B-Instruct', 'image_path': '/n/fs/ac-vlm/vlm-lens/data_local/coco/cocoval/000000414795.jpg', 'prompt': 'Describe this image in one sentence.', 'label': None, 'layer': 'visual.merger', 'pooling_method': None, 'tensor_dim': 1536, 'tensor_shape': 'torch.Size([144, 1536])', 'tensor_bytes': 443548}\n",
      "{'id': 4, 'image_id': None, 'timestamp': '2025-10-14 15:20:08', 'name': 'Qwen/Qwen2-VL-2B-Instruct', 'image_path': '/n/fs/ac-vlm/vlm-lens/data_local/coco/cocoval/000000414795.jpg', 'prompt': 'Describe this image in one sentence.', 'label': None, 'layer': 'model.layers.27', 'pooling_method': None, 'tensor_dim': 1536, 'tensor_shape': 'torch.Size([1, 172, 1536])', 'tensor_bytes': 529564}\n",
      "{'id': 5, 'image_id': None, 'timestamp': '2025-10-14 15:20:08', 'name': 'Qwen/Qwen2-VL-2B-Instruct', 'image_path': '/n/fs/ac-vlm/vlm-lens/data_local/coco/cocoval/000000414795.jpg', 'prompt': 'Describe this image in one sentence.', 'label': None, 'layer': 'model.norm', 'pooling_method': None, 'tensor_dim': 1536, 'tensor_shape': 'torch.Size([1, 172, 1536])', 'tensor_bytes': 529564}\n",
      "{'id': 6, 'image_id': None, 'timestamp': '2025-10-14 15:20:08', 'name': 'Qwen/Qwen2-VL-2B-Instruct', 'image_path': '/n/fs/ac-vlm/vlm-lens/data_local/coco/cocoval/000000343149.jpg', 'prompt': 'Describe this image in one sentence.', 'label': None, 'layer': 'input_ids', 'pooling_method': None, 'tensor_dim': 1, 'tensor_shape': 'torch.Size([1, 172])', 'tensor_bytes': 2524}\n",
      "{'id': 7, 'image_id': None, 'timestamp': '2025-10-14 15:20:08', 'name': 'Qwen/Qwen2-VL-2B-Instruct', 'image_path': '/n/fs/ac-vlm/vlm-lens/data_local/coco/cocoval/000000343149.jpg', 'prompt': 'Describe this image in one sentence.', 'label': None, 'layer': 'visual.blocks.31', 'pooling_method': None, 'tensor_dim': 1280, 'tensor_shape': 'torch.Size([576, 1280])', 'tensor_bytes': 1475740}\n",
      "{'id': 8, 'image_id': None, 'timestamp': '2025-10-14 15:20:08', 'name': 'Qwen/Qwen2-VL-2B-Instruct', 'image_path': '/n/fs/ac-vlm/vlm-lens/data_local/coco/cocoval/000000343149.jpg', 'prompt': 'Describe this image in one sentence.', 'label': None, 'layer': 'visual.merger', 'pooling_method': None, 'tensor_dim': 1536, 'tensor_shape': 'torch.Size([144, 1536])', 'tensor_bytes': 443548}\n",
      "{'id': 9, 'image_id': None, 'timestamp': '2025-10-14 15:20:08', 'name': 'Qwen/Qwen2-VL-2B-Instruct', 'image_path': '/n/fs/ac-vlm/vlm-lens/data_local/coco/cocoval/000000343149.jpg', 'prompt': 'Describe this image in one sentence.', 'label': None, 'layer': 'model.layers.27', 'pooling_method': None, 'tensor_dim': 1536, 'tensor_shape': 'torch.Size([1, 172, 1536])', 'tensor_bytes': 529564}\n",
      "{'id': 10, 'image_id': None, 'timestamp': '2025-10-14 15:20:08', 'name': 'Qwen/Qwen2-VL-2B-Instruct', 'image_path': '/n/fs/ac-vlm/vlm-lens/data_local/coco/cocoval/000000343149.jpg', 'prompt': 'Describe this image in one sentence.', 'label': None, 'layer': 'model.norm', 'pooling_method': None, 'tensor_dim': 1536, 'tensor_shape': 'torch.Size([1, 172, 1536])', 'tensor_bytes': 529564}\n",
      "{'id': 11, 'image_id': None, 'timestamp': '2025-10-14 15:20:08', 'name': 'Qwen/Qwen2-VL-2B-Instruct', 'image_path': '/n/fs/ac-vlm/vlm-lens/data_local/coco/cocoval/000000066561.jpg', 'prompt': 'Describe this image in one sentence.', 'label': None, 'layer': 'input_ids', 'pooling_method': None, 'tensor_dim': 1, 'tensor_shape': 'torch.Size([1, 172])', 'tensor_bytes': 2524}\n",
      "{'id': 12, 'image_id': None, 'timestamp': '2025-10-14 15:20:08', 'name': 'Qwen/Qwen2-VL-2B-Instruct', 'image_path': '/n/fs/ac-vlm/vlm-lens/data_local/coco/cocoval/000000066561.jpg', 'prompt': 'Describe this image in one sentence.', 'label': None, 'layer': 'visual.blocks.31', 'pooling_method': None, 'tensor_dim': 1280, 'tensor_shape': 'torch.Size([576, 1280])', 'tensor_bytes': 1475740}\n",
      "{'id': 13, 'image_id': None, 'timestamp': '2025-10-14 15:20:08', 'name': 'Qwen/Qwen2-VL-2B-Instruct', 'image_path': '/n/fs/ac-vlm/vlm-lens/data_local/coco/cocoval/000000066561.jpg', 'prompt': 'Describe this image in one sentence.', 'label': None, 'layer': 'visual.merger', 'pooling_method': None, 'tensor_dim': 1536, 'tensor_shape': 'torch.Size([144, 1536])', 'tensor_bytes': 443548}\n",
      "{'id': 14, 'image_id': None, 'timestamp': '2025-10-14 15:20:08', 'name': 'Qwen/Qwen2-VL-2B-Instruct', 'image_path': '/n/fs/ac-vlm/vlm-lens/data_local/coco/cocoval/000000066561.jpg', 'prompt': 'Describe this image in one sentence.', 'label': None, 'layer': 'model.layers.27', 'pooling_method': None, 'tensor_dim': 1536, 'tensor_shape': 'torch.Size([1, 172, 1536])', 'tensor_bytes': 529564}\n",
      "{'id': 15, 'image_id': None, 'timestamp': '2025-10-14 15:20:08', 'name': 'Qwen/Qwen2-VL-2B-Instruct', 'image_path': '/n/fs/ac-vlm/vlm-lens/data_local/coco/cocoval/000000066561.jpg', 'prompt': 'Describe this image in one sentence.', 'label': None, 'layer': 'model.norm', 'pooling_method': None, 'tensor_dim': 1536, 'tensor_shape': 'torch.Size([1, 172, 1536])', 'tensor_bytes': 529564}\n",
      "{'id': 16, 'image_id': None, 'timestamp': '2025-10-14 15:20:08', 'name': 'Qwen/Qwen2-VL-2B-Instruct', 'image_path': '/n/fs/ac-vlm/vlm-lens/data_local/coco/cocoval/000000006614.jpg', 'prompt': 'Describe this image in one sentence.', 'label': None, 'layer': 'input_ids', 'pooling_method': None, 'tensor_dim': 1, 'tensor_shape': 'torch.Size([1, 172])', 'tensor_bytes': 2524}\n",
      "{'id': 17, 'image_id': None, 'timestamp': '2025-10-14 15:20:08', 'name': 'Qwen/Qwen2-VL-2B-Instruct', 'image_path': '/n/fs/ac-vlm/vlm-lens/data_local/coco/cocoval/000000006614.jpg', 'prompt': 'Describe this image in one sentence.', 'label': None, 'layer': 'visual.blocks.31', 'pooling_method': None, 'tensor_dim': 1280, 'tensor_shape': 'torch.Size([576, 1280])', 'tensor_bytes': 1475740}\n",
      "{'id': 18, 'image_id': None, 'timestamp': '2025-10-14 15:20:08', 'name': 'Qwen/Qwen2-VL-2B-Instruct', 'image_path': '/n/fs/ac-vlm/vlm-lens/data_local/coco/cocoval/000000006614.jpg', 'prompt': 'Describe this image in one sentence.', 'label': None, 'layer': 'visual.merger', 'pooling_method': None, 'tensor_dim': 1536, 'tensor_shape': 'torch.Size([144, 1536])', 'tensor_bytes': 443548}\n",
      "{'id': 19, 'image_id': None, 'timestamp': '2025-10-14 15:20:08', 'name': 'Qwen/Qwen2-VL-2B-Instruct', 'image_path': '/n/fs/ac-vlm/vlm-lens/data_local/coco/cocoval/000000006614.jpg', 'prompt': 'Describe this image in one sentence.', 'label': None, 'layer': 'model.layers.27', 'pooling_method': None, 'tensor_dim': 1536, 'tensor_shape': 'torch.Size([1, 172, 1536])', 'tensor_bytes': 529564}\n",
      "{'id': 20, 'image_id': None, 'timestamp': '2025-10-14 15:20:08', 'name': 'Qwen/Qwen2-VL-2B-Instruct', 'image_path': '/n/fs/ac-vlm/vlm-lens/data_local/coco/cocoval/000000006614.jpg', 'prompt': 'Describe this image in one sentence.', 'label': None, 'layer': 'model.norm', 'pooling_method': None, 'tensor_dim': 1536, 'tensor_shape': 'torch.Size([1, 172, 1536])', 'tensor_bytes': 529564}\n"
     ]
    }
   ],
   "source": [
    "for r in cursor.execute(\"\"\"\n",
    "  SELECT id, image_id, timestamp, name, image_path, prompt, label, layer, pooling_method, tensor_dim, tensor_shape,\n",
    "         length(tensor) AS tensor_bytes\n",
    "  FROM tensors\n",
    "  LIMIT 20\n",
    "\"\"\"):\n",
    "    print(dict(r))"
   ]
  },
  {
   "cell_type": "markdown",
   "id": "b1034049",
   "metadata": {},
   "source": [
    "### For each image, calculate similarity of embeddings between pairs of layers"
   ]
  },
  {
   "cell_type": "code",
   "execution_count": 74,
   "id": "1e302102",
   "metadata": {},
   "outputs": [
    {
     "name": "stderr",
     "output_type": "stream",
     "text": [
      "100%|██████████| 62/62 [03:08<00:00,  3.03s/it]\n"
     ]
    }
   ],
   "source": [
    "layer_names = [\"model.layers.{}\".format(i) for i in range(28)]\n",
    "layer_names += [\"model.norm\"]\n",
    "m_names, m_embeddings, m_similarities = similarity_utils.compute_image_pair_similarities(\n",
    "    database_path=db_path,\n",
    "    model=model,\n",
    "    layer_names=None,\n",
    "    modalities=['vision', \"text+vision\"])"
   ]
  },
  {
   "cell_type": "code",
   "execution_count": null,
   "id": "a89a62e5",
   "metadata": {},
   "outputs": [
    {
     "name": "stdout",
     "output_type": "stream",
     "text": [
      "91\n",
      "0 visual.blocks.0-vision\n",
      "1 visual.blocks.0\n",
      "2 visual.blocks.1-vision\n",
      "3 visual.blocks.1\n",
      "4 visual.blocks.2-vision\n",
      "5 visual.blocks.2\n",
      "6 visual.blocks.3-vision\n",
      "7 visual.blocks.3\n",
      "8 visual.blocks.4-vision\n",
      "9 visual.blocks.4\n",
      "10 visual.blocks.5-vision\n",
      "11 visual.blocks.5\n",
      "12 visual.blocks.6-vision\n",
      "13 visual.blocks.6\n",
      "14 visual.blocks.7-vision\n",
      "15 visual.blocks.7\n",
      "16 visual.blocks.8-vision\n",
      "17 visual.blocks.8\n",
      "18 visual.blocks.9-vision\n",
      "19 visual.blocks.9\n",
      "20 visual.blocks.10-vision\n",
      "21 visual.blocks.10\n",
      "22 visual.blocks.11-vision\n",
      "23 visual.blocks.11\n",
      "24 visual.blocks.12-vision\n",
      "25 visual.blocks.12\n",
      "26 visual.blocks.13-vision\n",
      "27 visual.blocks.13\n",
      "28 visual.blocks.14-vision\n",
      "29 visual.blocks.14\n",
      "30 visual.blocks.15-vision\n",
      "31 visual.blocks.15\n",
      "32 visual.blocks.16-vision\n",
      "33 visual.blocks.16\n",
      "34 visual.blocks.17-vision\n",
      "35 visual.blocks.17\n",
      "36 visual.blocks.18-vision\n",
      "37 visual.blocks.18\n",
      "38 visual.blocks.19-vision\n",
      "39 visual.blocks.19\n",
      "40 visual.blocks.20-vision\n",
      "41 visual.blocks.20\n",
      "42 visual.blocks.21-vision\n",
      "43 visual.blocks.21\n",
      "44 visual.blocks.22-vision\n",
      "45 visual.blocks.22\n",
      "46 visual.blocks.23-vision\n",
      "47 visual.blocks.23\n",
      "48 visual.blocks.24-vision\n",
      "49 visual.blocks.24\n",
      "50 visual.blocks.25-vision\n",
      "51 visual.blocks.25\n",
      "52 visual.blocks.26-vision\n",
      "53 visual.blocks.26\n",
      "54 visual.blocks.27-vision\n",
      "55 visual.blocks.27\n",
      "56 visual.blocks.28-vision\n",
      "57 visual.blocks.28\n",
      "58 visual.blocks.29-vision\n",
      "59 visual.blocks.29\n",
      "60 visual.blocks.30-vision\n",
      "61 visual.blocks.30\n",
      "62 visual.blocks.31-vision\n",
      "63 visual.blocks.31\n",
      "64 visual.merger-vision\n",
      "65 visual.merger\n",
      "66 model.layers.0-vision\n",
      "67 model.layers.0\n",
      "68 model.layers.1-vision\n",
      "69 model.layers.1\n",
      "70 model.layers.2-vision\n",
      "71 model.layers.2\n",
      "72 model.layers.3-vision\n",
      "73 model.layers.3\n",
      "74 model.layers.4-vision\n",
      "75 model.layers.4\n",
      "76 model.layers.5-vision\n",
      "77 model.layers.5\n",
      "78 model.layers.6-vision\n",
      "79 model.layers.6\n",
      "80 model.layers.7-vision\n",
      "81 model.layers.7\n",
      "82 model.layers.8-vision\n",
      "83 model.layers.8\n",
      "84 model.layers.9-vision\n",
      "85 model.layers.9\n",
      "86 model.layers.10-vision\n",
      "87 model.layers.10\n",
      "88 model.layers.11-vision\n",
      "89 model.layers.11\n",
      "90 model.layers.12-vision\n",
      "91 model.layers.12\n",
      "92 model.layers.13-vision\n",
      "93 model.layers.13\n",
      "94 model.layers.14-vision\n",
      "95 model.layers.14\n",
      "96 model.layers.15-vision\n",
      "97 model.layers.15\n",
      "98 model.layers.16-vision\n",
      "99 model.layers.16\n",
      "100 model.layers.17-vision\n",
      "101 model.layers.17\n",
      "102 model.layers.18-vision\n",
      "103 model.layers.18\n",
      "104 model.layers.19-vision\n",
      "105 model.layers.19\n",
      "106 model.layers.20-vision\n",
      "107 model.layers.20\n",
      "108 model.layers.21-vision\n",
      "109 model.layers.21\n",
      "110 model.layers.22-vision\n",
      "111 model.layers.22\n",
      "112 model.layers.23-vision\n",
      "113 model.layers.23\n",
      "114 model.layers.24-vision\n",
      "115 model.layers.24\n",
      "116 model.layers.25-vision\n",
      "117 model.layers.25\n",
      "118 model.layers.26-vision\n",
      "119 model.layers.26\n",
      "120 model.layers.27-vision\n",
      "121 model.layers.27\n",
      "122 model.norm-vision\n",
      "123 model.norm\n",
      "[[np.float64(0.7983262679826828), np.float64(0.8527236813064994), np.float64(0.8647141140819863), np.float64(0.8661032287205176), np.float64(0.8677079943019802), np.float64(0.884392866477564), np.float64(0.8717421666365055), np.float64(0.8841331894855865), np.float64(0.8933198511647387), np.float64(0.9014991615877751), np.float64(0.9130513424141397), np.float64(0.9238495303242821), np.float64(0.9229950987402009), np.float64(0.9216387546474832), np.float64(0.9161349383453272), np.float64(0.9193736917034975), np.float64(0.9172918128061063), np.float64(0.9276178159171483), np.float64(0.9355062713922152), np.float64(0.9491104577588896), np.float64(0.9582238517512943), np.float64(0.959184893246673), np.float64(0.960172033955612), np.float64(0.9600354856181953), np.float64(0.9601278178142107), np.float64(0.9601390434227073), np.float64(0.957707416943814), np.float64(0.952035765568922), np.float64(0.9463936682657468), np.float64(0.9514031884852857), np.float64(0.9290566834646521), np.float64(0.999961112946143), np.float64(0.887488416024394)], [np.float64(0.7983262679826828), np.float64(0.8527236813064994), np.float64(0.8647141140819863), np.float64(0.8661032287205176), np.float64(0.8677079943019802), np.float64(0.884392866477564), np.float64(0.8717421666365055), np.float64(0.8841331894855865), np.float64(0.8933198511647387), np.float64(0.9014991615877751), np.float64(0.9130513424141397), np.float64(0.9238495303242821), np.float64(0.9229950987402009), np.float64(0.9216387546474832), np.float64(0.9161349383453272), np.float64(0.9193736917034975), np.float64(0.9172918128061063), np.float64(0.9276178159171483), np.float64(0.9355062713922152), np.float64(0.9491104577588896), np.float64(0.9582238517512943), np.float64(0.959184893246673), np.float64(0.960172033955612), np.float64(0.9600354856181953), np.float64(0.9601278178142107), np.float64(0.9601390434227073), np.float64(0.957707416943814), np.float64(0.952035765568922), np.float64(0.9463936682657468), np.float64(0.9514031884852857), np.float64(0.9290566834646521), np.float64(0.999961112946143), np.float64(0.887488416024394)], [np.float64(0.9008261933699923), np.float64(0.9092067703919602), np.float64(0.9103747098822139), np.float64(0.9065938573345126), np.float64(0.8978036582650218), np.float64(0.8956341107778938), np.float64(0.8975430801564757), np.float64(0.8880405304323319), np.float64(0.88929712904773), np.float64(0.8882134066671125), np.float64(0.8813259015309676), np.float64(0.879504934104627), np.float64(0.8785443408364291), np.float64(0.8988429011027684), np.float64(0.8948431932027813), np.float64(0.8976526395322203), np.float64(0.9198212955981131), np.float64(0.9100302635294737), np.float64(0.9329110443390164), np.float64(0.9374251443529419), np.float64(0.9339394746918293), np.float64(0.9204469911155114), np.float64(0.9165351775175151), np.float64(0.9287464123426854), np.float64(0.939654743250169), np.float64(0.9402379745233279), np.float64(0.9212071113779569), np.float64(0.7145373185464724), np.float64(0.6219949077797956)], [np.float64(0.9045001399163637), np.float64(0.9467707121883449), np.float64(0.9483564278908195), np.float64(0.9478454242556063), np.float64(0.9441115699075687), np.float64(0.9427687478009076), np.float64(0.9452017294495474), np.float64(0.941549839490978), np.float64(0.9435047004957947), np.float64(0.9444385110876862), np.float64(0.9418901575750953), np.float64(0.9417756998517158), np.float64(0.9406148478847329), np.float64(0.9472164806536489), np.float64(0.9446127427081874), np.float64(0.9461738023989591), np.float64(0.9553436074601678), np.float64(0.9521362671623719), np.float64(0.9630638492550501), np.float64(0.9639606998081468), np.float64(0.9613055737472941), np.float64(0.9514293422168945), np.float64(0.9489181762208546), np.float64(0.9545793220715354), np.float64(0.9600971257740117), np.float64(0.958986602755038), np.float64(0.9430332075764862), np.float64(0.7538486586090226), np.float64(0.6611800639575248)]]\n"
     ]
    },
    {
     "data": {
      "text/plain": [
       "<Figure size 640x480 with 0 Axes>"
      ]
     },
     "metadata": {},
     "output_type": "display_data"
    },
    {
     "data": {
      "image/png": "[encoded data removed]",
      "text/plain": [
       "<Figure size 640x480 with 1 Axes>"
      ]
     },
     "metadata": {},
     "output_type": "display_data"
    },
    {
     "data": {
      "text/plain": [
       "(<Figure size 640x480 with 1 Axes>,\n",
       " <Axes: xlabel='Layer', ylabel='Mean Image Pairwise Similarity (0-1)'>)"
      ]
     },
     "execution_count": 75,
     "metadata": {},
     "output_type": "execute_result"
    }
   ],
   "source": [
    "# For each layer, calculate the mean similarity and the norm\n",
    "mean_embeddings = {}\n",
    "mean_similarities = {}\n",
    "for idx, (name, embs, sims) in enumerate(zip(m_names, m_embeddings, m_similarities)):\n",
    "    # if idx < 4:\n",
    "    #     continue\n",
    "    print(idx, name)\n",
    "    key = name.split(\".\")[0]\n",
    "    if \"-\" in name:\n",
    "        key += \"-{}\".format(name.split(\"-\")[1])\n",
    "    # if key == \"model\":\n",
    "    #     if \"text+vision\" in name:\n",
    "    #         key += \"-visual\"\n",
    "    if key in mean_embeddings:\n",
    "        mean_embeddings[key].append(np.mean(embs))\n",
    "    else:\n",
    "        mean_embeddings[key] = [np.mean(embs)]\n",
    "\n",
    "    if key in mean_similarities:\n",
    "        mean_similarities[key].append(np.mean(sims))\n",
    "    else:\n",
    "        mean_similarities[key] = [np.mean(sims)]\n",
    "\n",
    "# Plot mean image-pair similarity scores by layer\n",
    "xs = []\n",
    "ys = []\n",
    "labels = []\n",
    "n_items = 0\n",
    "n_vision_layers = len(m_embeddings[\"visual\"]) # TODO: might throw an error if \"visual\" is wrong key\n",
    "for k, v in mean_similarities.items():\n",
    "    if k.startswith(\"model\"):\n",
    "        xs.append([i + n_vision_layers for i in range(len(v))])\n",
    "    else:\n",
    "        xs.append([i for i in range(len(v))])\n",
    "    ys.append(v)\n",
    "    labels.append(\"{} blocks\".format(k))\n",
    "\n",
    "print(ys)\n",
    "visualizations.plot(\n",
    "    xs=xs,\n",
    "    ys=ys,\n",
    "    labels=labels,\n",
    "    alpha=0.8,\n",
    "    xlabel='Layer',\n",
    "    ylabel='Mean Image Pairwise Similarity (0-1)',\n",
    "    show=True\n",
    ")\n"
   ]
  },
  {
   "cell_type": "markdown",
   "id": "bcecc1eb",
   "metadata": {},
   "source": [
    "# Qwen-2-VL-7B-Instruct"
   ]
  },
  {
   "cell_type": "code",
   "execution_count": 17,
   "id": "e49ffa81",
   "metadata": {},
   "outputs": [
    {
     "name": "stderr",
     "output_type": "stream",
     "text": [
      "Loading checkpoint shards: 100%|██████████| 5/5 [00:00<00:00, 24.45it/s]\n"
     ]
    }
   ],
   "source": [
    "sys.argv = ['notebooks/track_mean_sims_across_layers.ipynb',\n",
    "            '--config', '../configs/models/qwen/Qwen2-VL-7B-Instruct-VisualBlocks.yaml']\n",
    "\n",
    "config = Config()\n",
    "model = get_model(config.architecture, config)"
   ]
  },
  {
   "cell_type": "code",
   "execution_count": 18,
   "id": "a42b4378",
   "metadata": {},
   "outputs": [
    {
     "name": "stdout",
     "output_type": "stream",
     "text": [
      "8.291B parameters\n",
      "Qwen2VLForConditionalGeneration(\n",
      "  (visual): Qwen2VisionTransformerPretrainedModel(\n",
      "    (patch_embed): PatchEmbed(\n",
      "      (proj): Conv3d(3, 1280, kernel_size=(2, 14, 14), stride=(2, 14, 14), bias=False)\n",
      "    )\n",
      "    (rotary_pos_emb): VisionRotaryEmbedding()\n",
      "    (blocks): ModuleList(\n",
      "      (0-31): 32 x Qwen2VLVisionBlock(\n",
      "        (norm1): LayerNorm((1280,), eps=1e-06, elementwise_affine=True)\n",
      "        (norm2): LayerNorm((1280,), eps=1e-06, elementwise_affine=True)\n",
      "        (attn): VisionSdpaAttention(\n",
      "          (qkv): Linear(in_features=1280, out_features=3840, bias=True)\n",
      "          (proj): Linear(in_features=1280, out_features=1280, bias=True)\n",
      "        )\n",
      "        (mlp): VisionMlp(\n",
      "          (fc1): Linear(in_features=1280, out_features=5120, bias=True)\n",
      "          (act): QuickGELUActivation()\n",
      "          (fc2): Linear(in_features=5120, out_features=1280, bias=True)\n",
      "        )\n",
      "      )\n",
      "    )\n",
      "    (merger): PatchMerger(\n",
      "      (ln_q): LayerNorm((1280,), eps=1e-06, elementwise_affine=True)\n",
      "      (mlp): Sequential(\n",
      "        (0): Linear(in_features=5120, out_features=5120, bias=True)\n",
      "        (1): GELU(approximate='none')\n",
      "        (2): Linear(in_features=5120, out_features=3584, bias=True)\n",
      "      )\n",
      "    )\n",
      "  )\n",
      "  (model): Qwen2VLModel(\n",
      "    (embed_tokens): Embedding(152064, 3584)\n",
      "    (layers): ModuleList(\n",
      "      (0-27): 28 x Qwen2VLDecoderLayer(\n",
      "        (self_attn): Qwen2VLSdpaAttention(\n",
      "          (q_proj): Linear(in_features=3584, out_features=3584, bias=True)\n",
      "          (k_proj): Linear(in_features=3584, out_features=512, bias=True)\n",
      "          (v_proj): Linear(in_features=3584, out_features=512, bias=True)\n",
      "          (o_proj): Linear(in_features=3584, out_features=3584, bias=False)\n",
      "          (rotary_emb): Qwen2VLRotaryEmbedding()\n",
      "        )\n",
      "        (mlp): Qwen2MLP(\n",
      "          (gate_proj): Linear(in_features=3584, out_features=18944, bias=False)\n",
      "          (up_proj): Linear(in_features=3584, out_features=18944, bias=False)\n",
      "          (down_proj): Linear(in_features=18944, out_features=3584, bias=False)\n",
      "          (act_fn): SiLU()\n",
      "        )\n",
      "        (input_layernorm): Qwen2RMSNorm((3584,), eps=1e-06)\n",
      "        (post_attention_layernorm): Qwen2RMSNorm((3584,), eps=1e-06)\n",
      "      )\n",
      "    )\n",
      "    (norm): Qwen2RMSNorm((3584,), eps=1e-06)\n",
      "    (rotary_emb): Qwen2VLRotaryEmbedding()\n",
      "  )\n",
      "  (lm_head): Linear(in_features=3584, out_features=152064, bias=False)\n",
      ")\n"
     ]
    }
   ],
   "source": [
    "print(\"{:.3f}B parameters\".format(model.model.num_parameters() / 1e9))\n",
    "print(model.model)"
   ]
  },
  {
   "cell_type": "code",
   "execution_count": 20,
   "id": "607976a4",
   "metadata": {},
   "outputs": [
    {
     "name": "stdout",
     "output_type": "stream",
     "text": [
      "visual.blocks.0\n",
      "visual.blocks.1\n",
      "visual.blocks.2\n",
      "visual.blocks.3\n",
      "visual.blocks.4\n",
      "visual.blocks.5\n",
      "visual.blocks.6\n",
      "visual.blocks.7\n",
      "visual.blocks.8\n",
      "visual.blocks.9\n",
      "visual.blocks.10\n",
      "visual.blocks.11\n",
      "visual.blocks.12\n",
      "visual.blocks.13\n",
      "visual.blocks.14\n",
      "visual.blocks.15\n",
      "visual.blocks.16\n",
      "visual.blocks.17\n",
      "visual.blocks.18\n",
      "visual.blocks.19\n",
      "visual.blocks.20\n",
      "visual.blocks.21\n",
      "visual.blocks.22\n",
      "visual.blocks.23\n",
      "visual.blocks.24\n",
      "visual.blocks.25\n",
      "visual.blocks.26\n",
      "visual.blocks.27\n",
      "visual.blocks.28\n",
      "visual.blocks.29\n",
      "visual.blocks.30\n",
      "visual.blocks.31\n",
      "visual.merger\n",
      "model.layers.0\n",
      "model.layers.1\n",
      "model.layers.2\n",
      "model.layers.3\n",
      "model.layers.4\n",
      "model.layers.5\n",
      "model.layers.6\n",
      "model.layers.7\n",
      "model.layers.8\n",
      "model.layers.9\n",
      "model.layers.10\n",
      "model.layers.11\n",
      "model.layers.12\n",
      "model.layers.13\n",
      "model.layers.14\n",
      "model.layers.15\n",
      "model.layers.16\n",
      "model.layers.17\n",
      "model.layers.18\n",
      "model.layers.19\n",
      "model.layers.20\n",
      "model.layers.21\n",
      "model.layers.22\n",
      "model.layers.23\n",
      "model.layers.24\n",
      "model.layers.25\n",
      "model.layers.26\n",
      "model.layers.27\n",
      "model.norm\n",
      "62 modules matched\n"
     ]
    }
   ],
   "source": [
    "n_modules = 0\n",
    "for name, module in model.model.named_modules():\n",
    "    if model.config.matches_module(name):\n",
    "        print(name)\n",
    "        n_modules += 1\n",
    "print(\"{} modules matched\".format(n_modules))"
   ]
  },
  {
   "cell_type": "code",
   "execution_count": 21,
   "id": "f8f5a93f",
   "metadata": {},
   "outputs": [
    {
     "name": "stderr",
     "output_type": "stream",
     "text": [
      "Running forward hooks on data: 100%|██████████| 50/50 [01:46<00:00,  2.14s/it]\n"
     ]
    }
   ],
   "source": [
    "# Run model on images\n",
    "model.run(save_tokens=True)"
   ]
  },
  {
   "cell_type": "code",
   "execution_count": 22,
   "id": "1ba50d11",
   "metadata": {},
   "outputs": [
    {
     "name": "stdout",
     "output_type": "stream",
     "text": [
      "[1021_113514] Database path: ../output/Qwen2-VL-7B-Instruct-VisualBlocks.db\n"
     ]
    },
    {
     "name": "stderr",
     "output_type": "stream",
     "text": [
      "100%|██████████| 62/62 [00:54<00:00,  1.13it/s]\n"
     ]
    }
   ],
   "source": [
    "db_path = model.config.output_db\n",
    "utils.informal_log(\"Database path: {}\".format(db_path))\n",
    "\n",
    "module_names, module_embeddings, module_similarities = similarity_utils.compute_image_pair_similarities(\n",
    "    database_path=db_path,\n",
    "    model=model,\n",
    "    layer_names=None,\n",
    "    modalities=['vision', \"text+vision\"])"
   ]
  },
  {
   "cell_type": "code",
   "execution_count": 29,
   "id": "e6a67b95",
   "metadata": {},
   "outputs": [
    {
     "name": "stdout",
     "output_type": "stream",
     "text": [
      "[[np.float64(0.7994299686113051), np.float64(0.8547120893577029), np.float64(0.8651254107276206), np.float64(0.8661267058443011), np.float64(0.8687384192599589), np.float64(0.8831199363568376), np.float64(0.872086220747739), np.float64(0.8823589466935029), np.float64(0.8896242504249662), np.float64(0.8950043338143446), np.float64(0.9053625854328579), np.float64(0.9183604495565936), np.float64(0.9173168463127627), np.float64(0.9154565977824767), np.float64(0.9112805001212956), np.float64(0.9159070700281102), np.float64(0.9168225333955161), np.float64(0.9275360680897523), np.float64(0.9361267515955785), np.float64(0.9507731832852042), np.float64(0.9608175870582603), np.float64(0.9642250424187311), np.float64(0.967450058731118), np.float64(0.9696277451847665), np.float64(0.9713810706307383), np.float64(0.9717950498474984), np.float64(0.971255887992787), np.float64(0.9678899102646829), np.float64(0.9643975365526187), np.float64(0.9625576473139534), np.float64(0.9493802543575888), np.float64(0.999922109103271), np.float64(0.7568880675710397)], [np.float64(0.7994299686113051), np.float64(0.8547120893577029), np.float64(0.8651254107276206), np.float64(0.8661267058443011), np.float64(0.8687384192599589), np.float64(0.8831199363568376), np.float64(0.872086220747739), np.float64(0.8823589466935029), np.float64(0.8896242504249662), np.float64(0.8950043338143446), np.float64(0.9053625854328579), np.float64(0.9183604495565936), np.float64(0.9173168463127627), np.float64(0.9154565977824767), np.float64(0.9112805001212956), np.float64(0.9159070700281102), np.float64(0.9168225333955161), np.float64(0.9275360680897523), np.float64(0.9361267515955785), np.float64(0.9507731832852042), np.float64(0.9608175870582603), np.float64(0.9642250424187311), np.float64(0.967450058731118), np.float64(0.9696277451847665), np.float64(0.9713810706307383), np.float64(0.9717950498474984), np.float64(0.971255887992787), np.float64(0.9678899102646829), np.float64(0.9643975365526187), np.float64(0.9625576473139534), np.float64(0.9493802543575888), np.float64(0.999922109103271), np.float64(0.7568880675710397)], [np.float64(0.8069917263336693), np.float64(0.8418722323521923), np.float64(0.8508442049276884), np.float64(0.8565555135226903), np.float64(0.8590798914916774), np.float64(0.8889829172240481), np.float64(0.8889375534238388), np.float64(0.882408835290241), np.float64(0.870985485117082), np.float64(0.8424206892442433), np.float64(0.8695103905510779), np.float64(0.8689080511494431), np.float64(0.8721355623877385), np.float64(0.8897371775818216), np.float64(0.8897959025376995), np.float64(0.9130905715413471), np.float64(0.9070461966187208), np.float64(0.9102323830861088), np.float64(0.930488604829863), np.float64(0.9259959520414286), np.float64(0.9258296595587338), np.float64(0.909062325197036), np.float64(0.8920931834362887), np.float64(0.8890645279666517), np.float64(0.8895506752253513), np.float64(0.9007979587925655), np.float64(0.9096170459017301), np.float64(0.7951141618355869), np.float64(0.5792267152646642)], [np.float64(0.8171587459227707), np.float64(0.8563061897735709), np.float64(0.866158737044504), np.float64(0.9590305070723064), np.float64(0.9668457999338497), np.float64(0.9743014610007457), np.float64(0.9750246589484306), np.float64(0.973367712198346), np.float64(0.9708551263426998), np.float64(0.9668995859788163), np.float64(0.9704510278717093), np.float64(0.9711836394353875), np.float64(0.9716730331312703), np.float64(0.9737273835468832), np.float64(0.9736328937176898), np.float64(0.9768196415754986), np.float64(0.9755296941326935), np.float64(0.9754181933133795), np.float64(0.9782759154116318), np.float64(0.9761179836575541), np.float64(0.9739364760783584), np.float64(0.9673703828554383), np.float64(0.9582385607969657), np.float64(0.9518988535127954), np.float64(0.9479465652201692), np.float64(0.9479765534565525), np.float64(0.9423031438350744), np.float64(0.8193348474290002), np.float64(0.6105718909415951)]]\n"
     ]
    },
    {
     "data": {
      "text/plain": [
       "<Figure size 640x480 with 0 Axes>"
      ]
     },
     "metadata": {},
     "output_type": "display_data"
    },
    {
     "data": {
      "image/png": "[encoded data removed]",
      "text/plain": [
       "<Figure size 640x480 with 1 Axes>"
      ]
     },
     "metadata": {},
     "output_type": "display_data"
    }
   ],
   "source": [
    "plot_similarities(\n",
    "    module_names=module_names,\n",
    "    module_embeddings=module_embeddings,\n",
    "    module_similarities=module_similarities,\n",
    "    model_name=model.config.model_path.split('/')[-1]\n",
    ")"
   ]
  },
  {
   "cell_type": "markdown",
   "id": "dde69ad0",
   "metadata": {},
   "source": [
    "# LLaVA-1.5-7B"
   ]
  },
  {
   "cell_type": "code",
   "execution_count": 15,
   "id": "6b9a935d",
   "metadata": {},
   "outputs": [
    {
     "name": "stderr",
     "output_type": "stream",
     "text": [
      "Loading checkpoint shards: 100%|██████████| 3/3 [00:11<00:00,  3.90s/it]\n"
     ]
    }
   ],
   "source": [
    "sys.argv = ['notebooks/track_mean_sims_across_layers.ipynb',\n",
    "            '--config', '../configs/models/llava/LLaVA-1.5-7B-VisualBlocks.yaml']\n",
    "\n",
    "config = Config()\n",
    "model = get_model(config.architecture, config)"
   ]
  },
  {
   "cell_type": "code",
   "execution_count": 16,
   "id": "520b509d",
   "metadata": {},
   "outputs": [
    {
     "name": "stdout",
     "output_type": "stream",
     "text": [
      "7.063B parameters\n",
      "LlavaForConditionalGeneration(\n",
      "  (vision_tower): CLIPVisionModel(\n",
      "    (vision_model): CLIPVisionTransformer(\n",
      "      (embeddings): CLIPVisionEmbeddings(\n",
      "        (patch_embedding): Conv2d(3, 1024, kernel_size=(14, 14), stride=(14, 14), bias=False)\n",
      "        (position_embedding): Embedding(577, 1024)\n",
      "      )\n",
      "      (pre_layrnorm): LayerNorm((1024,), eps=1e-05, elementwise_affine=True)\n",
      "      (encoder): CLIPEncoder(\n",
      "        (layers): ModuleList(\n",
      "          (0-23): 24 x CLIPEncoderLayer(\n",
      "            (self_attn): CLIPSdpaAttention(\n",
      "              (k_proj): Linear(in_features=1024, out_features=1024, bias=True)\n",
      "              (v_proj): Linear(in_features=1024, out_features=1024, bias=True)\n",
      "              (q_proj): Linear(in_features=1024, out_features=1024, bias=True)\n",
      "              (out_proj): Linear(in_features=1024, out_features=1024, bias=True)\n",
      "            )\n",
      "            (layer_norm1): LayerNorm((1024,), eps=1e-05, elementwise_affine=True)\n",
      "            (mlp): CLIPMLP(\n",
      "              (activation_fn): QuickGELUActivation()\n",
      "              (fc1): Linear(in_features=1024, out_features=4096, bias=True)\n",
      "              (fc2): Linear(in_features=4096, out_features=1024, bias=True)\n",
      "            )\n",
      "            (layer_norm2): LayerNorm((1024,), eps=1e-05, elementwise_affine=True)\n",
      "          )\n",
      "        )\n",
      "      )\n",
      "      (post_layernorm): LayerNorm((1024,), eps=1e-05, elementwise_affine=True)\n",
      "    )\n",
      "  )\n",
      "  (multi_modal_projector): LlavaMultiModalProjector(\n",
      "    (linear_1): Linear(in_features=1024, out_features=4096, bias=True)\n",
      "    (act): GELUActivation()\n",
      "    (linear_2): Linear(in_features=4096, out_features=4096, bias=True)\n",
      "  )\n",
      "  (language_model): LlamaForCausalLM(\n",
      "    (model): LlamaModel(\n",
      "      (embed_tokens): Embedding(32064, 4096)\n",
      "      (layers): ModuleList(\n",
      "        (0-31): 32 x LlamaDecoderLayer(\n",
      "          (self_attn): LlamaAttention(\n",
      "            (q_proj): Linear(in_features=4096, out_features=4096, bias=False)\n",
      "            (k_proj): Linear(in_features=4096, out_features=4096, bias=False)\n",
      "            (v_proj): Linear(in_features=4096, out_features=4096, bias=False)\n",
      "            (o_proj): Linear(in_features=4096, out_features=4096, bias=False)\n",
      "          )\n",
      "          (mlp): LlamaMLP(\n",
      "            (gate_proj): Linear(in_features=4096, out_features=11008, bias=False)\n",
      "            (up_proj): Linear(in_features=4096, out_features=11008, bias=False)\n",
      "            (down_proj): Linear(in_features=11008, out_features=4096, bias=False)\n",
      "            (act_fn): SiLU()\n",
      "          )\n",
      "          (input_layernorm): LlamaRMSNorm((4096,), eps=1e-05)\n",
      "          (post_attention_layernorm): LlamaRMSNorm((4096,), eps=1e-05)\n",
      "        )\n",
      "      )\n",
      "      (norm): LlamaRMSNorm((4096,), eps=1e-05)\n",
      "      (rotary_emb): LlamaRotaryEmbedding()\n",
      "    )\n",
      "    (lm_head): Linear(in_features=4096, out_features=32064, bias=False)\n",
      "  )\n",
      ")\n"
     ]
    }
   ],
   "source": [
    "print(\"{:.3f}B parameters\".format(model.model.num_parameters() / 1e9))\n",
    "print(model.model)"
   ]
  },
  {
   "cell_type": "code",
   "execution_count": null,
   "id": "6ec4eec4",
   "metadata": {},
   "outputs": [],
   "source": []
  }
 ],
 "metadata": {
  "kernelspec": {
   "display_name": "vlm-lens-base",
   "language": "python",
   "name": "python3"
  },
  "language_info": {
   "codemirror_mode": {
    "name": "ipython",
    "version": 3
   },
   "file_extension": ".py",
   "mimetype": "text/x-python",
   "name": "python",
   "nbconvert_exporter": "python",
   "pygments_lexer": "ipython3",
   "version": "3.10.18"
  }
 },
 "nbformat": 4,
 "nbformat_minor": 5
}

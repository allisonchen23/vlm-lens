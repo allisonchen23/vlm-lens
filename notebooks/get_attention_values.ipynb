{
 "cells": [
  {
   "cell_type": "code",
   "execution_count": 1,
   "id": "9bb1f741",
   "metadata": {},
   "outputs": [
    {
     "name": "stderr",
     "output_type": "stream",
     "text": [
      "/n/fs/ac-project/anaconda3/envs/vlm-lens-base/lib/python3.10/site-packages/tqdm/auto.py:21: TqdmWarning: IProgress not found. Please update jupyter and ipywidgets. See https://ipywidgets.readthedocs.io/en/stable/user_install.html\n",
      "  from .autonotebook import tqdm as notebook_tqdm\n"
     ]
    }
   ],
   "source": [
    "%load_ext autoreload\n",
    "%autoreload 2\n",
    "\n",
    "import io\n",
    "import matplotlib.pyplot as plt\n",
    "import numpy as np\n",
    "import os, sys\n",
    "from scipy.stats import spearmanr\n",
    "import sqlite3\n",
    "import torch\n",
    "from tqdm import tqdm\n",
    "\n",
    "sys.path.insert(0, '../src')\n",
    "sys.path.insert(1, '..')\n",
    "\n",
    "from main import get_model\n",
    "from models.config import Config, IMAGE_TOKEN_IDS\n",
    "import db_utils, visualizations, utils, similarity_utils"
   ]
  },
  {
   "cell_type": "code",
   "execution_count": 2,
   "id": "e49ffa81",
   "metadata": {},
   "outputs": [
    {
     "name": "stderr",
     "output_type": "stream",
     "text": [
      "Loading checkpoint shards: 100%|██████████| 3/3 [00:00<00:00, 12.11it/s]\n",
      "Using a slow image processor as `use_fast` is unset and a slow processor was saved with this model. `use_fast=True` will be the default behavior in v4.52, even if the model was saved with a slow processor. This will result in minor differences in outputs. You'll still be able to use a slow processor with `use_fast=False`.\n"
     ]
    },
    {
     "name": "stdout",
     "output_type": "stream",
     "text": [
      "[1024_100642] Using llava-1.5-7b-hf\n",
      "[1024_100642] Data from: ../data_local/coco/cocoval_50.txt\n",
      "[1024_100642] 7.063B parameters\n",
      "[1024_100642] LlavaForConditionalGeneration(\n",
      "  (vision_tower): CLIPVisionModel(\n",
      "    (vision_model): CLIPVisionTransformer(\n",
      "      (embeddings): CLIPVisionEmbeddings(\n",
      "        (patch_embedding): Conv2d(3, 1024, kernel_size=(14, 14), stride=(14, 14), bias=False)\n",
      "        (position_embedding): Embedding(577, 1024)\n",
      "      )\n",
      "      (pre_layrnorm): LayerNorm((1024,), eps=1e-05, elementwise_affine=True)\n",
      "      (encoder): CLIPEncoder(\n",
      "        (layers): ModuleList(\n",
      "          (0-23): 24 x CLIPEncoderLayer(\n",
      "            (self_attn): CLIPSdpaAttention(\n",
      "              (k_proj): Linear(in_features=1024, out_features=1024, bias=True)\n",
      "              (v_proj): Linear(in_features=1024, out_features=1024, bias=True)\n",
      "              (q_proj): Linear(in_features=1024, out_features=1024, bias=True)\n",
      "              (out_proj): Linear(in_features=1024, out_features=1024, bias=True)\n",
      "            )\n",
      "            (layer_norm1): LayerNorm((1024,), eps=1e-05, elementwise_affine=True)\n",
      "            (mlp): CLIPMLP(\n",
      "              (activation_fn): QuickGELUActivation()\n",
      "              (fc1): Linear(in_features=1024, out_features=4096, bias=True)\n",
      "              (fc2): Linear(in_features=4096, out_features=1024, bias=True)\n",
      "            )\n",
      "            (layer_norm2): LayerNorm((1024,), eps=1e-05, elementwise_affine=True)\n",
      "          )\n",
      "        )\n",
      "      )\n",
      "      (post_layernorm): LayerNorm((1024,), eps=1e-05, elementwise_affine=True)\n",
      "    )\n",
      "  )\n",
      "  (multi_modal_projector): LlavaMultiModalProjector(\n",
      "    (linear_1): Linear(in_features=1024, out_features=4096, bias=True)\n",
      "    (act): GELUActivation()\n",
      "    (linear_2): Linear(in_features=4096, out_features=4096, bias=True)\n",
      "  )\n",
      "  (language_model): LlamaForCausalLM(\n",
      "    (model): LlamaModel(\n",
      "      (embed_tokens): Embedding(32064, 4096)\n",
      "      (layers): ModuleList(\n",
      "        (0-31): 32 x LlamaDecoderLayer(\n",
      "          (self_attn): LlamaAttention(\n",
      "            (q_proj): Linear(in_features=4096, out_features=4096, bias=False)\n",
      "            (k_proj): Linear(in_features=4096, out_features=4096, bias=False)\n",
      "            (v_proj): Linear(in_features=4096, out_features=4096, bias=False)\n",
      "            (o_proj): Linear(in_features=4096, out_features=4096, bias=False)\n",
      "          )\n",
      "          (mlp): LlamaMLP(\n",
      "            (gate_proj): Linear(in_features=4096, out_features=11008, bias=False)\n",
      "            (up_proj): Linear(in_features=4096, out_features=11008, bias=False)\n",
      "            (down_proj): Linear(in_features=11008, out_features=4096, bias=False)\n",
      "            (act_fn): SiLU()\n",
      "          )\n",
      "          (input_layernorm): LlamaRMSNorm((4096,), eps=1e-05)\n",
      "          (post_attention_layernorm): LlamaRMSNorm((4096,), eps=1e-05)\n",
      "        )\n",
      "      )\n",
      "      (norm): LlamaRMSNorm((4096,), eps=1e-05)\n",
      "      (rotary_emb): LlamaRotaryEmbedding()\n",
      "    )\n",
      "    (lm_head): Linear(in_features=4096, out_features=32064, bias=False)\n",
      "  )\n",
      ")\n"
     ]
    }
   ],
   "source": [
    "# TODO: Update config file\n",
    "# Qwen2-VL-2B-Instruct Attention Values\n",
    "# config_path = '../configs/models/qwen/Qwen2-VL-2B-Instruct-VisualBlocks_AttnValues.yaml'\n",
    "# Qwen2-VL-7B-Instruct Attention Values\n",
    "# config_path = '../configs/models/qwen/Qwen2-VL-7B-Instruct-VisualBlocks_AttnValues.yaml'\n",
    "# LLaVA-1.5-7B Attention Values\n",
    "config_path = '../configs/models/llava/LLaVA-1.5-7B-VisualBlocks_AttnValues.yaml'\n",
    "\n",
    "sys.argv = ['notebooks/track_mean_sims_across_layers.ipynb',\n",
    "            '--config', config_path]\n",
    "\n",
    "config = Config()\n",
    "model = get_model(config.architecture, config)\n",
    "utils.informal_log(\"Using {}\".format(config.get_model_id()))\n",
    "utils.informal_log(\"Data from: {}\".format(config.input_dir))\n",
    "# Print # parameters and model architecture\n",
    "utils.informal_log(\"{:.3f}B parameters\".format(model.model.num_parameters() / 1e9))\n",
    "utils.informal_log(model.model)"
   ]
  },
  {
   "cell_type": "code",
   "execution_count": 3,
   "id": "607976a4",
   "metadata": {},
   "outputs": [
    {
     "name": "stdout",
     "output_type": "stream",
     "text": [
      "vision_tower.vision_model.encoder.layers.0.self_attn.v_proj\n",
      "vision_tower.vision_model.encoder.layers.1.self_attn.v_proj\n",
      "vision_tower.vision_model.encoder.layers.2.self_attn.v_proj\n",
      "vision_tower.vision_model.encoder.layers.3.self_attn.v_proj\n",
      "vision_tower.vision_model.encoder.layers.4.self_attn.v_proj\n",
      "vision_tower.vision_model.encoder.layers.5.self_attn.v_proj\n",
      "vision_tower.vision_model.encoder.layers.6.self_attn.v_proj\n",
      "vision_tower.vision_model.encoder.layers.7.self_attn.v_proj\n",
      "vision_tower.vision_model.encoder.layers.8.self_attn.v_proj\n",
      "vision_tower.vision_model.encoder.layers.9.self_attn.v_proj\n",
      "vision_tower.vision_model.encoder.layers.10.self_attn.v_proj\n",
      "vision_tower.vision_model.encoder.layers.11.self_attn.v_proj\n",
      "vision_tower.vision_model.encoder.layers.12.self_attn.v_proj\n",
      "vision_tower.vision_model.encoder.layers.13.self_attn.v_proj\n",
      "vision_tower.vision_model.encoder.layers.14.self_attn.v_proj\n",
      "vision_tower.vision_model.encoder.layers.15.self_attn.v_proj\n",
      "vision_tower.vision_model.encoder.layers.16.self_attn.v_proj\n",
      "vision_tower.vision_model.encoder.layers.17.self_attn.v_proj\n",
      "vision_tower.vision_model.encoder.layers.18.self_attn.v_proj\n",
      "vision_tower.vision_model.encoder.layers.19.self_attn.v_proj\n",
      "vision_tower.vision_model.encoder.layers.20.self_attn.v_proj\n",
      "vision_tower.vision_model.encoder.layers.21.self_attn.v_proj\n",
      "vision_tower.vision_model.encoder.layers.22.self_attn.v_proj\n",
      "vision_tower.vision_model.encoder.layers.23.self_attn.v_proj\n",
      "multi_modal_projector\n",
      "language_model.model.layers.0.self_attn.v_proj\n",
      "language_model.model.layers.1.self_attn.v_proj\n",
      "language_model.model.layers.2.self_attn.v_proj\n",
      "language_model.model.layers.3.self_attn.v_proj\n",
      "language_model.model.layers.4.self_attn.v_proj\n",
      "language_model.model.layers.5.self_attn.v_proj\n",
      "language_model.model.layers.6.self_attn.v_proj\n",
      "language_model.model.layers.7.self_attn.v_proj\n",
      "language_model.model.layers.8.self_attn.v_proj\n",
      "language_model.model.layers.9.self_attn.v_proj\n",
      "language_model.model.layers.10.self_attn.v_proj\n",
      "language_model.model.layers.11.self_attn.v_proj\n",
      "language_model.model.layers.12.self_attn.v_proj\n",
      "language_model.model.layers.13.self_attn.v_proj\n",
      "language_model.model.layers.14.self_attn.v_proj\n",
      "language_model.model.layers.15.self_attn.v_proj\n",
      "language_model.model.layers.16.self_attn.v_proj\n",
      "language_model.model.layers.17.self_attn.v_proj\n",
      "language_model.model.layers.18.self_attn.v_proj\n",
      "language_model.model.layers.19.self_attn.v_proj\n",
      "language_model.model.layers.20.self_attn.v_proj\n",
      "language_model.model.layers.21.self_attn.v_proj\n",
      "language_model.model.layers.22.self_attn.v_proj\n",
      "language_model.model.layers.23.self_attn.v_proj\n",
      "language_model.model.layers.24.self_attn.v_proj\n",
      "language_model.model.layers.25.self_attn.v_proj\n",
      "language_model.model.layers.26.self_attn.v_proj\n",
      "language_model.model.layers.27.self_attn.v_proj\n",
      "language_model.model.layers.28.self_attn.v_proj\n",
      "language_model.model.layers.29.self_attn.v_proj\n",
      "language_model.model.layers.30.self_attn.v_proj\n",
      "language_model.model.layers.31.self_attn.v_proj\n",
      "language_model.model.norm\n",
      "[1024_100649] 58 modules matched\n"
     ]
    }
   ],
   "source": [
    "n_modules = 0\n",
    "layer_names = []\n",
    "for name, module in model.model.named_modules():\n",
    "    if model.config.matches_module(name):\n",
    "        print(name)\n",
    "        layer_names.append(name)\n",
    "        n_modules += 1\n",
    "utils.informal_log(\"{} modules matched\".format(n_modules))"
   ]
  },
  {
   "cell_type": "code",
   "execution_count": 65,
   "id": "f8f5a93f",
   "metadata": {},
   "outputs": [
    {
     "name": "stdout",
     "output_type": "stream",
     "text": [
      "[1023_102903] Database path: ../output/LLaVA-1.5-7B/AttentionValues.db\n"
     ]
    },
    {
     "name": "stderr",
     "output_type": "stream",
     "text": [
      "Running forward hooks on data: 100%|██████████| 50/50 [32:22<00:00, 38.86s/it]\n"
     ]
    }
   ],
   "source": [
    "db_path = model.config.output_db\n",
    "utils.informal_log(\"Database path: {}\".format(db_path))\n",
    "proceed = True\n",
    "if os.path.exists(db_path):\n",
    "    response = input(\"File exists at {}. Are you sure you want to overwrite? (Y/N)\".format(db_path))\n",
    "    if response.lower() != \"y\":\n",
    "        proceed = False\n",
    "    else:\n",
    "        os.remove(db_path)\n",
    "\n",
    "if proceed:\n",
    "    # Run model on images\n",
    "    model.run(save_tokens=True)\n",
    "else:\n",
    "    utils.informal_log(\"Not overwriting file at {}\".format(db_path))"
   ]
  },
  {
   "cell_type": "code",
   "execution_count": 4,
   "id": "9c31677d",
   "metadata": {},
   "outputs": [
    {
     "name": "stdout",
     "output_type": "stream",
     "text": [
      "[1024_100657] ../output/LLaVA-1.5-7B/AttentionValues.db\n"
     ]
    }
   ],
   "source": [
    "db_path = model.config.output_db\n",
    "utils.informal_log(db_path)\n",
    "connection = sqlite3.connect(db_path)\n",
    "connection.row_factory = sqlite3.Row\n",
    "cursor = connection.cursor()\n",
    "\n",
    "# for r in cursor.execute(\"\"\"\n",
    "#   SELECT layer, tensor\n",
    "#   FROM tensors\n",
    "#   LIMIT 20\n",
    "# \"\"\"):\n",
    "#     tensor_bytes = r['tensor']\n",
    "#     tensor = torch.load(io.BytesIO(tensor_bytes), map_location='cpu', weights_only=False)\n",
    "\n",
    "#     print(r['layer'], tensor.shape)\n",
    "\n",
    "# connection.close()"
   ]
  },
  {
   "cell_type": "code",
   "execution_count": 18,
   "id": "1ba50d11",
   "metadata": {},
   "outputs": [
    {
     "name": "stdout",
     "output_type": "stream",
     "text": [
      "../output/LLaVA-1.5-7B/AttentionValues\n"
     ]
    },
    {
     "name": "stderr",
     "output_type": "stream",
     "text": [
      "100%|██████████| 58/58 [02:05<00:00,  2.16s/it]\n"
     ]
    }
   ],
   "source": [
    "# Compute image-pair similarities per layer\n",
    "print(os.path.splitext(db_path)[0])\n",
    "db_dir = os.path.splitext(db_path)[0]\n",
    "module_names, module_embeddings, module_similarities = similarity_utils.compute_image_pair_similarities(\n",
    "    database_path=db_dir,\n",
    "    model=model,\n",
    "    layer_names=layer_names,\n",
    "    modalities=['vision', \"text+vision\"],\n",
    "    attn_component=\"value\")\n",
    "\n"
   ]
  },
  {
   "cell_type": "code",
   "execution_count": 21,
   "id": "46c04ac2",
   "metadata": {},
   "outputs": [
    {
     "name": "stdout",
     "output_type": "stream",
     "text": [
      "['language_model.model.layers.30.self_attn.v_proj', 'language_model.model.layers.31.self_attn.v_proj-vision', 'language_model.model.layers.31.self_attn.v_proj', 'language_model.model.norm-vision', 'language_model.model.norm']\n",
      "[0.88388114 0.93201661 0.89549241 0.86790926 0.90855264]\n",
      "[0.8826382  0.93169669 0.89474324 0.8671228  0.90781291]\n"
     ]
    }
   ],
   "source": [
    "# print(module_names)\n",
    "# for e in module_embeddings:\n",
    "#     print(e.shape)\n",
    "\n",
    "# for s in module_similarities:\n",
    "#     print(s.shape)\n",
    "\n",
    "print(module_names[-5:])\n",
    "print(module_similarities[-1][:5])\n",
    "print(module_similarities[-2][:5])"
   ]
  },
  {
   "cell_type": "code",
   "execution_count": 19,
   "id": "e6a67b95",
   "metadata": {},
   "outputs": [
    {
     "name": "stdout",
     "output_type": "stream",
     "text": [
      "dict_keys(['vision_tower', 'multi_modal_projector', 'language_model (vision)', 'language_model'])\n"
     ]
    },
    {
     "data": {
      "text/plain": [
       "<Figure size 640x480 with 0 Axes>"
      ]
     },
     "metadata": {},
     "output_type": "display_data"
    },
    {
     "data": {
      "image/png": "[encoded data removed]",
      "text/plain": [
       "<Figure size 640x480 with 1 Axes>"
      ]
     },
     "metadata": {},
     "output_type": "display_data"
    }
   ],
   "source": [
    "# Computer mean similarity at each layer (using vision or vision + text)\n",
    "# and plot\n",
    "\n",
    "mean_embeddings, mean_similarities = similarity_utils.plot_similarities(\n",
    "    module_names=module_names,\n",
    "    module_embeddings=module_embeddings,\n",
    "    module_similarities=module_similarities,\n",
    "    vision_key=model.get_vision_key(),\n",
    "    model_name=model.config.get_model_id())"
   ]
  },
  {
   "cell_type": "code",
   "execution_count": null,
   "id": "ad7c5705",
   "metadata": {},
   "outputs": [],
   "source": []
  }
 ],
 "metadata": {
  "kernelspec": {
   "display_name": "vlm-lens-base",
   "language": "python",
   "name": "python3"
  },
  "language_info": {
   "codemirror_mode": {
    "name": "ipython",
    "version": 3
   },
   "file_extension": ".py",
   "mimetype": "text/x-python",
   "name": "python",
   "nbconvert_exporter": "python",
   "pygments_lexer": "ipython3",
   "version": "3.10.18"
  }
 },
 "nbformat": 4,
 "nbformat_minor": 5
}

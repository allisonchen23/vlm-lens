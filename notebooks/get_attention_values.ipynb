{
 "cells": [
  {
   "cell_type": "code",
   "execution_count": 8,
   "id": "9bb1f741",
   "metadata": {},
   "outputs": [
    {
     "name": "stdout",
     "output_type": "stream",
     "text": [
      "The autoreload extension is already loaded. To reload it, use:\n",
      "  %reload_ext autoreload\n"
     ]
    }
   ],
   "source": [
    "%load_ext autoreload\n",
    "%autoreload 2\n",
    "\n",
    "import io\n",
    "import matplotlib.pyplot as plt\n",
    "import numpy as np\n",
    "import os, sys\n",
    "from scipy.stats import spearmanr\n",
    "import sqlite3\n",
    "import torch\n",
    "from tqdm import tqdm\n",
    "\n",
    "sys.path.insert(0, '../src')\n",
    "sys.path.insert(1, '..')\n",
    "\n",
    "from main import get_model\n",
    "from models.config import Config, IMAGE_TOKEN_IDS\n",
    "import db_utils, visualizations, utils, similarity_utils"
   ]
  },
  {
   "cell_type": "code",
   "execution_count": 13,
   "id": "e49ffa81",
   "metadata": {},
   "outputs": [
    {
     "name": "stderr",
     "output_type": "stream",
     "text": [
      "Loading checkpoint shards: 100%|██████████| 2/2 [00:00<00:00,  7.13it/s]\n"
     ]
    },
    {
     "name": "stdout",
     "output_type": "stream",
     "text": [
      "[1022_110452] Using Qwen2-VL-2B-Instruct\n",
      "[1022_110452] 2.209B parameters\n",
      "[1022_110452] Qwen2VLForConditionalGeneration(\n",
      "  (visual): Qwen2VisionTransformerPretrainedModel(\n",
      "    (patch_embed): PatchEmbed(\n",
      "      (proj): Conv3d(3, 1280, kernel_size=(2, 14, 14), stride=(2, 14, 14), bias=False)\n",
      "    )\n",
      "    (rotary_pos_emb): VisionRotaryEmbedding()\n",
      "    (blocks): ModuleList(\n",
      "      (0-31): 32 x Qwen2VLVisionBlock(\n",
      "        (norm1): LayerNorm((1280,), eps=1e-06, elementwise_affine=True)\n",
      "        (norm2): LayerNorm((1280,), eps=1e-06, elementwise_affine=True)\n",
      "        (attn): VisionSdpaAttention(\n",
      "          (qkv): Linear(in_features=1280, out_features=3840, bias=True)\n",
      "          (proj): Linear(in_features=1280, out_features=1280, bias=True)\n",
      "        )\n",
      "        (mlp): VisionMlp(\n",
      "          (fc1): Linear(in_features=1280, out_features=5120, bias=True)\n",
      "          (act): QuickGELUActivation()\n",
      "          (fc2): Linear(in_features=5120, out_features=1280, bias=True)\n",
      "        )\n",
      "      )\n",
      "    )\n",
      "    (merger): PatchMerger(\n",
      "      (ln_q): LayerNorm((1280,), eps=1e-06, elementwise_affine=True)\n",
      "      (mlp): Sequential(\n",
      "        (0): Linear(in_features=5120, out_features=5120, bias=True)\n",
      "        (1): GELU(approximate='none')\n",
      "        (2): Linear(in_features=5120, out_features=1536, bias=True)\n",
      "      )\n",
      "    )\n",
      "  )\n",
      "  (model): Qwen2VLModel(\n",
      "    (embed_tokens): Embedding(151936, 1536)\n",
      "    (layers): ModuleList(\n",
      "      (0-27): 28 x Qwen2VLDecoderLayer(\n",
      "        (self_attn): Qwen2VLSdpaAttention(\n",
      "          (q_proj): Linear(in_features=1536, out_features=1536, bias=True)\n",
      "          (k_proj): Linear(in_features=1536, out_features=256, bias=True)\n",
      "          (v_proj): Linear(in_features=1536, out_features=256, bias=True)\n",
      "          (o_proj): Linear(in_features=1536, out_features=1536, bias=False)\n",
      "          (rotary_emb): Qwen2VLRotaryEmbedding()\n",
      "        )\n",
      "        (mlp): Qwen2MLP(\n",
      "          (gate_proj): Linear(in_features=1536, out_features=8960, bias=False)\n",
      "          (up_proj): Linear(in_features=1536, out_features=8960, bias=False)\n",
      "          (down_proj): Linear(in_features=8960, out_features=1536, bias=False)\n",
      "          (act_fn): SiLU()\n",
      "        )\n",
      "        (input_layernorm): Qwen2RMSNorm((1536,), eps=1e-06)\n",
      "        (post_attention_layernorm): Qwen2RMSNorm((1536,), eps=1e-06)\n",
      "      )\n",
      "    )\n",
      "    (norm): Qwen2RMSNorm((1536,), eps=1e-06)\n",
      "    (rotary_emb): Qwen2VLRotaryEmbedding()\n",
      "  )\n",
      "  (lm_head): Linear(in_features=1536, out_features=151936, bias=False)\n",
      ")\n"
     ]
    }
   ],
   "source": [
    "# TODO: Update config file\n",
    "# Qwen2-VL-2B-Instruct Attention Values\n",
    "config_path = '../configs/models/qwen/Qwen2-VL-2B-Instruct-VisualBlocks_AttnValues.yaml'\n",
    "# Qwen2-VL-7B-Instruct Hidden Representations\n",
    "# config_path = '../configs/models/qwen/Qwen2-VL-7B-Instruct-VisualBlocks.yaml'\n",
    "# LLaVA-1.5-7B Hidden Representations\n",
    "# config_path = '../configs/models/llava/LLaVA-1.5-7B-VisualBlocks.yaml'\n",
    "\n",
    "sys.argv = ['notebooks/track_mean_sims_across_layers.ipynb',\n",
    "            '--config', config_path]\n",
    "\n",
    "config = Config()\n",
    "model = get_model(config.architecture, config)\n",
    "utils.informal_log(\"Using {}\".format(config.get_model_id()))\n",
    "# Print # parameters and model architecture\n",
    "utils.informal_log(\"{:.3f}B parameters\".format(model.model.num_parameters() / 1e9))\n",
    "utils.informal_log(model.model)"
   ]
  },
  {
   "cell_type": "code",
   "execution_count": 14,
   "id": "607976a4",
   "metadata": {},
   "outputs": [
    {
     "name": "stdout",
     "output_type": "stream",
     "text": [
      "visual.blocks.0.attn.qkv\n",
      "model.layers.0.self_attn.v_proj\n",
      "2 modules matched\n"
     ]
    }
   ],
   "source": [
    "n_modules = 0\n",
    "for name, module in model.model.named_modules():\n",
    "    if model.config.matches_module(name):\n",
    "        print(name)\n",
    "        n_modules += 1\n",
    "print(\"{} modules matched\".format(n_modules))"
   ]
  },
  {
   "cell_type": "code",
   "execution_count": 19,
   "id": "f8f5a93f",
   "metadata": {},
   "outputs": [
    {
     "name": "stdout",
     "output_type": "stream",
     "text": [
      "[1022_113202] Database path: ../output/Qwen2-VL-2B-Instruct/AttentionValues.db\n"
     ]
    },
    {
     "name": "stderr",
     "output_type": "stream",
     "text": [
      "Running forward hooks on data: 100%|██████████| 2/2 [00:00<00:00,  6.71it/s]\n"
     ]
    }
   ],
   "source": [
    "db_path = model.config.output_db\n",
    "utils.informal_log(\"Database path: {}\".format(db_path))\n",
    "proceed = True\n",
    "if os.path.exists(db_path):\n",
    "    response = input(\"File exists at {}. Are you sure you want to overwrite? (Y/N)\".format(db_path))\n",
    "    if response.lower() != \"y\":\n",
    "        proceed = False\n",
    "\n",
    "if proceed:\n",
    "    # Run model on images\n",
    "    model.run(save_tokens=True)\n",
    "else:\n",
    "    utils.informal_log(\"Not overwriting file at {}\".format(db_path))"
   ]
  },
  {
   "cell_type": "code",
   "execution_count": null,
   "id": "9c31677d",
   "metadata": {},
   "outputs": [
    {
     "name": "stdout",
     "output_type": "stream",
     "text": [
      "[1022_105959] ../output/Qwen2-VL-2B-Instruct/AttentionValues.db\n",
      "input_ids torch.Size([1, 172])\n",
      "visual.blocks.0.attn.qkv torch.Size([576, 3840])\n",
      "model.layers.0.self_attn.v_proj torch.Size([1, 172, 256])\n",
      "input_ids torch.Size([1, 172])\n",
      "visual.blocks.0.attn.qkv torch.Size([576, 3840])\n",
      "model.layers.0.self_attn.v_proj torch.Size([1, 172, 256])\n",
      "input_ids torch.Size([1, 172])\n",
      "visual.blocks.0.attn.qkv torch.Size([576, 3840])\n",
      "model.layers.0.self_attn.v_proj torch.Size([1, 172, 256])\n",
      "input_ids torch.Size([1, 172])\n",
      "visual.blocks.0.attn.qkv torch.Size([576, 3840])\n",
      "model.layers.0.self_attn.v_proj torch.Size([1, 172, 256])\n",
      "input_ids torch.Size([1, 172])\n",
      "visual.blocks.0.attn.qkv torch.Size([576, 3840])\n",
      "model.layers.0.self_attn.v_proj torch.Size([1, 172, 256])\n",
      "input_ids torch.Size([1, 172])\n",
      "visual.blocks.0.attn.qkv torch.Size([576, 3840])\n",
      "model.layers.0.self_attn.v_proj torch.Size([1, 172, 256])\n",
      "input_ids torch.Size([1, 172])\n",
      "visual.blocks.0.attn.qkv torch.Size([576, 3840])\n"
     ]
    }
   ],
   "source": [
    "db_path = model.config.output_db\n",
    "utils.informal_log(db_path)\n",
    "connection = sqlite3.connect(db_path)\n",
    "connection.row_factory = sqlite3.Row\n",
    "cursor = connection.cursor()\n",
    "\n",
    "for r in cursor.execute(\"\"\"\n",
    "  SELECT layer, tensor\n",
    "  FROM tensors\n",
    "  LIMIT 20\n",
    "\"\"\"):\n",
    "    tensor_bytes = r['tensor']\n",
    "    tensor = torch.load(io.BytesIO(tensor_bytes), map_location='cpu', weights_only=False)\n",
    "\n",
    "    print(r['layer'], tensor.shape)\n",
    "\n",
    "connection.close()"
   ]
  },
  {
   "cell_type": "code",
   "execution_count": 27,
   "id": "fa3fb857",
   "metadata": {},
   "outputs": [
    {
     "name": "stdout",
     "output_type": "stream",
     "text": [
      "(2, 576, 1280)\n"
     ]
    }
   ],
   "source": [
    "# Extract attention values from qkv\n",
    "\n",
    "def get_attention(db_path,\n",
    "                  layer_name,\n",
    "                  unwrap_fn,\n",
    "                  component=\"value\"):\n",
    "    assert component in [\"query\", \"key\", \"value\"], \\\n",
    "        \"Unrecognized component: {}\".format(component)\n",
    "\n",
    "    embeddings_data = db_utils.get_embeddings_by_layer(\n",
    "        db_path=db_path,\n",
    "        layer_name=layer_name)\n",
    "    embeddings, are_same_shapes = db_utils.unwrap_embeddings(embeddings_data)\n",
    "    if \"qkv\" in layer_name:\n",
    "        qkv = unwrap_fn(embeddings)\n",
    "\n",
    "    if component == \"query\":\n",
    "        return qkv[0, ...]\n",
    "    elif component == \"key\":\n",
    "        return qkv[1, ...]\n",
    "    else: # value\n",
    "        return qkv[2, ...]\n",
    "\n",
    "attn_value = get_attention(\n",
    "    db_path=db_path,\n",
    "    layer_name=\"visual.blocks.0.attn.qkv\",\n",
    "    unwrap_fn=model.unwrap_qkv(),\n",
    "    component=\"value\"\n",
    ")\n",
    "print(attn_value.shape)\n"
   ]
  },
  {
   "cell_type": "code",
   "execution_count": 23,
   "id": "1ba50d11",
   "metadata": {},
   "outputs": [
    {
     "name": "stderr",
     "output_type": "stream",
     "text": [
      "100%|██████████| 58/58 [17:36<00:00, 18.21s/it]\n"
     ]
    }
   ],
   "source": [
    "# Compute image-pair similarities per layer\n",
    "\n",
    "module_names, module_embeddings, module_similarities = similarity_utils.compute_image_pair_similarities(\n",
    "    database_path=db_path,\n",
    "    model=model,\n",
    "    layer_names=None,\n",
    "    # layer_names=[\"language_model.model.layers.0\"],\n",
    "    modalities=['vision', \"text+vision\"])"
   ]
  },
  {
   "cell_type": "code",
   "execution_count": 30,
   "id": "e6a67b95",
   "metadata": {},
   "outputs": [
    {
     "data": {
      "text/plain": [
       "<Figure size 640x480 with 0 Axes>"
      ]
     },
     "metadata": {},
     "output_type": "display_data"
    },
    {
     "data": {
      "image/png": "[encoded data removed]",
      "text/plain": [
       "<Figure size 640x480 with 1 Axes>"
      ]
     },
     "metadata": {},
     "output_type": "display_data"
    }
   ],
   "source": [
    "# Computer mean similarity at each layer (using vision or vision + text)\n",
    "# and plot\n",
    "\n",
    "mean_embeddings, mean_similarities = similarity_utils.plot_similarities(\n",
    "    module_names=module_names,\n",
    "    module_embeddings=module_embeddings,\n",
    "    module_similarities=module_similarities,\n",
    "    vision_key=model.get_vision_key(),\n",
    "    model_name=model.config.get_model_id())"
   ]
  }
 ],
 "metadata": {
  "kernelspec": {
   "display_name": "vlm-lens-base",
   "language": "python",
   "name": "python3"
  },
  "language_info": {
   "codemirror_mode": {
    "name": "ipython",
    "version": 3
   },
   "file_extension": ".py",
   "mimetype": "text/x-python",
   "name": "python",
   "nbconvert_exporter": "python",
   "pygments_lexer": "ipython3",
   "version": "3.10.18"
  }
 },
 "nbformat": 4,
 "nbformat_minor": 5
}

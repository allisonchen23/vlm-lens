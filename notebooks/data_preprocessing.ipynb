{
 "cells": [
  {
   "cell_type": "code",
   "execution_count": 2,
   "id": "c915b6e7",
   "metadata": {},
   "outputs": [],
   "source": [
    "%load_ext autoreload\n",
    "%autoreload 2\n",
    "\n",
    "import matplotlib.pyplot as plt\n",
    "import numpy as np\n",
    "import os, sys\n",
    "import sqlite3\n",
    "import torch\n",
    "import random\n",
    "\n",
    "sys.path.insert(0, '../src')\n",
    "sys.path.insert(1, '..')\n",
    "PATH_TO_ROOT = '..'\n",
    "\n",
    "import utils\n"
   ]
  },
  {
   "cell_type": "markdown",
   "id": "6e4a19ea",
   "metadata": {},
   "source": [
    "### Randomly Select Images from MSCOCO"
   ]
  },
  {
   "cell_type": "code",
   "execution_count": null,
   "id": "a04e612e",
   "metadata": {},
   "outputs": [],
   "source": []
  },
  {
   "cell_type": "code",
   "execution_count": 3,
   "id": "ce668a28",
   "metadata": {},
   "outputs": [
    {
     "name": "stdout",
     "output_type": "stream",
     "text": [
      "Saved file to ../data_local/coco/cocoval_50.txt\n"
     ]
    }
   ],
   "source": [
    "n_select = 50\n",
    "seed = 123\n",
    "\n",
    "dataset_input_dir = os.path.join(PATH_TO_ROOT, 'data_local/coco/cocoval')\n",
    "dataset_output_file = os.path.join(PATH_TO_ROOT, 'data_local', 'coco', 'cocoval_{}.txt'.format(n_select))\n",
    "# utils.ensure_dir(dataset_output_dir)\n",
    "\n",
    "filenames = os.listdir(os.path.join(dataset_input_dir))\n",
    "\n",
    "# Randomly select n_select items\n",
    "random.seed(seed)\n",
    "selected_filenames = random.sample(filenames, n_select)\n",
    "assert len(selected_filenames) == len(set(selected_filenames))\n",
    "\n",
    "# Get full paths for selected files\n",
    "input_selected_filepaths = [os.path.join(dataset_input_dir, filename) for filename in selected_filenames]\n",
    "\n",
    "# Write to file\n",
    "assert len(input_selected_filepaths) == n_select\n",
    "utils.write_file(input_selected_filepaths, dataset_output_file, overwrite=True)"
   ]
  },
  {
   "cell_type": "code",
   "execution_count": null,
   "id": "1159a69b",
   "metadata": {},
   "outputs": [],
   "source": []
  }
 ],
 "metadata": {
  "kernelspec": {
   "display_name": "vlm-lens-base",
   "language": "python",
   "name": "python3"
  },
  "language_info": {
   "codemirror_mode": {
    "name": "ipython",
    "version": 3
   },
   "file_extension": ".py",
   "mimetype": "text/x-python",
   "name": "python",
   "nbconvert_exporter": "python",
   "pygments_lexer": "ipython3",
   "version": "3.10.18"
  }
 },
 "nbformat": 4,
 "nbformat_minor": 5
}
